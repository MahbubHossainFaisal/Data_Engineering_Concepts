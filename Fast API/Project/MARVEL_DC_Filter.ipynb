{
 "cells": [
  {
   "cell_type": "code",
   "execution_count": 1,
   "id": "3bcd6eba",
   "metadata": {},
   "outputs": [
    {
     "name": "stderr",
     "output_type": "stream",
     "text": [
      "C:\\Users\\Mahbub\\anaconda3\\lib\\site-packages\\pandas\\core\\computation\\expressions.py:21: UserWarning: Pandas requires version '2.8.4' or newer of 'numexpr' (version '2.8.3' currently installed).\n",
      "  from pandas.core.computation.check import NUMEXPR_INSTALLED\n",
      "C:\\Users\\Mahbub\\anaconda3\\lib\\site-packages\\pandas\\core\\arrays\\masked.py:60: UserWarning: Pandas requires version '1.3.6' or newer of 'bottleneck' (version '1.3.5' currently installed).\n",
      "  from pandas.core import (\n"
     ]
    },
    {
     "data": {
      "text/html": [
       "<div>\n",
       "<style scoped>\n",
       "    .dataframe tbody tr th:only-of-type {\n",
       "        vertical-align: middle;\n",
       "    }\n",
       "\n",
       "    .dataframe tbody tr th {\n",
       "        vertical-align: top;\n",
       "    }\n",
       "\n",
       "    .dataframe thead th {\n",
       "        text-align: right;\n",
       "    }\n",
       "</style>\n",
       "<table border=\"1\" class=\"dataframe\">\n",
       "  <thead>\n",
       "    <tr style=\"text-align: right;\">\n",
       "      <th></th>\n",
       "      <th>id</th>\n",
       "      <th>name</th>\n",
       "      <th>slug</th>\n",
       "      <th>powerstats</th>\n",
       "      <th>appearance</th>\n",
       "      <th>biography</th>\n",
       "      <th>work</th>\n",
       "      <th>connections</th>\n",
       "      <th>images</th>\n",
       "    </tr>\n",
       "  </thead>\n",
       "  <tbody>\n",
       "    <tr>\n",
       "      <th>0</th>\n",
       "      <td>1</td>\n",
       "      <td>A-Bomb</td>\n",
       "      <td>1-a-bomb</td>\n",
       "      <td>{'intelligence': 38, 'strength': 100, 'speed':...</td>\n",
       "      <td>{'gender': 'Male', 'race': 'Human', 'height': ...</td>\n",
       "      <td>{'fullName': 'Richard Milhouse Jones', 'alterE...</td>\n",
       "      <td>{'occupation': 'Musician, adventurer, author; ...</td>\n",
       "      <td>{'groupAffiliation': 'Hulk Family; Excelsior (...</td>\n",
       "      <td>{'xs': 'https://cdn.jsdelivr.net/gh/akabab/sup...</td>\n",
       "    </tr>\n",
       "    <tr>\n",
       "      <th>1</th>\n",
       "      <td>2</td>\n",
       "      <td>Abe Sapien</td>\n",
       "      <td>2-abe-sapien</td>\n",
       "      <td>{'intelligence': 88, 'strength': 28, 'speed': ...</td>\n",
       "      <td>{'gender': 'Male', 'race': 'Icthyo Sapien', 'h...</td>\n",
       "      <td>{'fullName': 'Abraham Sapien', 'alterEgos': 'N...</td>\n",
       "      <td>{'occupation': 'Paranormal Investigator', 'bas...</td>\n",
       "      <td>{'groupAffiliation': 'Bureau for Paranormal Re...</td>\n",
       "      <td>{'xs': 'https://cdn.jsdelivr.net/gh/akabab/sup...</td>\n",
       "    </tr>\n",
       "    <tr>\n",
       "      <th>2</th>\n",
       "      <td>3</td>\n",
       "      <td>Abin Sur</td>\n",
       "      <td>3-abin-sur</td>\n",
       "      <td>{'intelligence': 50, 'strength': 90, 'speed': ...</td>\n",
       "      <td>{'gender': 'Male', 'race': 'Ungaran', 'height'...</td>\n",
       "      <td>{'fullName': '', 'alterEgos': 'No alter egos f...</td>\n",
       "      <td>{'occupation': 'Green Lantern, former history ...</td>\n",
       "      <td>{'groupAffiliation': 'Green Lantern Corps, Bla...</td>\n",
       "      <td>{'xs': 'https://cdn.jsdelivr.net/gh/akabab/sup...</td>\n",
       "    </tr>\n",
       "    <tr>\n",
       "      <th>3</th>\n",
       "      <td>4</td>\n",
       "      <td>Abomination</td>\n",
       "      <td>4-abomination</td>\n",
       "      <td>{'intelligence': 63, 'strength': 80, 'speed': ...</td>\n",
       "      <td>{'gender': 'Male', 'race': 'Human / Radiation'...</td>\n",
       "      <td>{'fullName': 'Emil Blonsky', 'alterEgos': 'No ...</td>\n",
       "      <td>{'occupation': 'Ex-Spy', 'base': 'Mobile'}</td>\n",
       "      <td>{'groupAffiliation': 'former member of the cre...</td>\n",
       "      <td>{'xs': 'https://cdn.jsdelivr.net/gh/akabab/sup...</td>\n",
       "    </tr>\n",
       "    <tr>\n",
       "      <th>4</th>\n",
       "      <td>5</td>\n",
       "      <td>Abraxas</td>\n",
       "      <td>5-abraxas</td>\n",
       "      <td>{'intelligence': 88, 'strength': 63, 'speed': ...</td>\n",
       "      <td>{'gender': 'Male', 'race': 'Cosmic Entity', 'h...</td>\n",
       "      <td>{'fullName': 'Abraxas', 'alterEgos': 'No alter...</td>\n",
       "      <td>{'occupation': 'Dimensional destroyer', 'base'...</td>\n",
       "      <td>{'groupAffiliation': 'Cosmic Beings', 'relativ...</td>\n",
       "      <td>{'xs': 'https://cdn.jsdelivr.net/gh/akabab/sup...</td>\n",
       "    </tr>\n",
       "  </tbody>\n",
       "</table>\n",
       "</div>"
      ],
      "text/plain": [
       "   id         name           slug  \\\n",
       "0   1       A-Bomb       1-a-bomb   \n",
       "1   2   Abe Sapien   2-abe-sapien   \n",
       "2   3     Abin Sur     3-abin-sur   \n",
       "3   4  Abomination  4-abomination   \n",
       "4   5      Abraxas      5-abraxas   \n",
       "\n",
       "                                          powerstats  \\\n",
       "0  {'intelligence': 38, 'strength': 100, 'speed':...   \n",
       "1  {'intelligence': 88, 'strength': 28, 'speed': ...   \n",
       "2  {'intelligence': 50, 'strength': 90, 'speed': ...   \n",
       "3  {'intelligence': 63, 'strength': 80, 'speed': ...   \n",
       "4  {'intelligence': 88, 'strength': 63, 'speed': ...   \n",
       "\n",
       "                                          appearance  \\\n",
       "0  {'gender': 'Male', 'race': 'Human', 'height': ...   \n",
       "1  {'gender': 'Male', 'race': 'Icthyo Sapien', 'h...   \n",
       "2  {'gender': 'Male', 'race': 'Ungaran', 'height'...   \n",
       "3  {'gender': 'Male', 'race': 'Human / Radiation'...   \n",
       "4  {'gender': 'Male', 'race': 'Cosmic Entity', 'h...   \n",
       "\n",
       "                                           biography  \\\n",
       "0  {'fullName': 'Richard Milhouse Jones', 'alterE...   \n",
       "1  {'fullName': 'Abraham Sapien', 'alterEgos': 'N...   \n",
       "2  {'fullName': '', 'alterEgos': 'No alter egos f...   \n",
       "3  {'fullName': 'Emil Blonsky', 'alterEgos': 'No ...   \n",
       "4  {'fullName': 'Abraxas', 'alterEgos': 'No alter...   \n",
       "\n",
       "                                                work  \\\n",
       "0  {'occupation': 'Musician, adventurer, author; ...   \n",
       "1  {'occupation': 'Paranormal Investigator', 'bas...   \n",
       "2  {'occupation': 'Green Lantern, former history ...   \n",
       "3         {'occupation': 'Ex-Spy', 'base': 'Mobile'}   \n",
       "4  {'occupation': 'Dimensional destroyer', 'base'...   \n",
       "\n",
       "                                         connections  \\\n",
       "0  {'groupAffiliation': 'Hulk Family; Excelsior (...   \n",
       "1  {'groupAffiliation': 'Bureau for Paranormal Re...   \n",
       "2  {'groupAffiliation': 'Green Lantern Corps, Bla...   \n",
       "3  {'groupAffiliation': 'former member of the cre...   \n",
       "4  {'groupAffiliation': 'Cosmic Beings', 'relativ...   \n",
       "\n",
       "                                              images  \n",
       "0  {'xs': 'https://cdn.jsdelivr.net/gh/akabab/sup...  \n",
       "1  {'xs': 'https://cdn.jsdelivr.net/gh/akabab/sup...  \n",
       "2  {'xs': 'https://cdn.jsdelivr.net/gh/akabab/sup...  \n",
       "3  {'xs': 'https://cdn.jsdelivr.net/gh/akabab/sup...  \n",
       "4  {'xs': 'https://cdn.jsdelivr.net/gh/akabab/sup...  "
      ]
     },
     "execution_count": 1,
     "metadata": {},
     "output_type": "execute_result"
    }
   ],
   "source": [
    "import pandas as pd\n",
    "\n",
    "# Load JSON directly into DataFrame\n",
    "df = pd.read_json('Superheroes.json')\n",
    "df.head(5)"
   ]
  },
  {
   "cell_type": "code",
   "execution_count": 3,
   "id": "2d5ffe0d",
   "metadata": {},
   "outputs": [
    {
     "name": "stdout",
     "output_type": "stream",
     "text": [
      "['id', 'name', 'slug', 'powerstats', 'appearance', 'biography', 'work', 'connections', 'images']\n"
     ]
    }
   ],
   "source": [
    "print(df.columns.tolist())"
   ]
  },
  {
   "cell_type": "code",
   "execution_count": 4,
   "id": "03ed16e0",
   "metadata": {},
   "outputs": [],
   "source": [
    "filtered_df = df[df['biography'].apply(lambda x: x['publisher'] in ['Marvel Comics', 'DC Comics'])]\n"
   ]
  },
  {
   "cell_type": "code",
   "execution_count": 5,
   "id": "eae1ade7",
   "metadata": {},
   "outputs": [],
   "source": [
    "# Convert back to filtered JSON\n",
    "filtered_df.to_json('filtered_Marvel_DC_characters.json', orient='records')"
   ]
  },
  {
   "cell_type": "code",
   "execution_count": null,
   "id": "c7a5e818",
   "metadata": {},
   "outputs": [],
   "source": []
  }
 ],
 "metadata": {
  "kernelspec": {
   "display_name": "Python 3 (ipykernel)",
   "language": "python",
   "name": "python3"
  },
  "language_info": {
   "codemirror_mode": {
    "name": "ipython",
    "version": 3
   },
   "file_extension": ".py",
   "mimetype": "text/x-python",
   "name": "python",
   "nbconvert_exporter": "python",
   "pygments_lexer": "ipython3",
   "version": "3.9.13"
  }
 },
 "nbformat": 4,
 "nbformat_minor": 5
}
