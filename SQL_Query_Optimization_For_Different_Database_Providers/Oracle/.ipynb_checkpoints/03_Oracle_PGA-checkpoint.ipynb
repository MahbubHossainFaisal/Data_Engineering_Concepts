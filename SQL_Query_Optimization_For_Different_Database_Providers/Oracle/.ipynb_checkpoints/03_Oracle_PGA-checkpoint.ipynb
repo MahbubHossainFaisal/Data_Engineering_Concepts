{
 "cells": [
  {
   "cell_type": "markdown",
   "id": "8c674f27",
   "metadata": {},
   "source": [
    "### Oracle PGA\n",
    "\n",
    "1. **What is PGA?**\n",
    "   - The **Program Global Area (PGA)** is a memory region used exclusively by a **server process** in Oracle. Each server process has its own PGA, making it **private** and not shared among other processes. It's critical because it stores data and control information specifically for the process it serves.\n",
    "\n",
    "2. **PGAs are private:**\n",
    "   - Since **each server process has its own PGA**, it means the memory is not shared with other processes. This ensures that the session-specific information and operations are kept isolated, providing better security and efficiency for individual sessions.\n",
    "\n",
    "3. **Session Area:**\n",
    "   - The **Session Area** is a part of the PGA that contains data specific to a user session, such as login information, session variables, and user context. It is vital for tracking session-specific details that do not need to be shared across sessions.\n",
    "\n",
    "4. **Private SQL Area:**\n",
    "   - Each session uses the **Private SQL Area** within the PGA to store session-specific information about **SQL execution**. It includes:\n",
    "     - SQL statement information (parsed and ready to execute).\n",
    "     - Information about bind variables, row source, and cursor states for that session.\n",
    "\n",
    "5. **Cursors Area:**\n",
    "   - The **Cursors Area** is a part of the Private SQL Area. It handles SQL **cursors**, which are pointers to the SQL statements processed in the database. Each session has its own cursor area for executing and reusing SQL statements efficiently.\n",
    "\n",
    "6. **SQL Work Area:**\n",
    "   - The **SQL Work Area** is a portion of the PGA that is used for memory-intensive operations like sorting and hash joins. It stores temporary results and data that are used during query execution, specifically for operations that need memory like sorting rows, aggregating results, etc.\n",
    "\n",
    "7. **Session-specific operations and data in the PGA:**\n",
    "   - All **session-specific tasks**, such as SQL execution, sorting, and temporary storage, happen inside the PGA. Since it is private, all operations are tied directly to the session without involving other processes.\n",
    "\n",
    "8. **PGA size is important:**\n",
    "   - The **size of the PGA** impacts the performance of session-specific tasks. If the PGA is too small, it will affect operations like sorting and joining, forcing the database to use disk space for temporary storage, which is slower. Properly managing PGA size ensures faster query execution and better memory utilization."
   ]
  },
  {
   "cell_type": "code",
   "execution_count": null,
   "id": "b7ea553d",
   "metadata": {},
   "outputs": [],
   "source": []
  }
 ],
 "metadata": {
  "kernelspec": {
   "display_name": "Python 3 (ipykernel)",
   "language": "python",
   "name": "python3"
  },
  "language_info": {
   "codemirror_mode": {
    "name": "ipython",
    "version": 3
   },
   "file_extension": ".py",
   "mimetype": "text/x-python",
   "name": "python",
   "nbconvert_exporter": "python",
   "pygments_lexer": "ipython3",
   "version": "3.9.13"
  }
 },
 "nbformat": 4,
 "nbformat_minor": 5
}
