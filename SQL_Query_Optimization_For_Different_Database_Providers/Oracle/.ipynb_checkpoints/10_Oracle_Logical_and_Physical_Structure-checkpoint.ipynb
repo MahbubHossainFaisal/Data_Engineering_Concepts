{
 "cells": [
  {
   "cell_type": "markdown",
   "id": "359f4964",
   "metadata": {},
   "source": [
    "### Oracle Logical and Physical Database Structure\n",
    "\n",
    "#### 1. Blocks (Smallest Unit of Storage)\n",
    "   - **Physical Blocks**: The smallest storage unit at the OS level, often referred to as the \"Oracle Data Block.\" These blocks store actual data and metadata.\n",
    "   - **Logical Blocks**: These blocks map directly to physical blocks on the storage. The size of each block is fixed (usually 8 KB, 16 KB, or 32 KB).\n",
    "   - **Purpose**: Blocks are designed to store data efficiently. When data is read, Oracle fetches it in these block units, so smaller blocks mean more efficient storage and access for smaller data but increased storage overhead for larger data.\n",
    "\n",
    "#### 2. Extents (Grouping of Blocks)\n",
    "   - An **extent** is a group of contiguous blocks allocated for a specific type of data.\n",
    "   - **Purpose**: Helps Oracle efficiently manage storage by grouping blocks into larger units.\n",
    "   - **Types of Extents**:\n",
    "      - Initial Extent: Allocated when a segment is created.\n",
    "      - Next Extent: Added when the initial extent fills up.\n",
    "\n",
    "#### 3. Segments (Grouping of Extents)\n",
    "   - A **segment** is a collection of extents allocated for a specific database object, like a table or index.\n",
    "   - **Purpose**: Segments are organized based on data purpose, allowing Oracle to manage larger amounts of data logically.\n",
    "   - **Types of Segments**:\n",
    "      - **Data Segment**: Stores actual table data.\n",
    "      - **Index Segment**: Holds indexes, which speed up data retrieval.\n",
    "      - **Undo Segment**: Stores previous data values to support rollback operations and ensure transaction consistency.\n",
    "      - **Temporary Segment**: Used for operations requiring temporary storage, such as sorting large datasets.\n",
    "\n",
    "#### 4. Tablespaces (Grouping of Segments)\n",
    "   - A **tablespace** is a logical storage container holding multiple segments.\n",
    "   - **Purpose**: Tablespaces are used to logically group related data, making it easier to manage storage.\n",
    "   - **Types of Tablespaces**:\n",
    "      - **Temporary Tablespace**: Stores transient data, usually created during temporary operations (sorting, aggregating).\n",
    "      - **Permanent Tablespace**: Stores long-term, persistent data, like tables and indexes.\n",
    "\n",
    "#### 5. Database\n",
    "   - The **database** is the entire collection of data that Oracle manages, including tables, indexes, and all objects that Oracle can control.\n",
    "   - **Purpose**: It forms a logical unit of the Oracle Database System, ensuring data consistency, durability, and availability.\n",
    "\n",
    "#### 6. Schema\n",
    "   - A **schema** is a collection of database objects owned by a user, such as tables, views, indexes, and procedures.\n",
    "   - **Purpose**: Schemas provide logical separation between users and objects, enhancing organization, security, and resource management within a database."
   ]
  },
  {
   "cell_type": "code",
   "execution_count": null,
   "id": "6fe86255",
   "metadata": {},
   "outputs": [],
   "source": []
  }
 ],
 "metadata": {
  "kernelspec": {
   "display_name": "Python 3 (ipykernel)",
   "language": "python",
   "name": "python3"
  },
  "language_info": {
   "codemirror_mode": {
    "name": "ipython",
    "version": 3
   },
   "file_extension": ".py",
   "mimetype": "text/x-python",
   "name": "python",
   "nbconvert_exporter": "python",
   "pygments_lexer": "ipython3",
   "version": "3.9.13"
  }
 },
 "nbformat": 4,
 "nbformat_minor": 5
}
