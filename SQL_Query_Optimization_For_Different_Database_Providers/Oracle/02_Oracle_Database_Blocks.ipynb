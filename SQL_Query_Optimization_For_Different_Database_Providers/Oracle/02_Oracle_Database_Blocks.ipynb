{
 "cells": [
  {
   "cell_type": "markdown",
   "id": "fdeccc34",
   "metadata": {},
   "source": [
    "### Oracle Database Blocks\n",
    "\n",
    "1. **All the data is stored in blocks**:\n",
    "   - In Oracle databases, all data, whether it's user data (like table records) or metadata (like indexes), is stored in units called \"blocks.\" These blocks are part of the storage structure of the database, which also includes segments and extents.\n",
    "\n",
    "2. **A block is the smallest unit of database storage**:\n",
    "   - A block is the smallest manageable unit in Oracle databases. While rows or columns are logical structures, the physical storage of these rows happens inside blocks. The database reads and writes data in terms of blocks.\n",
    "\n",
    "3. **A block can have 2KB to 32KB size (default 8KB)**:\n",
    "   - Oracle allows different block sizes, typically ranging from 2KB to 32KB. The default size is usually 8KB, but it can be configured to suit specific workload needs. The block size determines how much data each block can store and can impact performance and I/O efficiency.\n",
    "\n",
    "4. **A block stores row data or index data**:\n",
    "   - Oracle blocks can store various types of data. They can store:\n",
    "     - **Row data**: The actual data of the table, with rows fitting inside blocks.\n",
    "     - **Index data**: Indexes that help speed up queries also reside in blocks, with each index pointing to the physical location of the data it refers to.\n",
    "\n",
    "5. **Block header includes**:\n",
    "   - Every block has a header that contains metadata about the block itself. This header includes:\n",
    "     - **Block type information**: This tells whether the block is used for storing table rows, indexes, undo data, etc.\n",
    "     - **Table information**: It includes details about which table (or index) the block belongs to.\n",
    "     - **Row Directory**: This is essentially a mapping of the rows inside the block. It helps Oracle locate individual rows quickly inside a block.\n",
    "\n",
    "6. **PCTFREE or PCTUSE parameters**:\n",
    "   - These parameters control the space management inside the block.\n",
    "     - **PCTFREE**: It defines the percentage of a block's space to be reserved for updates to existing rows. Once a block reaches the PCTFREE threshold, it won't be used for new inserts, keeping space for future updates.\n",
    "     - **PCTUSED**: This parameter specifies the percentage of space used in a block before it can be considered for inserting new rows again. Once a block has enough free space after deletes or updates, it can be reused for inserts.\n",
    "\n",
    "### Summary:\n",
    "Oracle Database blocks are foundational to how Oracle organizes and manages data storage. Blocks help ensure efficient space usage, read/write operations, and space management within the database."
   ]
  },
  {
   "cell_type": "code",
   "execution_count": null,
   "id": "a5689f31",
   "metadata": {},
   "outputs": [],
   "source": []
  }
 ],
 "metadata": {
  "kernelspec": {
   "display_name": "Python 3 (ipykernel)",
   "language": "python",
   "name": "python3"
  },
  "language_info": {
   "codemirror_mode": {
    "name": "ipython",
    "version": 3
   },
   "file_extension": ".py",
   "mimetype": "text/x-python",
   "name": "python",
   "nbconvert_exporter": "python",
   "pygments_lexer": "ipython3",
   "version": "3.9.13"
  }
 },
 "nbformat": 4,
 "nbformat_minor": 5
}
