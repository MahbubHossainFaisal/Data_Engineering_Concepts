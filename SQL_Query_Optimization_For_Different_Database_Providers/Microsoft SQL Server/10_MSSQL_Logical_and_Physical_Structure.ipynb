{
 "cells": [
  {
   "cell_type": "markdown",
   "id": "40c635e7",
   "metadata": {},
   "source": [
    "### MSSQL Logical and Physical Database Structure\n",
    "\n",
    "#### 1. Pages (Similar to Oracle Blocks)\n",
    "   - **Pages**: In MSSQL, the smallest unit of storage is a *page*, equivalent to a block in Oracle.\n",
    "   - **Size**: Each page is 8 KB, and it holds rows of data, indexes, or metadata.\n",
    "   - **Types of Pages**:\n",
    "      - **Data Pages**: Store actual table data.\n",
    "      - **Index Pages**: Hold index data for faster access.\n",
    "      - **LOB Pages**: Store large objects like text, image, or XML data.\n",
    "   - **Purpose**: Pages provide efficient data organization at the lowest storage level, supporting rapid data access and updates.\n",
    "\n",
    "#### 2. Extents (Grouping of Pages)\n",
    "   - **Extents**: MSSQL groups eight contiguous pages to form an *extent*.\n",
    "   - **Types of Extents**:\n",
    "      - **Uniform Extent**: Allocated to a single object, meaning all pages belong to one table or index.\n",
    "      - **Mixed Extent**: Shared by multiple objects, with pages from different tables or indexes.\n",
    "   - **Purpose**: Extents help MSSQL efficiently manage disk space by allocating groups of pages to tables and indexes, reducing fragmentation.\n",
    "\n",
    "#### 3. Segments (Conceptual Only)\n",
    "   - **Segments**: Unlike Oracle, MSSQL doesn’t have explicit segments (e.g., data segments or index segments). However, **filegroups** serve a similar purpose by logically grouping data files.\n",
    "   - **Filegroups**: A filegroup can contain tables, indexes, and large objects.\n",
    "   - **Purpose**: Filegroups allow MSSQL to manage larger data structures by distributing them across files, optimizing performance and supporting partitioning.\n",
    "\n",
    "#### 4. Filegroups (Similar to Oracle Tablespaces)\n",
    "   - **Filegroups**: MSSQL uses *filegroups* to organize and manage data files.\n",
    "   - **Purpose**: Filegroups enable the logical grouping of tables, indexes, and other objects within a database, enhancing performance and manageability. They also allow users to place files on specific disks for better I/O performance.\n",
    "   - **Types of Filegroups**:\n",
    "      - **Primary Filegroup**: Contains system tables and the main database file.\n",
    "      - **User-Defined Filegroups**: Used to store user data and objects, which can be distributed across multiple disks.\n",
    "\n",
    "#### 5. Database\n",
    "   - **Database**: In MSSQL, a database is a logical container of all related objects like tables, indexes, views, and procedures, much like in Oracle.\n",
    "   - **Purpose**: It forms a logical unit for organizing and managing data while ensuring transaction consistency, backup, and recovery.\n",
    "\n",
    "#### 6. Schema\n",
    "   - **Schema**: A schema is a logical container in MSSQL that holds objects owned by a user. It separates different objects within the same database by grouping them into different schemas.\n",
    "   - **Purpose**: Schemas enhance organization, security, and data management by logically separating objects by business unit or function, much like in Oracle.\n",
    "\n",
    "### Key Differences in MSSQL\n",
    "   - **Lack of Explicit Temporary Tablespaces**: MSSQL handles temporary data within a system database called `tempdb`, which serves all databases.\n",
    "   - **Index Management**: MSSQL uses a variety of index types (clustered, non-clustered) instead of the automatic clustering used in Snowflake, allowing users to control index usage for performance.\n",
    "   - **Filegroups as Logical Storage Units**: Filegroups serve a similar role to Oracle’s tablespaces but also allow more control over data storage across multiple disks."
   ]
  },
  {
   "cell_type": "code",
   "execution_count": null,
   "id": "a242e79f",
   "metadata": {},
   "outputs": [],
   "source": []
  }
 ],
 "metadata": {
  "kernelspec": {
   "display_name": "Python 3 (ipykernel)",
   "language": "python",
   "name": "python3"
  },
  "language_info": {
   "codemirror_mode": {
    "name": "ipython",
    "version": 3
   },
   "file_extension": ".py",
   "mimetype": "text/x-python",
   "name": "python",
   "nbconvert_exporter": "python",
   "pygments_lexer": "ipython3",
   "version": "3.9.13"
  }
 },
 "nbformat": 4,
 "nbformat_minor": 5
}
