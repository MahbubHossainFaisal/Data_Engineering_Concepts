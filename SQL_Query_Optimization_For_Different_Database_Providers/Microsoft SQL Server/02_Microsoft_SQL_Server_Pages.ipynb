{
 "cells": [
  {
   "cell_type": "markdown",
   "id": "a313e387",
   "metadata": {},
   "source": [
    "In Microsoft SQL Server (MSSQL), the concept of database blocks is similar to that in Oracle, but they are referred to as **pages**. Let's explore how SQL Server manages data using **pages** and **extents**, which are equivalent to blocks in Oracle.\n",
    "\n",
    "### SQL Server Pages (Equivalent to Blocks in Oracle)\n",
    "\n",
    "1. **All the data is stored in pages**:\n",
    "   - In SQL Server, data is stored in **pages**. A page is the smallest unit of data storage in SQL Server, similar to how Oracle uses blocks.\n",
    "\n",
    "2. **A page is the smallest unit of database storage**:\n",
    "   - Just like in Oracle, where the block is the smallest unit, SQL Server uses **pages** as the smallest unit of I/O and storage. SQL Server reads and writes data in terms of pages.\n",
    "\n",
    "3. **Page size is fixed at 8KB**:\n",
    "   - In contrast to Oracle’s configurable block size (2KB to 32KB), SQL Server uses a fixed page size of **8KB**. This size includes both the data and the metadata (like the page header).\n",
    "\n",
    "4. **Types of Pages**:\n",
    "   - **Data pages**: Store the actual row data from the tables.\n",
    "   - **Index pages**: Store index data that SQL Server uses to optimize query performance.\n",
    "   - **Text/Image pages**: Store large object data such as text, images, or other large binary objects.\n",
    "\n",
    "5. **Page header (Similar to Block Header in Oracle)**:\n",
    "   - Each page in SQL Server has a **96-byte header** that stores metadata about the page. This header includes:\n",
    "     - **Page type**: Similar to Oracle’s block type, this indicates whether the page stores data, index, or other types of information.\n",
    "     - **Page number**: Identifies the page within the database.\n",
    "     - **Free space management**: Information about the available space on the page.\n",
    "\n",
    "6. **Extents (A group of 8 pages)**:\n",
    "   - In SQL Server, **extents** are collections of 8 contiguous pages (8 * 8KB = 64KB). There are two types of extents:\n",
    "     - **Uniform extents**: All pages in the extent belong to a single object (like a table or index).\n",
    "     - **Mixed extents**: Pages within the extent can belong to different objects, which is useful for small objects.\n",
    "   - SQL Server manages storage at the extent level, but the fundamental I/O unit remains the 8KB page.\n",
    "\n",
    "7. **Space management (Similar to PCTFREE and PCTUSED in Oracle)**:\n",
    "   - SQL Server doesn’t have direct equivalents to Oracle’s **PCTFREE** and **PCTUSED**. However, space within a page is managed automatically:\n",
    "     - SQL Server allocates pages dynamically as data grows, and pages are reused when data is deleted or updated.\n",
    "     - **Fillfactor**: SQL Server has a **Fillfactor** setting for indexes that determines the percentage of space to leave free in index pages to allow for future growth and minimize page splits.\n",
    "   \n",
    "8. **Row storage in Pages**:\n",
    "   - SQL Server stores rows inside pages, and if a row exceeds the 8KB page size (like in the case of large object data types such as `varchar(max)` or `text`), the data is stored in **LOB pages** or other special pages.\n",
    "   \n",
    "9. **Page splits**:\n",
    "   - When a page runs out of space and additional data needs to be inserted, SQL Server may perform a **page split**, where the page is split into two, and the data is redistributed between the pages. This is a common space management operation in SQL Server.\n",
    "\n",
    "### Summary:\n",
    "In MSSQL, **pages** serve as the equivalent to Oracle’s blocks, with a fixed size of 8KB. Pages store both data and index information, and groups of 8 pages form **extents**. Unlike Oracle’s manual space management settings like PCTFREE and PCTUSED, SQL Server automatically manages space within pages and uses settings like **Fillfactor** to optimize space utilization in index pages."
   ]
  },
  {
   "cell_type": "code",
   "execution_count": null,
   "id": "f19aec7d",
   "metadata": {},
   "outputs": [],
   "source": []
  }
 ],
 "metadata": {
  "kernelspec": {
   "display_name": "Python 3 (ipykernel)",
   "language": "python",
   "name": "python3"
  },
  "language_info": {
   "codemirror_mode": {
    "name": "ipython",
    "version": 3
   },
   "file_extension": ".py",
   "mimetype": "text/x-python",
   "name": "python",
   "nbconvert_exporter": "python",
   "pygments_lexer": "ipython3",
   "version": "3.9.13"
  }
 },
 "nbformat": 4,
 "nbformat_minor": 5
}
