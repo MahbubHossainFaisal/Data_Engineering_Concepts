{
 "cells": [
  {
   "cell_type": "markdown",
   "id": "40a7f2f8",
   "metadata": {},
   "source": [
    "In PostgreSQL, the concept of **blocks** is similar to both Oracle's blocks and MSSQL's pages. PostgreSQL uses **data blocks** to store information, and these blocks are the smallest units of storage for tables and indexes. Let's dive into the details.\n",
    "\n",
    "### PostgreSQL Data Blocks\n",
    "\n",
    "1. **All the data is stored in blocks**:\n",
    "   - Like Oracle and MSSQL, PostgreSQL stores all its data in **blocks**. Every table, index, or other data structure is stored in these blocks.\n",
    "\n",
    "2. **A block is the smallest unit of database storage**:\n",
    "   - In PostgreSQL, a **block** is the smallest I/O unit, much like Oracle’s block or MSSQL’s page. The database reads and writes in terms of blocks during I/O operations.\n",
    "\n",
    "3. **Block size is configurable, default is 8KB**:\n",
    "   - PostgreSQL has a default block size of **8KB**, but it is configurable when compiling PostgreSQL. You can choose a different block size, such as 4KB or 32KB, at the time of installation if your workload benefits from larger or smaller blocks. However, once PostgreSQL is installed, the block size cannot be changed without recompiling.\n",
    "\n",
    "4. **A block stores row data or index data**:\n",
    "   - PostgreSQL stores both **row data** (for tables) and **index data** in blocks, similar to how Oracle and MSSQL handle data storage. Rows of a table are stored inside the blocks, and each index entry is also stored within a block.\n",
    "\n",
    "5. **Block header (Similar to Block Header in Oracle)**:\n",
    "   - Every block in PostgreSQL has a small **header** that contains metadata about the block. This header includes:\n",
    "     - **Block ID**: Identifies the block in relation to the table or index it belongs to.\n",
    "     - **Transaction information**: Information about which transactions have modified the rows in the block.\n",
    "     - **Free space management**: Space available for new rows or updates within the block.\n",
    "   \n",
    "6. **Free Space Map (Similar to PCTFREE/PCTUSED in Oracle)**:\n",
    "   - PostgreSQL uses a **Free Space Map (FSM)** to track available space inside blocks. The FSM helps the database identify which blocks have enough space for inserting new rows. When rows are deleted or updated, the space becomes available again, and the FSM keeps track of this.\n",
    "     - PostgreSQL doesn’t have **PCTFREE** or **PCTUSED** parameters like Oracle, but the FSM performs a similar role, automatically managing the available space in blocks.\n",
    "   \n",
    "7. **Row storage in blocks**:\n",
    "   - PostgreSQL stores rows inside blocks. If a row grows too large to fit in a block (for example, with large text or binary data), PostgreSQL stores the extra data in **TOAST (The Oversized-Attribute Storage Technique)** tables. This allows large objects like `text` or `bytea` to be stored efficiently without wasting block space.\n",
    "   \n",
    "8. **Visibility Map (For space and performance management)**:\n",
    "   - PostgreSQL also uses a **Visibility Map (VM)** to track whether all tuples (rows) in a block are visible to all transactions. This helps with vacuuming (garbage collection) and reducing the need to scan blocks that contain only visible tuples, improving query performance.\n",
    "   \n",
    "9. **Autovacuum (Space management)**:\n",
    "   - PostgreSQL’s **Autovacuum** process is responsible for cleaning up dead rows that result from UPDATE and DELETE operations. It reclaims space in blocks, allowing new rows to be inserted. This process helps manage space without the need for manual intervention like PCTFREE in Oracle.\n",
    "\n",
    "10. **Block splits (for Indexes)**:\n",
    "    - In the case of B-tree indexes, PostgreSQL can perform **page splits** when an index page runs out of space. This is similar to how page splits work in MSSQL. The index page is split, and data is redistributed to maintain efficient access.\n",
    "\n",
    "### Summary:\n",
    "In PostgreSQL, **blocks** function similarly to Oracle’s blocks and MSSQL’s pages. The default block size is 8KB, but it can be changed at the time of installation. PostgreSQL uses structures like the **Free Space Map** to manage space inside blocks and the **Visibility Map** to optimize query performance. Unlike Oracle’s manual space parameters like PCTFREE, PostgreSQL automates space management through mechanisms like the FSM and **autovacuum**."
   ]
  },
  {
   "cell_type": "code",
   "execution_count": null,
   "id": "98435570",
   "metadata": {},
   "outputs": [],
   "source": []
  }
 ],
 "metadata": {
  "kernelspec": {
   "display_name": "Python 3 (ipykernel)",
   "language": "python",
   "name": "python3"
  },
  "language_info": {
   "codemirror_mode": {
    "name": "ipython",
    "version": 3
   },
   "file_extension": ".py",
   "mimetype": "text/x-python",
   "name": "python",
   "nbconvert_exporter": "python",
   "pygments_lexer": "ipython3",
   "version": "3.9.13"
  }
 },
 "nbformat": 4,
 "nbformat_minor": 5
}
