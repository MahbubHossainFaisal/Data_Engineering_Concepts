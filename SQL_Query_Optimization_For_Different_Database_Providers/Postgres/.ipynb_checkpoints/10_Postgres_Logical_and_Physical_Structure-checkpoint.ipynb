{
 "cells": [
  {
   "cell_type": "markdown",
   "id": "4bbffbef",
   "metadata": {},
   "source": [
    "### PostgreSQL Logical and Physical Database Structure\n",
    "\n",
    "#### 1. Pages (Similar to Oracle Blocks)\n",
    "   - **Pages**: In PostgreSQL, the smallest storage unit is a *page*, which functions similarly to Oracle’s blocks.\n",
    "   - **Size**: By default, each page is 8 KB and stores rows of data or index entries.\n",
    "   - **Purpose**: Pages are used to efficiently store, organize, and retrieve data within tables, while also providing the smallest unit for reading and writing data on disk.\n",
    "\n",
    "#### 2. Extents (Not Explicitly Used in PostgreSQL)\n",
    "   - Unlike Oracle or MSSQL, PostgreSQL doesn’t use extents to group pages. Instead, it relies on a continuous allocation strategy to grow tables or indexes.\n",
    "   - **Purpose**: This approach simplifies storage management and reduces fragmentation, though it can impact very large tables or indexes.\n",
    "\n",
    "#### 3. Segments (Implicitly Managed by Files)\n",
    "   - **Segments**: PostgreSQL doesn’t explicitly use segments. Instead, it stores large tables and indexes as files managed by the filesystem, each file having a maximum size of 1 GB.\n",
    "   - **Purpose**: When a table or index exceeds 1 GB, PostgreSQL automatically creates additional files, called “segments,” to accommodate the data.\n",
    "   - **Types of Data**:\n",
    "      - **Heap Data**: For storing tables.\n",
    "      - **Index Data**: For storing indexes.\n",
    "      - **TOAST Tables**: For large attributes (e.g., text, binary data).\n",
    "\n",
    "#### 4. Tablespaces (Similar to Oracle Tablespaces)\n",
    "   - **Tablespaces**: PostgreSQL tablespaces are logical containers used to specify storage locations for database objects.\n",
    "   - **Purpose**: Tablespaces provide flexibility to assign specific storage locations for tables and indexes, optimizing performance and storage management. They allow you to place data on different physical drives to spread I/O.\n",
    "   - **Types**:\n",
    "      - **Default Tablespace**: Where most database objects are stored.\n",
    "      - **Custom Tablespaces**: Can be created to allocate storage on different drives for performance or organizational needs.\n",
    "\n",
    "#### 5. Database\n",
    "   - **Database**: In PostgreSQL, a database is a logical container that holds schemas, tables, indexes, and other objects. Each database is independent and can have its own configurations.\n",
    "   - **Purpose**: The database serves as a logical unit of data organization, providing separation between various datasets within the PostgreSQL instance.\n",
    "\n",
    "#### 6. Schema\n",
    "   - **Schema**: A schema is a namespace within a PostgreSQL database, similar to schemas in Oracle and MSSQL.\n",
    "   - **Purpose**: Schemas provide logical organization of database objects, allowing multiple users and applications to use the same database without conflicts. Each schema can contain tables, views, indexes, and other objects, organized by purpose or user group.\n",
    "\n",
    "### Key Differences in PostgreSQL\n",
    "   - **Lack of Explicit Extents and Segments**: PostgreSQL’s approach to storage management minimizes the use of traditional extents and segments, relying on the filesystem and continuous allocation to handle data growth.\n",
    "   - **TOAST (The Oversized-Attribute Storage Technique)**: For very large data types, PostgreSQL automatically uses TOAST tables to store attributes that don’t fit in regular pages, reducing storage costs.\n",
    "   - **Flexible Tablespaces**: Tablespaces provide similar functionality to Oracle’s, but PostgreSQL offers more flexibility in distributing storage across multiple disks and locations."
   ]
  },
  {
   "cell_type": "code",
   "execution_count": null,
   "id": "b12380c5",
   "metadata": {},
   "outputs": [],
   "source": []
  }
 ],
 "metadata": {
  "kernelspec": {
   "display_name": "Python 3 (ipykernel)",
   "language": "python",
   "name": "python3"
  },
  "language_info": {
   "codemirror_mode": {
    "name": "ipython",
    "version": 3
   },
   "file_extension": ".py",
   "mimetype": "text/x-python",
   "name": "python",
   "nbconvert_exporter": "python",
   "pygments_lexer": "ipython3",
   "version": "3.9.13"
  }
 },
 "nbformat": 4,
 "nbformat_minor": 5
}
