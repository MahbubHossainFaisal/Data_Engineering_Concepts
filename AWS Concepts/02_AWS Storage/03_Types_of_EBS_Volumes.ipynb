{
 "cells": [
  {
   "cell_type": "markdown",
   "id": "00db4f7e",
   "metadata": {},
   "source": [
    "### 1) **Types of EBS Volumes:**\n",
    "AWS Elastic Block Store (EBS) provides the following types of volumes, each optimized for different use cases:\n",
    "\n",
    "1. **General Purpose SSD (gp2, gp3)** - Ideal for most workloads.\n",
    "2. **Provisioned IOPS SSD (io1, io2)** - For workloads that require high-performance I/O.\n",
    "3. **Throughput Optimized HDD (st1)** - For large, sequential workloads like big data.\n",
    "4. **Cold HDD (sc1)** - For infrequent access workloads where cost is important.\n",
    "5. **Magnetic Standard (standard)** - Deprecated in most cases.\n",
    "\n",
    "### 2) **Main Types of Volumes:**\n",
    "1. **General Purpose SSD (gp2, gp3)**: These are the default EBS volumes used for most workloads, offering a balance between price and performance.\n",
    "   - **gp2**: Performance scales with the volume size. Offers burst performance based on IOPS and volume size.\n",
    "   - **gp3**: Provides predictable, baseline performance independent of volume size, and offers a lower cost than gp2.\n",
    "   \n",
    "2. **Provisioned IOPS SSD (io1, io2)**: These volumes are optimized for applications that require consistent, high-performance I/O, like databases.\n",
    "   - **io1**: Allows you to provision a specific number of IOPS based on application needs.\n",
    "   - **io2**: Improves durability over io1, offering a higher SLA on availability and resilience.\n",
    "\n",
    "### 3) **Differential Table of gp2, gp3, io1, io2:**\n",
    "\n",
    "| **Feature**                 | **gp2**                           | **gp3**                           | **io1**                           | **io2**                           |\n",
    "|-----------------------------|-----------------------------------|-----------------------------------|-----------------------------------|-----------------------------------|\n",
    "| **Type**                    | General Purpose SSD               | General Purpose SSD               | Provisioned IOPS SSD              | Provisioned IOPS SSD              |\n",
    "| **Performance**             | Burst-based, up to 16,000 IOPS    | Baseline performance, up to 16,000 IOPS | Provisioned up to 64,000 IOPS    | Provisioned up to 64,000 IOPS    |\n",
    "| **Max Throughput**          | 250 MB/s                          | 1,000 MB/s                        | 1,000 MB/s                        | 1,000 MB/s                        |\n",
    "| **IOPS per GiB**            | 3 IOPS/GiB (scales with size)     | 3,000 IOPS (configurable)         | Provisioned (up to 50 IOPS/GiB)   | Provisioned (up to 500 IOPS/GiB)  |\n",
    "| **Cost**                    | Lower than io1/io2                | Cheaper than gp2                  | Higher cost                       | Similar to io1 but more durable   |\n",
    "| **Durability**              | 99.8% - 99.9%                     | 99.8% - 99.9%                     | 99.9%                             | 99.999%                           |\n",
    "| **Volume Size**             | 1 GiB to 16 TiB                   | 1 GiB to 16 TiB                   | 4 GiB to 16 TiB                   | 4 GiB to 64 TiB                   |\n",
    "| **Use Case**                | General workloads, boot volumes   | General workloads, databases      | High-performance apps, databases  | Critical workloads, databases needing high durability |\n",
    "| **Latency**                 | Low                               | Lower than gp2                    | Consistent low latency            | Consistent low latency            |\n",
    "\n",
    "This comparison helps highlight key features and the different use cases of each EBS volume type."
   ]
  },
  {
   "cell_type": "code",
   "execution_count": null,
   "id": "c2e6603a",
   "metadata": {},
   "outputs": [],
   "source": []
  }
 ],
 "metadata": {
  "kernelspec": {
   "display_name": "Python 3 (ipykernel)",
   "language": "python",
   "name": "python3"
  },
  "language_info": {
   "codemirror_mode": {
    "name": "ipython",
    "version": 3
   },
   "file_extension": ".py",
   "mimetype": "text/x-python",
   "name": "python",
   "nbconvert_exporter": "python",
   "pygments_lexer": "ipython3",
   "version": "3.9.13"
  }
 },
 "nbformat": 4,
 "nbformat_minor": 5
}
