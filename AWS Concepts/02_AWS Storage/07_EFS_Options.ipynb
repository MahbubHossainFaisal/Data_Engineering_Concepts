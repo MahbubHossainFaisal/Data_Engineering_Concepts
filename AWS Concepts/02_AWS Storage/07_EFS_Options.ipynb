{
 "cells": [
  {
   "cell_type": "markdown",
   "id": "ea1ecdb0",
   "metadata": {},
   "source": [
    "### 1) **Storage Classes in EFS (Standard and One Zone)**:\n",
    "- **Standard Storage Class**:\n",
    "  - **Region**: Data is stored redundantly across multiple Availability Zones (AZs) in the AWS Region, offering high durability and availability.\n",
    "  - **Use Case**: Ideal for applications that require high availability, durability, and geographical redundancy.\n",
    "  - **Pricing**: Higher cost due to multi-AZ redundancy.\n",
    "\n",
    "- **One Zone Storage Class**:\n",
    "  - **Region**: Data is stored in a single Availability Zone (AZ).\n",
    "  - **Use Case**: Suitable for workloads that don't need the extra resiliency of multi-AZ storage, like dev/test environments or in scenarios where data is easily re-creatable.\n",
    "  - **Pricing**: Lower cost than Standard due to being limited to one AZ.\n",
    "\n",
    "### 2) **Lifecycle Management Options in EFS**:\n",
    "   Lifecycle management in EFS automatically moves files to a lower-cost storage class based on the age of the file (time since the last access). It works for the following storage classes:\n",
    "   - **Standard to Infrequent Access (IA)**: Moves infrequently accessed files to IA storage to save costs.\n",
    "   - **One Zone to Infrequent Access (IA)**: Moves files in One Zone storage to IA within the same zone.\n",
    "\n",
    "   **Lifecycle Management Policies** allow you to define how long files should remain in the standard or one-zone class before transitioning to IA. Options include:\n",
    "   - Transition after **7**, **14**, **30**, **60**, or **90 days** of no access.\n",
    "\n",
    "### 3) **Need for Encryption in EFS**:\n",
    "   - **Data in Transit Encryption**: Protects data as it moves between EFS and clients accessing it. EFS uses TLS to ensure that data is encrypted during transfer.\n",
    "   - **Data at Rest Encryption**: Ensures the stored data in the file system is encrypted using AWS Key Management Service (KMS) managed keys. This protects against unauthorized access to data stored on EFS.\n",
    "   \n",
    "   **Why Encryption is Needed**:\n",
    "   - To comply with security and regulatory requirements (e.g., HIPAA, PCI DSS).\n",
    "   - To protect sensitive data from unauthorized access or breaches.\n",
    "\n",
    "### 4) **Throughput Mode in EFS**:\n",
    "   Throughput refers to the amount of data that can be read from or written to the file system per second. EFS offers two throughput modes:\n",
    "   - **Bursting Throughput**:\n",
    "     - Automatically scales throughput based on the file system's size.\n",
    "     - The system can burst to higher throughput for a short period if there is a need for intensive read/write operations.\n",
    "     - Suitable for applications with variable workloads.\n",
    "\n",
    "   - **Provisioned Throughput**:\n",
    "     - You can provision and pay for a specific level of throughput, independent of the file system’s size.\n",
    "     - Ideal for workloads that require consistent high throughput, even if the file system size is relatively small.\n",
    "\n",
    "### 5) **Performance Mode in EFS**:\n",
    "   Performance mode determines the file system's input/output operations per second (IOPS) performance.\n",
    "   - **General Purpose Performance Mode**:\n",
    "     - Default mode, optimized for latency-sensitive applications like web servers or content management systems.\n",
    "     - Balances throughput and low latency.\n",
    "\n",
    "   - **Max I/O Performance Mode**:\n",
    "     - Optimized for highly parallelized workloads, such as big data analysis or media processing.\n",
    "     - Provides higher throughput and more IOPS but with slightly higher latencies.\n",
    "   \n",
    "   **When to Use**:\n",
    "   - **General Purpose** for low-latency, moderate throughput applications.\n",
    "   - **Max I/O** for applications requiring high concurrency and higher throughput at the cost of higher latency. \n",
    "\n",
    "These features allow AWS EFS to adapt to a wide range of storage requirements based on performance, cost, and security needs."
   ]
  },
  {
   "cell_type": "code",
   "execution_count": null,
   "id": "ae13b7fe",
   "metadata": {},
   "outputs": [],
   "source": []
  }
 ],
 "metadata": {
  "kernelspec": {
   "display_name": "Python 3 (ipykernel)",
   "language": "python",
   "name": "python3"
  },
  "language_info": {
   "codemirror_mode": {
    "name": "ipython",
    "version": 3
   },
   "file_extension": ".py",
   "mimetype": "text/x-python",
   "name": "python",
   "nbconvert_exporter": "python",
   "pygments_lexer": "ipython3",
   "version": "3.9.13"
  }
 },
 "nbformat": 4,
 "nbformat_minor": 5
}
