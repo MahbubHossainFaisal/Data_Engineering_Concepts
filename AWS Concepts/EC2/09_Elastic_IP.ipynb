{
 "cells": [
  {
   "cell_type": "markdown",
   "id": "212a54aa",
   "metadata": {},
   "source": [
    "### AWS Elastic IP Explained:\n",
    "\n",
    "#### 1) **What is Elastic IP and its Need:**\n",
    "- **Elastic IP (EIP)** is a static, public IPv4 address that can be associated with an EC2 instance. Unlike a regular public IP, an Elastic IP stays the same even if the instance is stopped or restarted. This ensures continuity of service.\n",
    "\n",
    "#### 2) **Why It Is Important:**\n",
    "- **Reliability:** Elastic IP allows companies to keep a consistent public IP even when they need to replace or restart instances. It ensures that services relying on that IP (e.g., DNS records, security policies) remain functional without needing updates.\n",
    "  \n",
    "#### 3) **Why Companies Need the Same IP for EC2 Instances:**\n",
    "- **Consistency:** For services like email servers, VPNs, or firewalls, companies may need a consistent IP address to maintain uninterrupted service or compliance with external systems. Changing IPs would require reconfiguring firewalls, updating DNS records, or re-establishing trust relationships with external services.\n",
    "  \n",
    "#### 4) **Difference Between Elastic IP and Public IP:**\n",
    "- **Public IP:** When an EC2 instance is launched, it gets a public IP address assigned dynamically, which changes every time the instance is stopped or restarted.\n",
    "- **Elastic IP:** This is a static IP that doesn't change once assigned, ensuring persistent connectivity to the instance even across instance reboots or changes.\n",
    "\n",
    "#### 5) **Additional Information:**\n",
    "- **Limitations:** AWS allocates a limited number of Elastic IPs per region by default. Unused Elastic IPs incur charges, so they should be released if no longer needed.\n",
    "  \n",
    "In summary, Elastic IPs are crucial when you need a permanent, public-facing IP for services that must remain accessible despite instance lifecycle events."
   ]
  }
 ],
 "metadata": {
  "kernelspec": {
   "display_name": "Python 3 (ipykernel)",
   "language": "python",
   "name": "python3"
  },
  "language_info": {
   "codemirror_mode": {
    "name": "ipython",
    "version": 3
   },
   "file_extension": ".py",
   "mimetype": "text/x-python",
   "name": "python",
   "nbconvert_exporter": "python",
   "pygments_lexer": "ipython3",
   "version": "3.9.13"
  }
 },
 "nbformat": 4,
 "nbformat_minor": 5
}
