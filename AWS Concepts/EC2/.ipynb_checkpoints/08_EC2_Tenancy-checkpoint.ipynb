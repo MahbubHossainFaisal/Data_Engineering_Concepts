{
 "cells": [
  {
   "cell_type": "markdown",
   "id": "a64d173b",
   "metadata": {},
   "source": [
    "### AWS Tenancy Explained\n",
    "\n",
    "AWS Tenancy defines the type of hardware on which your EC2 instances run and the level of isolation you get from other AWS customers. Think of it as choosing between different types of housing—shared apartments, private villas, or dedicated buildings—each offering different levels of privacy, cost, and control.\n",
    "\n",
    "### Types of AWS Tenancy\n",
    "\n",
    "There are three main tenancy options in AWS:\n",
    "\n",
    "1. **Shared Tenancy (Default)**\n",
    "2. **Dedicated Instance**\n",
    "3. **Dedicated Host**\n",
    "\n",
    "#### 1. Shared Tenancy (Default)\n",
    "\n",
    "- **What It Is**: Your EC2 instances share physical servers with other AWS customers’ instances. It’s like living in a shared apartment where multiple tenants occupy different rooms.\n",
    "- **Relation to Hardware**: Instances from multiple customers can reside on the same physical hardware, meaning you share resources like CPU and memory with others.\n",
    "- **Cost**: Most cost-effective because AWS maximizes server usage.\n",
    "- **Use Case**: General-purpose applications where isolation from other tenants isn’t critical.\n",
    "\n",
    "#### 2. Dedicated Instance\n",
    "\n",
    "- **What It Is**: Your EC2 instances run on hardware dedicated to your account, but AWS still manages the underlying servers. It’s like renting a private villa—you get the whole building, but you don't control the structure.\n",
    "- **Relation to Hardware**: Your instances have their own physical servers that are not shared with other AWS customers.\n",
    "- **Cost**: Higher than Shared Tenancy because you’re paying for more isolation and dedicated resources.\n",
    "- **Use Case**: Scenarios where you need additional isolation due to compliance, licensing, or regulatory requirements.\n",
    "\n",
    "#### 3. Dedicated Host\n",
    "\n",
    "- **What It Is**: You get complete control over the physical server, allowing you to manage instance placement and use your own software licenses. It’s like owning a private building where you control everything inside.\n",
    "- **Relation to Hardware**: You have full visibility and control over the physical hardware, including sockets, cores, and host maintenance schedules.\n",
    "- **Cost**: Most expensive because you’re leasing the entire server, not just the capacity for your instances.\n",
    "- **Use Case**: For companies with strict compliance requirements, legacy software needing specific server configurations, or those optimizing software licensing costs.\n",
    "\n",
    "### Comparison of AWS Tenancy Types\n",
    "\n",
    "| **Tenancy Type**        | **Relation to Hardware**               | **Isolation Level**              | **Cost**           | **Use Case**                                     |\n",
    "|-------------------------|----------------------------------------|----------------------------------|--------------------|--------------------------------------------------|\n",
    "| **Shared Tenancy**      | Shared servers with other customers    | Low                             | Lowest             | General-purpose apps, cost-sensitive workloads   |\n",
    "| **Dedicated Instance**  | Dedicated servers for your account     | Medium                          | Higher             | Compliance-sensitive workloads needing isolation |\n",
    "| **Dedicated Host**      | Complete control over physical server  | High                            | Highest            | Regulatory needs, licensing control, legacy apps |\n",
    "\n",
    "### Simplified Visualization\n",
    "\n",
    "- **Shared Tenancy**: Like renting a room in a shared apartment—low cost, but you share the building with others.\n",
    "- **Dedicated Instance**: Like having a private villa—you’re the only one there, but you don’t control the overall property management.\n",
    "- **Dedicated Host**: Like owning a private building—you control everything, including maintenance and who occupies which space.\n",
    "\n",
    "This analogy helps relate AWS Tenancy to everyday housing choices, illustrating the trade-offs between cost, control, and isolation, making it easier to decide which tenancy suits your needs."
   ]
  }
 ],
 "metadata": {
  "kernelspec": {
   "display_name": "Python 3 (ipykernel)",
   "language": "python",
   "name": "python3"
  },
  "language_info": {
   "codemirror_mode": {
    "name": "ipython",
    "version": 3
   },
   "file_extension": ".py",
   "mimetype": "text/x-python",
   "name": "python",
   "nbconvert_exporter": "python",
   "pygments_lexer": "ipython3",
   "version": "3.9.13"
  }
 },
 "nbformat": 4,
 "nbformat_minor": 5
}
