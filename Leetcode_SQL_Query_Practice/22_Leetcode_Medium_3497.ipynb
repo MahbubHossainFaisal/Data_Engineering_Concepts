{
 "cells": [
  {
   "attachments": {},
   "cell_type": "markdown",
   "id": "24002f4c",
   "metadata": {},
   "source": [
    "https://leetcode.com/problems/analyze-subscription-conversion/description/"
   ]
  },
  {
   "cell_type": "code",
   "execution_count": null,
   "id": "a1ca2f0d",
   "metadata": {},
   "outputs": [],
   "source": [
    "-- First approach\n",
    "\n",
    "with CTE as\n",
    "(\n",
    "    select user_id, activity_date, activity_type, activity_duration\n",
    "    from useractivity\n",
    "    where user_id in (SELECT user_id FROM useractivity GROUP BY user_id\n",
    "    HAVING \n",
    "    SUM(CASE WHEN activity_type = 'free_trial' THEN 1 ELSE 0 END) > 0\n",
    "    AND SUM(CASE WHEN activity_type = 'paid' THEN 1 ELSE 0 END) > 0 )\n",
    "),\n",
    "cte2 as \n",
    "(\n",
    "    select user_id, 'free_trial' as activity_type, case when activity_type = 'free_trial' then activity_duration else NULL end as activity_duration_free_trial\n",
    "    from cte\n",
    "),\n",
    "cte3 as \n",
    "(\n",
    "     select user_id, 'paid' as activity_type, case when activity_type = 'paid' then activity_duration else NULL end as activity_duration_paid\n",
    "    from cte\n",
    ")\n",
    "select ft.user_id, round(avg(activity_duration_free_trial),2) as trial_avg_duration,\n",
    "round(avg(activity_duration_paid),2) paid_avg_duration\n",
    "from cte2 ft\n",
    "inner join cte3 p\n",
    "on ft.user_id = p.user_id\n",
    "where activity_duration_free_trial is not null and activity_duration_paid is not null\n",
    "group by(ft.user_id)\n",
    "order by ft.user_id\n",
    " "
   ]
  },
  {
   "cell_type": "code",
   "execution_count": null,
   "id": "afd8a261",
   "metadata": {},
   "outputs": [],
   "source": []
  }
 ],
 "metadata": {
  "kernelspec": {
   "display_name": "Python 3 (ipykernel)",
   "language": "python",
   "name": "python3"
  },
  "language_info": {
   "codemirror_mode": {
    "name": "ipython",
    "version": 3
   },
   "file_extension": ".py",
   "mimetype": "text/x-python",
   "name": "python",
   "nbconvert_exporter": "python",
   "pygments_lexer": "ipython3",
   "version": "3.9.13"
  }
 },
 "nbformat": 4,
 "nbformat_minor": 5
}
