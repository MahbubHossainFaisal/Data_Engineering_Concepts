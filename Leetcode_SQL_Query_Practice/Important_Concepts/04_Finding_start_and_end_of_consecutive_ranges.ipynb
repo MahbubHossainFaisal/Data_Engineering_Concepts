{
 "cells": [
  {
   "cell_type": "markdown",
   "id": "0ee907de",
   "metadata": {},
   "source": [
    "### **Problem – Finding Consecutive Sequences (Gaps and Islands)**\n",
    "\n",
    "**Problem:**\n",
    "You have a list of numbers (or dates/IDs), and you want to find ranges of consecutive values.\n",
    "\n",
    "Example:\n",
    "\n",
    "```\n",
    "values = [1, 2, 3, 5, 6, 8]\n",
    "```\n",
    "\n",
    "* Consecutive sequences (islands) are `[1, 2, 3]`, `[5, 6]`, `[8]`.\n",
    "* Goal: Identify the **start and end** of each consecutive sequence.\n",
    "\n",
    "---\n",
    "\n",
    "### **Technique (Row Number Trick)**\n",
    "\n",
    "1. **Order the dataset** and assign a sequential number:\n",
    "\n",
    "   ```\n",
    "   row_number() over (order by value)\n",
    "   ```\n",
    "2. **Compute difference:**\n",
    "\n",
    "   ```\n",
    "   diff = value - row_number\n",
    "   ```\n",
    "\n",
    "   * Consecutive values produce the **same diff**.\n",
    "3. **Group by `diff`** to find islands.\n",
    "4. **Get start and end** of each island:\n",
    "\n",
    "   ```\n",
    "   start = MIN(value), end = MAX(value)\n",
    "   ```\n",
    "\n",
    "**Key Idea:**\n",
    "\n",
    "* The constant `diff` identifies consecutive sequences.\n",
    "* Works for any starting point — sequence does not need to start at 1.\n"
   ]
  },
  {
   "cell_type": "code",
   "execution_count": null,
   "id": "b5506830",
   "metadata": {},
   "outputs": [],
   "source": []
  }
 ],
 "metadata": {
  "kernelspec": {
   "display_name": "Python 3 (ipykernel)",
   "language": "python",
   "name": "python3"
  },
  "language_info": {
   "codemirror_mode": {
    "name": "ipython",
    "version": 3
   },
   "file_extension": ".py",
   "mimetype": "text/x-python",
   "name": "python",
   "nbconvert_exporter": "python",
   "pygments_lexer": "ipython3",
   "version": "3.9.13"
  }
 },
 "nbformat": 4,
 "nbformat_minor": 5
}
