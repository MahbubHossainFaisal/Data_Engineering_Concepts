{
 "cells": [
  {
   "cell_type": "code",
   "execution_count": 9,
   "id": "60ab2214",
   "metadata": {},
   "outputs": [],
   "source": [
    "### Testing Created Package"
   ]
  },
  {
   "cell_type": "code",
   "execution_count": 10,
   "id": "bb574162",
   "metadata": {},
   "outputs": [],
   "source": [
    "# pip list"
   ]
  },
  {
   "cell_type": "code",
   "execution_count": 11,
   "id": "6a40c4e1",
   "metadata": {},
   "outputs": [
    {
     "name": "stdout",
     "output_type": "stream",
     "text": [
      "C:\\Users\\Mahbub\\anaconda3\\python.exe\n"
     ]
    }
   ],
   "source": [
    "import sys\n",
    "print(sys.executable)\n"
   ]
  },
  {
   "cell_type": "code",
   "execution_count": 3,
   "id": "34086f2f",
   "metadata": {},
   "outputs": [
    {
     "name": "stdout",
     "output_type": "stream",
     "text": [
      "Processing c:\\users\\mahbub\\desktop\\data engineering\\software_engineering_principles\\python_packageNote: you may need to restart the kernel to use updated packages.\n",
      "\n",
      "  Preparing metadata (setup.py): started\n",
      "  Preparing metadata (setup.py): finished with status 'done'\n",
      "Building wheels for collected packages: python-package\n",
      "  Building wheel for python-package (setup.py): started\n",
      "  Building wheel for python-package (setup.py): finished with status 'done'\n",
      "  Created wheel for python-package: filename=python_package-0.1.0-py3-none-any.whl size=2633 sha256=7f5011b8b9694dbb894fc6c7886866b352a286fdf8b6e86c2113b6de7b0bf951\n",
      "  Stored in directory: C:\\Users\\Mahbub\\AppData\\Local\\Temp\\pip-ephem-wheel-cache-rqfqiy5l\\wheels\\3c\\6c\\f3\\675bf0e9458e4a3f3b172fb09775d5472c746b57321ccd9ae0\n",
      "Successfully built python-package\n",
      "Installing collected packages: python-package\n",
      "  Attempting uninstall: python-package\n",
      "    Found existing installation: python-package 0.1.0\n",
      "    Uninstalling python-package-0.1.0:\n",
      "      Successfully uninstalled python-package-0.1.0\n",
      "Successfully installed python-package-0.1.0\n"
     ]
    }
   ],
   "source": [
    "pip install \"C:\\Users\\Mahbub\\Desktop\\Data Engineering\\Software_Engineering_Principles\\python_package\""
   ]
  },
  {
   "cell_type": "code",
   "execution_count": 7,
   "id": "c6afc036",
   "metadata": {},
   "outputs": [
    {
     "name": "stdout",
     "output_type": "stream",
     "text": [
      "Hello, World!\n"
     ]
    }
   ],
   "source": [
    "from package import greet\n",
    "\n",
    "print(greet(\"World\"))\n"
   ]
  },
  {
   "cell_type": "code",
   "execution_count": null,
   "id": "8570b67a",
   "metadata": {},
   "outputs": [],
   "source": []
  }
 ],
 "metadata": {
  "kernelspec": {
   "display_name": "Python 3 (ipykernel)",
   "language": "python",
   "name": "python3"
  },
  "language_info": {
   "codemirror_mode": {
    "name": "ipython",
    "version": 3
   },
   "file_extension": ".py",
   "mimetype": "text/x-python",
   "name": "python",
   "nbconvert_exporter": "python",
   "pygments_lexer": "ipython3",
   "version": "3.9.13"
  }
 },
 "nbformat": 4,
 "nbformat_minor": 5
}
