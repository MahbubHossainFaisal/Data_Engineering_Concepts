{
 "cells": [
  {
   "cell_type": "markdown",
   "id": "e371ef82",
   "metadata": {},
   "source": [
    "1. Map: Apply a Transformation to a List of Integers\n",
    "\n",
    "- You are given a list of integers. Write a function using map() to square each number in the list."
   ]
  },
  {
   "cell_type": "markdown",
   "id": "f18f4d8b",
   "metadata": {},
   "source": [
    "nums = [1, 2, 3, 4, 5]\n",
    "#### Output: [1, 4, 9, 16, 25]\n"
   ]
  },
  {
   "cell_type": "code",
   "execution_count": 5,
   "id": "b33040a5",
   "metadata": {},
   "outputs": [
    {
     "name": "stdout",
     "output_type": "stream",
     "text": [
      "[1, 4, 9, 16, 25]\n"
     ]
    }
   ],
   "source": [
    "nums = [1,2,3,4,5]\n",
    "\n",
    "squared = map(lambda x: x**2,nums)\n",
    "\n",
    "squared_list = list(squared)\n",
    "print(squared_list)"
   ]
  },
  {
   "cell_type": "markdown",
   "id": "d57b109c",
   "metadata": {},
   "source": [
    "2. Filter: Remove Negative Numbers\n",
    "- You are given a list of numbers with both positive and negative values. Write a function using filter() to remove the negative numbers and return the positive ones.\n",
    "\n",
    "nums = [1, -2, 3, -4, 5]\n",
    "##### Output: [1, 3, 5]\n"
   ]
  },
  {
   "cell_type": "code",
   "execution_count": 7,
   "id": "8dd471d3",
   "metadata": {},
   "outputs": [
    {
     "name": "stdout",
     "output_type": "stream",
     "text": [
      "[1, 3, 5]\n"
     ]
    }
   ],
   "source": [
    "nums =  [1, -2, 3, -4, 5]\n",
    "\n",
    "positives = filter(lambda x: x>=0,nums)\n",
    "\n",
    "positives_list = list(positives)\n",
    "\n",
    "print(positives_list)"
   ]
  },
  {
   "cell_type": "markdown",
   "id": "53851617",
   "metadata": {},
   "source": [
    "3. Reduce: Sum of All Elements in a List\n",
    "- Using reduce(), write a function to calculate the sum of all numbers in a list of integers.\n",
    "nums = [1, 2, 3, 4, 5]\n",
    "#### Output: 15\n"
   ]
  },
  {
   "cell_type": "code",
   "execution_count": 11,
   "id": "758d7423",
   "metadata": {},
   "outputs": [
    {
     "name": "stdout",
     "output_type": "stream",
     "text": [
      "15\n"
     ]
    }
   ],
   "source": [
    "from functools import reduce\n",
    "nums = [1, 2, 3, 4, 5]\n",
    "\n",
    "sum_nums = reduce(lambda x,y: x+y,nums)\n",
    "\n",
    "\n",
    "print(sum_nums)"
   ]
  },
  {
   "cell_type": "markdown",
   "id": "afd07133",
   "metadata": {},
   "source": [
    "4. Lambda: Transform a List of Strings to Uppercase\n",
    "- Write a lambda function inside map() to convert a list of strings to uppercase.\n",
    "\n",
    "strings = ['apple', 'banana', 'cherry']\n",
    "#### Output: ['APPLE', 'BANANA', 'CHERRY']\n"
   ]
  },
  {
   "cell_type": "code",
   "execution_count": 12,
   "id": "cc9cd760",
   "metadata": {},
   "outputs": [
    {
     "name": "stdout",
     "output_type": "stream",
     "text": [
      "['APPLE', 'BANANA', 'CHERRY']\n"
     ]
    }
   ],
   "source": [
    "strings = ['apple', 'banana', 'cherry']\n",
    "\n",
    "upper_strings = map(lambda x: x.upper(), strings)\n",
    "\n",
    "upper_strings_list = list(upper_strings)\n",
    "\n",
    "print(upper_strings_list)"
   ]
  },
  {
   "cell_type": "markdown",
   "id": "4a4bbc72",
   "metadata": {},
   "source": [
    "5. Lambda + Filter: Extract Even Numbers\n",
    "- You are given a list of numbers. Use filter() and a lambda function to return only the even numbers.\n",
    "\n",
    "nums = [1, 2, 3, 4, 5, 6]\n",
    "#### Output: [2, 4, 6]\n"
   ]
  },
  {
   "cell_type": "code",
   "execution_count": 18,
   "id": "a3310668",
   "metadata": {},
   "outputs": [
    {
     "name": "stdout",
     "output_type": "stream",
     "text": [
      "[2, 4, 6]\n"
     ]
    }
   ],
   "source": [
    "nums = [1, 2, 3, 4, 5, 6]\n",
    "\n",
    "even_nums = filter(lambda x: x%2 == 0, nums)\n",
    "\n",
    "even_nums_list = list(even_nums)\n",
    "\n",
    "print(even_nums_list)"
   ]
  },
  {
   "cell_type": "markdown",
   "id": "587ecd54",
   "metadata": {},
   "source": [
    "6. Map + Lambda: Extract Specific Fields from a List of Dictionaries\n",
    "- You are given a list of dictionaries. Use map() and lambda to extract the \"name\" field from each dictionary.\n",
    "\n",
    "people = [{'name': 'Alice', 'age': 25}, {'name': 'Bob', 'age': 30}, {'name': 'Charlie', 'age': 35}]\n",
    "#### Output: ['Alice', 'Bob', 'Charlie']\n"
   ]
  },
  {
   "cell_type": "code",
   "execution_count": 20,
   "id": "d7db8448",
   "metadata": {},
   "outputs": [
    {
     "name": "stdout",
     "output_type": "stream",
     "text": [
      "['Alice', 'Bob', 'Charlie']\n"
     ]
    }
   ],
   "source": [
    "people = [{'name': 'Alice', 'age': 25}, {'name': 'Bob', 'age': 30}, {'name': 'Charlie', 'age': 35}]\n",
    "\n",
    "names = map(lambda x: x['name'],people)\n",
    "\n",
    "names_list = list(names)\n",
    "print(names_list)"
   ]
  },
  {
   "cell_type": "markdown",
   "id": "30690d4b",
   "metadata": {},
   "source": [
    "7. Map + Filter: Filter Odd Numbers and Double Them\n",
    "- Write a function that uses map() and filter() to filter out the odd numbers from a list and double each of the remaining numbers.\n",
    "\n",
    "nums = [1, 2, 3, 4, 5, 6]\n",
    "#### Output: [4, 8, 12]\n"
   ]
  },
  {
   "cell_type": "code",
   "execution_count": 22,
   "id": "857e5819",
   "metadata": {},
   "outputs": [
    {
     "name": "stdout",
     "output_type": "stream",
     "text": [
      "[4, 8, 12]\n"
     ]
    }
   ],
   "source": [
    "nums = [1, 2, 3, 4, 5, 6]\n",
    "\n",
    "even = filter(lambda x: x%2 == 0, nums)\n",
    "\n",
    "doubled = map(lambda x: x*2, even)\n",
    "\n",
    "doubled_list = list(doubled)\n",
    "\n",
    "print(doubled_list)"
   ]
  },
  {
   "cell_type": "markdown",
   "id": "eee5567a",
   "metadata": {},
   "source": [
    "8. Reduce: Find the Maximum Number\n",
    "- Use reduce() to find the maximum value in a list of integers.\n",
    "\n",
    "nums = [1, 5, 3, 9, 2]\n",
    "#### Output: 9\n"
   ]
  },
  {
   "cell_type": "code",
   "execution_count": 26,
   "id": "2e8d37d8",
   "metadata": {},
   "outputs": [
    {
     "name": "stdout",
     "output_type": "stream",
     "text": [
      "9\n"
     ]
    }
   ],
   "source": [
    "nums = [1, 5, 3, 9, 2]\n",
    "\n",
    "max_num = reduce(lambda x,y: x if x>y else y,nums)\n",
    "\n",
    "print(max_num)"
   ]
  },
  {
   "cell_type": "markdown",
   "id": "e287412c",
   "metadata": {},
   "source": [
    "10. Map + Reduce: Calculate the Product of All Numbers\n",
    "\n",
    "- First, use map() to square each number in a list. Then, use reduce() to multiply all the squared numbers together.\n",
    "\n",
    "nums = [1, 2, 3, 4]\n",
    "\n",
    "#### Output: 576 (1^2 * 2^2 * 3^2 * 4^2)\n"
   ]
  },
  {
   "cell_type": "code",
   "execution_count": 29,
   "id": "39e27083",
   "metadata": {},
   "outputs": [
    {
     "name": "stdout",
     "output_type": "stream",
     "text": [
      "[1, 4, 9, 16]\n",
      "576\n"
     ]
    }
   ],
   "source": [
    "nums = [1, 2, 3, 4]\n",
    "\n",
    "doubled = map(lambda x: x**2, nums)\n",
    "\n",
    "doubled_list = list(doubled)\n",
    "\n",
    "print(doubled_list)\n",
    "\n",
    "product = reduce(lambda x,y: x*y,doubled_list)\n",
    "\n",
    "print(product)"
   ]
  },
  {
   "cell_type": "markdown",
   "id": "c4f7f5c8",
   "metadata": {},
   "source": [
    "11. Map + Filter: Remove Duplicate Elements and Double Them\n",
    "\n",
    "- Write a function that removes duplicate values from a list using filter() and then doubles each value using map().\n",
    "\n",
    "nums = [1, 2, 2, 3, 4, 5, 5]\n",
    "#### Output: [2, 4, 6, 8, 10]\n"
   ]
  },
  {
   "cell_type": "code",
   "execution_count": 1,
   "id": "42484c68",
   "metadata": {},
   "outputs": [
    {
     "name": "stdout",
     "output_type": "stream",
     "text": [
      "[2, 4, 6, 8, 10]\n"
     ]
    }
   ],
   "source": [
    "nums = [1, 2, 2, 3, 4, 5, 5]\n",
    "\n",
    "seen = set()\n",
    "unique_ordered = filter(lambda x: not (x in seen or seen.add(x)), nums)\n",
    "\n",
    "unique_ordered_list = list(unique_ordered)\n",
    "\n",
    "# Step 2: Double them\n",
    "doubled = map(lambda x: x * 2, unique_ordered_list)\n",
    "\n",
    "print(list(doubled))\n"
   ]
  },
  {
   "cell_type": "markdown",
   "id": "073aa310",
   "metadata": {},
   "source": [
    "12. Map + Reduce: Find the Average of a List\n",
    "\n",
    "- Use map() to square each number in the list, and then use reduce() to find the sum of the squared numbers. Finally, calculate the average of the list.\n",
    "\n",
    "nums = [1, 2, 3, 4]\n",
    "#### Output: 7.5 (1^2 + 2^2 + 3^2 + 4^2) / 4\n"
   ]
  },
  {
   "cell_type": "code",
   "execution_count": 5,
   "id": "eeaf22e1",
   "metadata": {},
   "outputs": [
    {
     "name": "stdout",
     "output_type": "stream",
     "text": [
      "7.5\n"
     ]
    }
   ],
   "source": [
    "from functools import reduce\n",
    "nums = [1, 2, 3, 4]\n",
    "\n",
    "squared = map(lambda x: x**2,nums)\n",
    "\n",
    "sum_nums = reduce(lambda x,y: x+y,squared)\n",
    "\n",
    "avg_nums = sum_nums/len(nums)\n",
    "\n",
    "print(avg_nums)"
   ]
  },
  {
   "cell_type": "markdown",
   "id": "e1b9cf37",
   "metadata": {},
   "source": [
    "Awesome follow-up — let’s break it down **simply and clearly** 🔍\n",
    "\n",
    "---\n",
    "\n",
    "## 🧠 What are `concurrent.futures`, `ThreadPoolExecutor`, and `ProcessPoolExecutor`?\n",
    "\n",
    "They are tools in Python to help you do **parallel or concurrent work** — meaning doing **multiple tasks at the same time**.\n",
    "\n",
    "---\n",
    "\n",
    "### 1. `concurrent.futures`\n",
    "This is a built-in Python module that provides **high-level** tools to manage **threads** or **processes**.\n",
    "\n",
    "You don’t need to manually handle threads or processes — it does the hard work for you.\n",
    "\n",
    "---\n",
    "\n",
    "### 2. `ThreadPoolExecutor`\n",
    "\n",
    "- Uses **threads**.\n",
    "- Best for **I/O-bound** tasks.  \n",
    "  ➤ Example: downloading files, reading from disk, network operations.\n",
    "\n",
    "🧠 Threads share memory and run in the **same process**.\n",
    "\n",
    "---\n",
    "\n",
    "### 3. `ProcessPoolExecutor`\n",
    "\n",
    "- Uses **processes** (not threads).\n",
    "- Best for **CPU-bound** tasks.  \n",
    "  ➤ Example: doing heavy calculations like matrix multiplications, image processing, etc.\n",
    "\n",
    "🧠 Each process has **its own memory space**, making it better for real parallel execution (especially on multiple CPU cores).\n",
    "\n",
    "---\n",
    "\n",
    "### 🎯 Real-World Analogy:\n",
    "\n",
    "| Tool                  | Analogy                                       |\n",
    "|-----------------------|-----------------------------------------------|\n",
    "| `ThreadPoolExecutor`  | Asking 10 friends to call people in parallel |\n",
    "| `ProcessPoolExecutor` | Hiring 10 workers in separate rooms to work  |\n",
    "\n",
    "---\n",
    "\n",
    "### 🤔 So Which One for “Squaring Large Numbers”?\n",
    "\n",
    "Since **squaring numbers** is a **CPU task**, we should use:\n",
    "```python\n",
    "from concurrent.futures import ProcessPoolExecutor\n",
    "```\n"
   ]
  },
  {
   "cell_type": "markdown",
   "id": "e36446af",
   "metadata": {},
   "source": [
    "### ✅ Goal:\n",
    "Given a list of numbers like `[1000, 2000, 3000, 4000, 5000]`, use parallel processing to **square** each number faster.\n",
    "\n",
    "---\n",
    "\n",
    "### ✅ Final Working Code:\n",
    "\n",
    "```python\n",
    "from concurrent.futures import ProcessPoolExecutor\n",
    "\n",
    "# Step 1: Define the function to apply\n",
    "def square(x):\n",
    "    return x * x\n",
    "\n",
    "# Step 2: Input list (you can imagine this being a large list)\n",
    "nums = [1000, 2000, 3000, 4000, 5000]\n",
    "\n",
    "# Step 3: Use ProcessPoolExecutor to map the function in parallel\n",
    "if __name__ == '__main__':  # Required for multiprocessing on Windows\n",
    "    with ProcessPoolExecutor() as executor:\n",
    "        result = list(executor.map(square, nums))\n",
    "    \n",
    "    print(result)\n",
    "```\n",
    "\n",
    "---\n",
    "\n",
    "### 🔍 Output:\n",
    "```python\n",
    "[1000000, 4000000, 9000000, 16000000, 25000000]\n",
    "```\n",
    "\n",
    "---\n",
    "\n",
    "### ✅ Explanation:\n",
    "\n",
    "| Step | Code Part                         | What It Does |\n",
    "|------|----------------------------------|---------------|\n",
    "| 1    | `def square(x)`                  | Your function to compute square |\n",
    "| 2    | `nums = [...]`                   | Your input list |\n",
    "| 3    | `ProcessPoolExecutor()`          | Creates a pool of processes |\n",
    "| 4    | `executor.map(square, nums)`     | Applies the `square` function to each number **in parallel** |\n",
    "| 5    | `list(...)`                      | Converts the result to a list |\n",
    "| 6    | `if __name__ == '__main__'`      | Important guard for multiprocessing (especially on Windows) |\n",
    "\n",
    "---\n",
    "\n",
    "### 💡 Why this is powerful:\n",
    "If your list has **millions of numbers**, using `ProcessPoolExecutor` can significantly **speed up the computation** by using multiple CPU cores.\n",
    "\n",
    "---"
   ]
  },
  {
   "cell_type": "markdown",
   "id": "229cb749",
   "metadata": {},
   "source": [
    "15. Implementing Custom Higher-Order Function: Map Over a List of Lists\n",
    "\n",
    "- Write a custom higher-order function that takes a function and a list of lists as input and applies the function to each element inside the sublists using map().\n",
    "\n",
    "data = [[1, 2], [3, 4], [5, 6]]\n",
    "\n",
    "#### Apply a function to each element of the inner lists\n",
    "#### Example: Add 10 to each number\n",
    "#### Output: [[11, 12], [13, 14], [15, 16]]\n"
   ]
  },
  {
   "cell_type": "code",
   "execution_count": 10,
   "id": "fee81a94",
   "metadata": {},
   "outputs": [
    {
     "name": "stdout",
     "output_type": "stream",
     "text": [
      "[[21, 22], [23, 24], [25, 26]]\n"
     ]
    }
   ],
   "source": [
    "def custom_map(func, nested_list):\n",
    "    return [list(map(lambda x: x+10,num_list)) for num_list in nested_list]\n",
    "\n",
    "\n",
    "def add(val):\n",
    "    return val+10\n",
    "\n",
    "nums = [[11, 12], [13, 14], [15, 16]]\n",
    "\n",
    "result = custom_map(add,nums);\n",
    "\n",
    "print(result)\n"
   ]
  },
  {
   "cell_type": "code",
   "execution_count": null,
   "id": "859dc071",
   "metadata": {},
   "outputs": [],
   "source": []
  }
 ],
 "metadata": {
  "kernelspec": {
   "display_name": "Python 3 (ipykernel)",
   "language": "python",
   "name": "python3"
  },
  "language_info": {
   "codemirror_mode": {
    "name": "ipython",
    "version": 3
   },
   "file_extension": ".py",
   "mimetype": "text/x-python",
   "name": "python",
   "nbconvert_exporter": "python",
   "pygments_lexer": "ipython3",
   "version": "3.9.13"
  }
 },
 "nbformat": 4,
 "nbformat_minor": 5
}
