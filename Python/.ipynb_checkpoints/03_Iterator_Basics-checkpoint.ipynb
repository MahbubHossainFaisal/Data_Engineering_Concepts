{
 "cells": [
  {
   "cell_type": "markdown",
   "id": "a4f66f5c",
   "metadata": {},
   "source": [
    "1. **Basic Iterator Creation**  \n",
    "   Write a function that creates an iterator from a list and prints all elements using `next()`.\n"
   ]
  },
  {
   "cell_type": "code",
   "execution_count": 7,
   "id": "d573b83a",
   "metadata": {},
   "outputs": [
    {
     "name": "stdout",
     "output_type": "stream",
     "text": [
      "1\n",
      "3\n",
      "4\n",
      "6\n",
      "7\n"
     ]
    }
   ],
   "source": [
    "def iterator_func(num):\n",
    "    #print(dir(num))\n",
    "    iterator = iter(num)\n",
    "    print(next(iterator))\n",
    "    print(next(iterator))\n",
    "    print(next(iterator))\n",
    "    print(next(iterator))\n",
    "    print(next(iterator))1. **Basic Iterator Creation**  \n",
    "   Write a function that creates an iterator from a list and prints all elements using `next()`.\n",
    "\n",
    "\n",
    "num = [1,3,4,6,7]\n",
    "\n",
    "iterator_func(num)"
   ]
  },
  {
   "cell_type": "markdown",
   "id": "8585e028",
   "metadata": {},
   "source": [
    "2. **Manual Iteration with `StopIteration`**  \n",
    "   Create an iterator from a list, and manually iterate using a `while` loop that catches `StopIteration`."
   ]
  },
  {
   "cell_type": "code",
   "execution_count": 8,
   "id": "2c425eb2",
   "metadata": {},
   "outputs": [
    {
     "name": "stdout",
     "output_type": "stream",
     "text": [
      "1\n",
      "3\n",
      "4\n",
      "6\n",
      "7\n"
     ]
    }
   ],
   "source": [
    "def iterator_func(nums):\n",
    "    iterator = iter(nums)\n",
    "    \n",
    "    while True:\n",
    "        try:\n",
    "            print(next(iterator))\n",
    "        except StopIteration:\n",
    "            return\n",
    " \n",
    "num = [1,3,4,6,7]\n",
    "\n",
    "iterator_func(num)"
   ]
  },
  {
   "cell_type": "markdown",
   "id": "0ba79257",
   "metadata": {},
   "source": [
    "3. **Custom Iterator - Count Down**  \n",
    "   Create a class `Countdown` that counts down from a given number to zero using the iterator protocol."
   ]
  },
  {
   "cell_type": "code",
   "execution_count": 18,
   "id": "8b600d54",
   "metadata": {},
   "outputs": [
    {
     "name": "stdout",
     "output_type": "stream",
     "text": [
      "5\n",
      "4\n",
      "3\n",
      "2\n",
      "1\n",
      "0\n"
     ]
    }
   ],
   "source": [
    "class countdown:\n",
    "    def __init__(self,start):\n",
    "        self.start = start\n",
    "        \n",
    "    def __iter__(self):\n",
    "        return self\n",
    "    \n",
    "    def __next__(self):\n",
    "        if self.start < 0:\n",
    "            raise StopIteration\n",
    "        val = self.start\n",
    "        self.start -= 1\n",
    "        return val\n",
    "    \n",
    "    \n",
    "num = countdown(5)\n",
    "iterator = iter(num)\n",
    "\n",
    "while True:\n",
    "    try:\n",
    "        print(next(iterator))\n",
    "    except StopIteration:\n",
    "        break\n",
    "\n"
   ]
  },
  {
   "cell_type": "code",
   "execution_count": null,
   "id": "388b34b0",
   "metadata": {},
   "outputs": [],
   "source": []
  },
  {
   "cell_type": "code",
   "execution_count": 12,
   "id": "312c8a9d",
   "metadata": {},
   "outputs": [
    {
     "name": "stdout",
     "output_type": "stream",
     "text": [
      "5\n",
      "4\n",
      "3\n",
      "2\n",
      "1\n"
     ]
    },
    {
     "data": {
      "text/plain": [
       "<__main__.num at 0x2b443821ac0>"
      ]
     },
     "execution_count": 12,
     "metadata": {},
     "output_type": "execute_result"
    }
   ],
   "source": [
    "class num:\n",
    "    def __init__(self,number):\n",
    "        self.number = number\n",
    "        for val in self:\n",
    "            print(val)\n",
    "    def __iter__(self):\n",
    "        return Countdown(self.number)\n",
    "        \n",
    "\n",
    "class Countdown:\n",
    "    def __init__(self, start):\n",
    "        self.current = start\n",
    "\n",
    "    def __iter__(self):\n",
    "        return self\n",
    "\n",
    "    def __next__(self):\n",
    "        if self.current == 0:\n",
    "            raise StopIteration\n",
    "        val = self.current\n",
    "        self.current -= 1\n",
    "        return val\n",
    "        \n",
    "        \n",
    "num(5)"
   ]
  },
  {
   "cell_type": "markdown",
   "id": "48e1336c",
   "metadata": {},
   "source": [
    "Execution order:\n",
    "    \n",
    "    num(5)\n",
    " └──> num.__init__(5)\n",
    " \n",
    "        └──> for val in self:\n",
    "        \n",
    "                └──> iter(self) → num.__iter__()\n",
    "                \n",
    "                        └──> return Countdown(5)\n",
    "                        \n",
    "                                └──> Countdown.__init__(5)\n",
    "                                \n",
    "                └──> next(iterator) → Countdown.__next__()\n",
    "                \n",
    "                        └──> return current number (and decrement)\n",
    "                        \n",
    "                └──> print(val)\n",
    "                \n",
    "                ⬆ repeat until StopIteration\n"
   ]
  },
  {
   "cell_type": "markdown",
   "id": "31789652",
   "metadata": {},
   "source": [
    "4. **Custom Iterator with `for` loop Compatibility**  \n",
    "   Modify your `Countdown` class to work with a `for` loop directly."
   ]
  },
  {
   "cell_type": "markdown",
   "id": "a433c48a",
   "metadata": {},
   "source": [
    "5 **Check If an Object is Iterable**\n",
    "- Write a function that checks if a given object is iterable or not.\n",
    "    (Hint: Use collections.abc.Iterable.)"
   ]
  },
  {
   "cell_type": "code",
   "execution_count": 2,
   "id": "2577981c",
   "metadata": {},
   "outputs": [
    {
     "name": "stdout",
     "output_type": "stream",
     "text": [
      "True\n",
      "True\n",
      "False\n",
      "True\n",
      "False\n"
     ]
    }
   ],
   "source": [
    "from collections.abc import Iterable\n",
    "\n",
    "\n",
    "def is_iterable(obj):\n",
    "    return isinstance(obj,Iterable)\n",
    "\n",
    "\n",
    "print(is_iterable([1, 2, 3]))        \n",
    "print(is_iterable(\"Hello\"))         \n",
    "print(is_iterable(42))               \n",
    "print(is_iterable((x for x in range(5)))) \n",
    "print(is_iterable(None))            "
   ]
  },
  {
   "cell_type": "markdown",
   "id": "ec9f19fc",
   "metadata": {},
   "source": [
    "\n",
    "**6 Iterate Over Dictionary Keys, Values, and Items**  \n",
    "Given a dictionary, write three loops:\n",
    "- One to iterate over **keys**.\n",
    "- One to iterate over **values**.\n",
    "- One to iterate over **key-value pairs** using an iterator."
   ]
  },
  {
   "cell_type": "code",
   "execution_count": 4,
   "id": "0580d706",
   "metadata": {},
   "outputs": [],
   "source": [
    "info = {\n",
    "    \"name\": \"Mahbub\",\n",
    "    \"age\" : 26,\n",
    "    \"Area\": \"Narayanganj\"\n",
    "}"
   ]
  },
  {
   "cell_type": "code",
   "execution_count": 10,
   "id": "d6fbccff",
   "metadata": {},
   "outputs": [
    {
     "name": "stdout",
     "output_type": "stream",
     "text": [
      "Dictionary_Keys\n",
      "name\n",
      "age\n",
      "Area\n",
      "Dictionary_Values\n",
      "Mahbub\n",
      "26\n",
      "Narayanganj\n",
      "Dictionary Key-Value Pairs\n",
      "('name', 'Mahbub')\n",
      "('age', 26)\n",
      "('Area', 'Narayanganj')\n"
     ]
    }
   ],
   "source": [
    "def dictionary_iteration(iterator):\n",
    "    while True:\n",
    "        try:\n",
    "            val = next(iterator)\n",
    "            print(val)\n",
    "        except StopIteration:\n",
    "            break\n",
    "\n",
    "            \n",
    "print('Dictionary_Keys')\n",
    "dictionary_iteration(iter(info.keys()))\n",
    "print('Dictionary_Values')\n",
    "dictionary_iteration(iter(info.values()))\n",
    "print('Dictionary Key-Value Pairs')\n",
    "dictionary_iteration(iter(info.items()))"
   ]
  },
  {
   "cell_type": "markdown",
   "id": "23ee47d1",
   "metadata": {},
   "source": [
    "**7 Convert String to Iterator and Print Characters**  \n",
    "- Write a Python function that takes a string, converts it to an iterator, and prints each character using `next()` until the string ends.\n"
   ]
  },
  {
   "cell_type": "code",
   "execution_count": 11,
   "id": "3a3a1362",
   "metadata": {},
   "outputs": [
    {
     "name": "stdout",
     "output_type": "stream",
     "text": [
      "I\n",
      "a\n",
      "m\n",
      "F\n",
      "a\n",
      "i\n",
      "s\n",
      "a\n",
      "l\n"
     ]
    }
   ],
   "source": [
    "def string_iteration(text):\n",
    "    iterator = iter(text)\n",
    "    \n",
    "    while True:\n",
    "        try:\n",
    "            val = next(iterator)\n",
    "            print(val)\n",
    "        except StopIteration:\n",
    "            break\n",
    "            \n",
    "            \n",
    "text = 'IamFaisal'\n",
    "\n",
    "string_iteration(text)\n",
    "        "
   ]
  },
  {
   "cell_type": "markdown",
   "id": "7fde87b7",
   "metadata": {},
   "source": [
    "**8 Infinite Counter Iterator (Using itertools.count)**  \n",
    "- Write a script that uses `itertools.count(start, step)` to create an infinite counter and prints the first 10 numbers.\n"
   ]
  },
  {
   "cell_type": "code",
   "execution_count": 13,
   "id": "46e49ee5",
   "metadata": {},
   "outputs": [
    {
     "name": "stdout",
     "output_type": "stream",
     "text": [
      "1\n",
      "3\n",
      "5\n",
      "7\n",
      "9\n"
     ]
    }
   ],
   "source": [
    "import itertools\n",
    "\n",
    "counter = itertools.count(start=1,step=2)\n",
    "val = next(counter)\n",
    "\n",
    "while val<=10 :\n",
    "    print(val)\n",
    "    val = next(counter)\n",
    "    "
   ]
  },
  {
   "cell_type": "markdown",
   "id": "e21dfe6e",
   "metadata": {},
   "source": [
    "**9 Custom Range Iterator**  "
   ]
  },
  {
   "cell_type": "code",
   "execution_count": 14,
   "id": "65575489",
   "metadata": {},
   "outputs": [],
   "source": [
    "class custom_range:\n",
    "    def __init__(self,start,end):\n",
    "        self.start = start\n",
    "        self.end = end\n",
    "        \n",
    "    def __iter__(self):\n",
    "        return custom_range_iterator(self)"
   ]
  },
  {
   "cell_type": "code",
   "execution_count": 15,
   "id": "adb4c8ed",
   "metadata": {},
   "outputs": [
    {
     "name": "stdout",
     "output_type": "stream",
     "text": [
      "1\n",
      "2\n",
      "3\n",
      "4\n",
      "5\n",
      "6\n",
      "7\n",
      "8\n",
      "9\n",
      "10\n"
     ]
    }
   ],
   "source": [
    "class custom_range_iterator:\n",
    "    def __init__(self,iterable_obj):\n",
    "        self.iterable = iterable_obj\n",
    "        \n",
    "    def __iter__(self):\n",
    "        return self\n",
    "    \n",
    "    def __next__(self):\n",
    "        if self.iterable.start >= self.iterable.end:\n",
    "            raise StopIteration\n",
    "            \n",
    "        current = self.iterable.start\n",
    "        self.iterable.start += 1\n",
    "        return current\n",
    "    \n",
    "    \n",
    "\n",
    "for i in custom_range(1,11):\n",
    "    print(i)\n",
    "        \n",
    "        "
   ]
  },
  {
   "cell_type": "markdown",
   "id": "e83b34b5",
   "metadata": {},
   "source": [
    "7. **Iterator Over a File Line by Line**  \n",
    "   Create a generator-like class that reads a file line by line using `__iter__()` and `__next__()`."
   ]
  },
  {
   "cell_type": "code",
   "execution_count": 8,
   "id": "3351242a",
   "metadata": {},
   "outputs": [],
   "source": [
    "class file_iteration:\n",
    "    def __init__(self,filepath):\n",
    "        self.file = open(filepath,'r')\n",
    "        \n",
    "    def __iter__(self):\n",
    "        return self\n",
    "    \n",
    "    def __next__(self):\n",
    "        line = self.file.readline()\n",
    "        if line == '':\n",
    "            self.file.close()\n",
    "            raise StopIteration\n",
    "        return line"
   ]
  },
  {
   "cell_type": "code",
   "execution_count": 11,
   "id": "7568d454",
   "metadata": {},
   "outputs": [
    {
     "name": "stdout",
     "output_type": "stream",
     "text": [
      "Hello!\n",
      "\n",
      "My name is Mahbub.\n",
      "\n",
      "I am a SDE at IQVIA.\n"
     ]
    }
   ],
   "source": [
    "filepath = \"C://Users//Mahbub//Desktop//Data Engineering//Python//test.txt\"\n",
    "\n",
    "obj = file_iteration(filepath)\n",
    "\n",
    "for line in obj:\n",
    "    print(line)"
   ]
  },
  {
   "cell_type": "markdown",
   "id": "5ef235d4",
   "metadata": {},
   "source": [
    "8. **Reversible Iterator**  \n",
    "   Create a class `ReversibleList` that supports forward and reverse iteration."
   ]
  },
  {
   "cell_type": "code",
   "execution_count": 17,
   "id": "a4439d7c",
   "metadata": {},
   "outputs": [],
   "source": [
    "class ReversibleList:\n",
    "    def __init__(self,nums):\n",
    "        self.data = nums\n",
    "        \n",
    "    def __iter__(self):\n",
    "        return iter(self.data)\n",
    "    \n",
    "    def __reversed__(self):\n",
    "        return reversed(self.data)\n",
    "    \n",
    "    \n",
    "    def print_forward(self):\n",
    "        iterator = iter(self)\n",
    "        while True:\n",
    "            try:\n",
    "                val = next(iterator)\n",
    "                print(val)\n",
    "            except StopIteration:\n",
    "                break\n",
    "                \n",
    "    def print_reverse(self):\n",
    "        iterator = reversed(self)\n",
    "        while True:\n",
    "            try:\n",
    "                val = next(iterator)\n",
    "                print(val)\n",
    "            except StopIteration:\n",
    "                break"
   ]
  },
  {
   "cell_type": "code",
   "execution_count": 18,
   "id": "958f0271",
   "metadata": {},
   "outputs": [
    {
     "name": "stdout",
     "output_type": "stream",
     "text": [
      "Forward:\n",
      "1\n",
      "3\n",
      "4\n",
      "5\n",
      "6\n",
      "Reverse\n",
      "6\n",
      "5\n",
      "4\n",
      "3\n",
      "1\n"
     ]
    }
   ],
   "source": [
    "nums = [1,3,4,5,6]\n",
    "\n",
    "obj = ReversibleList(nums)\n",
    "\n",
    "print('Forward:')\n",
    "obj.print_forward()\n",
    "print('Reverse')\n",
    "obj.print_reverse()"
   ]
  },
  {
   "cell_type": "markdown",
   "id": "1e6925c0",
   "metadata": {},
   "source": [
    "9. **Iterator that Skips Elements**  \n",
    "   Write an iterator that iterates over every **other** element of a given list."
   ]
  },
  {
   "cell_type": "code",
   "execution_count": 19,
   "id": "b760d887",
   "metadata": {},
   "outputs": [],
   "source": [
    "class iteration_on_every_other_element_of_a_list:\n",
    "    def __init__(self,data):\n",
    "        self.data = data\n",
    "        \n",
    "    def __iter__(self):\n",
    "        return iter(self.data)\n",
    "    \n",
    "    def print_every_other_element(self):\n",
    "        iterator = iter(self)\n",
    "        while True:\n",
    "            try:\n",
    "                val = next(iterator)\n",
    "                next(iterator)\n",
    "                print(val)\n",
    "            except StopIteration:\n",
    "                break"
   ]
  },
  {
   "cell_type": "code",
   "execution_count": 20,
   "id": "1c470f27",
   "metadata": {},
   "outputs": [
    {
     "name": "stdout",
     "output_type": "stream",
     "text": [
      "1\n",
      "3\n",
      "5\n",
      "7\n",
      "9\n"
     ]
    }
   ],
   "source": [
    "obj = iteration_on_every_other_element_of_a_list([1,2,3,4,5,6,7,8,9,10])\n",
    "\n",
    "obj.print_every_other_element()"
   ]
  },
  {
   "cell_type": "markdown",
   "id": "1202039b",
   "metadata": {},
   "source": [
    "10 **Peekable Iterator — Problem Statement**  \n",
    "You are processing a data stream where you need to inspect the next element before deciding to consume the current one. Traditional iterators do not allow this, as calling `next()` advances the iterator.  \n",
    "**Goal:** Build a `PeekableIterator` that lets you peek at the next element without consuming it."
   ]
  },
  {
   "cell_type": "code",
   "execution_count": null,
   "id": "16c7884d",
   "metadata": {},
   "outputs": [],
   "source": [
    "Sure — here are **clean and clear problem statements** for each one, just the way you'd note them dow\n",
    "\n",
    "---\n",
    "\n",
    "### 4️⃣ **Chained Iterators — Problem Statement**  \n",
    "You have multiple iterables that you want to treat as one continuous sequence without merging them into a single list.  \n",
    "**Goal:** Build a `ChainIterator` that combines multiple iterables into a single seamless iterator, similar to `itertools.chain()`.\n",
    "\n",
    "---\n",
    "\n",
    "\n",
    "---\n",
    "\n",
    "✅ Done!  \n",
    "These are **interview-grade problem statements** — ready for notes.\n",
    "\n",
    "If you want, I can also help you draft one-liner explanations for the solutions too!  \n",
    "Want that?"
   ]
  },
  {
   "cell_type": "code",
   "execution_count": 1,
   "id": "47505d77",
   "metadata": {},
   "outputs": [],
   "source": [
    "logs = [\n",
    "    \"START Session\",\n",
    "    \"User: John\",\n",
    "    \"User: Alice\",\n",
    "    \"END Session\",\n",
    "    \"START Session\",\n",
    "    \"User: Bob\",\n",
    "    \"END Session\"\n",
    "]\n"
   ]
  },
  {
   "cell_type": "code",
   "execution_count": 13,
   "id": "25a7e0ab",
   "metadata": {},
   "outputs": [],
   "source": [
    "class peekableIterator:\n",
    "    def __init__(self,iterator):\n",
    "        self.iterator = iter(iterator)\n",
    "        self.peeked = None\n",
    "        \n",
    "    def __iter__(self):\n",
    "        return self\n",
    "    \n",
    "    def peek(self):\n",
    "        if self.peeked is None:\n",
    "            try:\n",
    "                self.peeked = next(self.iterator)\n",
    "            except StopIteration:\n",
    "                return None\n",
    "        return self.peeked\n",
    "    \n",
    "    def __next__(self):\n",
    "        if self.peeked is not None:\n",
    "            result = self.peeked\n",
    "            self.peeked = None\n",
    "            return result\n",
    "        return next(self.iterator)"
   ]
  },
  {
   "cell_type": "code",
   "execution_count": 15,
   "id": "7143a6c8",
   "metadata": {},
   "outputs": [
    {
     "name": "stdout",
     "output_type": "stream",
     "text": [
      "['John', 'Alice', 'Bob']\n"
     ]
    }
   ],
   "source": [
    "def extract_users(logs):\n",
    "    iterator = peekableIterator(logs)\n",
    "    #print(iterator)\n",
    "    \n",
    "    users = []\n",
    "    \n",
    "    for line in iterator:\n",
    "        if line == 'START Session':\n",
    "            while iterator.peek() != 'END Session' and iterator.peek() is not None:\n",
    "                next_line = next(iterator)\n",
    "                if next_line.startswith(\"User: \"):\n",
    "                    users.append(next_line.replace(\"User: \", \"\"))\n",
    "            next(iterator)\n",
    "            \n",
    "    return users\n",
    "    \n",
    "result = extract_users(logs)\n",
    "print(result)"
   ]
  },
  {
   "cell_type": "markdown",
   "id": "1fdbb827",
   "metadata": {},
   "source": [
    "\n",
    "### 11 **Iterator with Reset Capability — Problem Statement**  \n",
    "When working with large datasets or repeated parsing, you often need to start iterating from the beginning multiple times. Traditional iterators cannot reset once exhausted.  \n",
    "**Goal:** Build an iterator class that supports resetting the iteration back to the beginning."
   ]
  },
  {
   "cell_type": "code",
   "execution_count": 17,
   "id": "714f5ed4",
   "metadata": {},
   "outputs": [],
   "source": [
    "class ResettableIterator:\n",
    "    def __init__(self,iterator):\n",
    "        self.iterator = iterator\n",
    "        self.index = 0\n",
    "        \n",
    "    def __iter__(self):\n",
    "        return self\n",
    "    \n",
    "    def __next__(self):\n",
    "        if self.index >= len(self.iterator):\n",
    "            raise StopIteration\n",
    "        value = self.iterator[self.index]\n",
    "        self.index+=1\n",
    "        return value\n",
    "    \n",
    "    def reset(self):\n",
    "        self.index = 0"
   ]
  },
  {
   "cell_type": "code",
   "execution_count": 24,
   "id": "aec52f77",
   "metadata": {},
   "outputs": [
    {
     "name": "stdout",
     "output_type": "stream",
     "text": [
      "1\n",
      "2\n",
      "3\n",
      "5\n",
      "6\n",
      "1\n"
     ]
    }
   ],
   "source": [
    "data = [1,2,3,5,6,7,8,9]\n",
    "\n",
    "obj = ResettableIterator(data)\n",
    "\n",
    "print(next(obj))\n",
    "print(next(obj))\n",
    "print(next(obj))\n",
    "print(next(obj))\n",
    "print(next(obj))\n",
    "obj.reset()\n",
    "print(next(obj))"
   ]
  },
  {
   "cell_type": "markdown",
   "id": "48cc0603",
   "metadata": {},
   "source": [
    "### 12 **Filtering Iterator — Problem Statement**  \n",
    "While iterating over a collection, you often want to process only elements that match a specific condition, without creating a new filtered list in memory.  \n",
    "**Goal:** Build a `FilterIterator` that applies a condition function and yields only the elements that pass the filter.\n"
   ]
  },
  {
   "cell_type": "code",
   "execution_count": 39,
   "id": "d0dfc8d2",
   "metadata": {},
   "outputs": [],
   "source": [
    "def filter_divisible_by_10(x):\n",
    "    if x%10 == 0:\n",
    "        return True\n",
    "    else:\n",
    "        return False\n",
    "    \n",
    "    \n",
    "class filterIterator:\n",
    "    def __init__(self,data, condition):\n",
    "        self.iterator = iter(data)\n",
    "        self.func = condition\n",
    "    def __iter__(self):\n",
    "        return self\n",
    "    \n",
    "    def __next__(self):\n",
    "        while True:\n",
    "            try:\n",
    "                val = next(self.iterator)\n",
    "                if self.func(val):\n",
    "                    return val\n",
    "            except StopIteration:\n",
    "                raise StopIteration "
   ]
  },
  {
   "cell_type": "code",
   "execution_count": 40,
   "id": "6ac62d61",
   "metadata": {},
   "outputs": [
    {
     "name": "stdout",
     "output_type": "stream",
     "text": [
      "10\n",
      "20\n",
      "30\n",
      "40\n"
     ]
    }
   ],
   "source": [
    "data = [10,20,25,30,35,40,45]\n",
    "\n",
    "obj = filterIterator(data,filter_divisible_by_10)\n",
    "\n",
    "for number in obj:\n",
    "    print(number)"
   ]
  },
  {
   "cell_type": "markdown",
   "id": "3790e606",
   "metadata": {},
   "source": [
    "### 13 **Chained Iterators — Problem Statement**  \n",
    "You have multiple iterables that you want to treat as one continuous sequence without merging them into a single list.  \n",
    "**Goal:** Build a `ChainIterator` that combines multiple iterables into a single seamless iterator, similar to `itertools.chain()`.\n"
   ]
  },
  {
   "cell_type": "code",
   "execution_count": 41,
   "id": "fe5d19bf",
   "metadata": {},
   "outputs": [],
   "source": [
    "class ChainIterator:\n",
    "    def __init__(self, *iterables):\n",
    "        self.iterables = iter(iterables) \n",
    "        self.current_iter = iter(next(self.iterables, [])) \n",
    "\n",
    "    def __iter__(self):\n",
    "        return self\n",
    "\n",
    "    def __next__(self):\n",
    "        try:\n",
    "            return next(self.current_iter) \n",
    "        except StopIteration:\n",
    "            \n",
    "            self.current_iter = iter(next(self.iterables))  \n",
    "            return self.__next__()  \n"
   ]
  },
  {
   "cell_type": "code",
   "execution_count": 42,
   "id": "81cbbc5f",
   "metadata": {},
   "outputs": [
    {
     "name": "stdout",
     "output_type": "stream",
     "text": [
      "1\n",
      "2\n",
      "3\n",
      "4\n",
      "5\n",
      "6\n"
     ]
    }
   ],
   "source": [
    "list1 = [1, 2]\n",
    "list2 = [3, 4]\n",
    "list3 = [5, 6]\n",
    "\n",
    "obj = ChainIterator(list1,list2,list3)\n",
    "\n",
    "\n",
    "for item in obj:\n",
    "    print(item)"
   ]
  },
  {
   "cell_type": "markdown",
   "id": "69822c45",
   "metadata": {},
   "source": [
    "### 14 **Sliding Window Iterator — Problem Statement**  \n",
    "In time-series data or streaming computations, you often need to look at a \"moving window\" of consecutive elements rather than a single item at a time.  \n",
    "**Goal:** Build a `SlidingWindowIterator` that returns a fixed-size window (as a tuple or list) as it moves step by step through the iterable.\n"
   ]
  },
  {
   "cell_type": "code",
   "execution_count": 6,
   "id": "60b100c6",
   "metadata": {},
   "outputs": [
    {
     "name": "stdout",
     "output_type": "stream",
     "text": [
      "(1, 2, 3)\n",
      "(2, 3, 4)\n",
      "(3, 4, 5)\n",
      "(4, 5, 6)\n",
      "(5, 6, 7)\n",
      "(6, 7, 8)\n"
     ]
    }
   ],
   "source": [
    "class SlidingWindowIterator:\n",
    "    def __init__(self, iterable, window_size):\n",
    "        self.iterable = iter(iterable)\n",
    "        self.window_size = window_size\n",
    "        self.window = []\n",
    "\n",
    "    def __iter__(self):\n",
    "        return self\n",
    "    \n",
    "    def __next__(self):\n",
    "        if len(self.window) == self.window_size:\n",
    "            self.window.pop(0)\n",
    "        \n",
    "        try:\n",
    "            self.window.append(next(self.iterable))\n",
    "        except StopIteration:\n",
    "            if len(self.window) < self.window_size:\n",
    "                raise StopIteration\n",
    "        \n",
    "        if len(self.window) == self.window_size:\n",
    "            return tuple(self.window)\n",
    "        \n",
    "        return self.__next__()  \n",
    "\n",
    "\n",
    "data = [1, 2, 3, 4, 5, 6, 7, 8]\n",
    "window_size = 3\n",
    "\n",
    "window_iterator = SlidingWindowIterator(data, window_size)\n",
    "\n",
    "for window in window_iterator:\n",
    "    print(window)\n"
   ]
  },
  {
   "cell_type": "code",
   "execution_count": null,
   "id": "fcf1179b",
   "metadata": {},
   "outputs": [],
   "source": []
  },
  {
   "cell_type": "code",
   "execution_count": null,
   "id": "2d521a21",
   "metadata": {},
   "outputs": [],
   "source": []
  }
 ],
 "metadata": {
  "kernelspec": {
   "display_name": "Python 3 (ipykernel)",
   "language": "python",
   "name": "python3"
  },
  "language_info": {
   "codemirror_mode": {
    "name": "ipython",
    "version": 3
   },
   "file_extension": ".py",
   "mimetype": "text/x-python",
   "name": "python",
   "nbconvert_exporter": "python",
   "pygments_lexer": "ipython3",
   "version": "3.9.13"
  }
 },
 "nbformat": 4,
 "nbformat_minor": 5
}
