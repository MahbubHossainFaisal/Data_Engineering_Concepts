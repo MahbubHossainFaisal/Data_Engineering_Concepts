{
 "cells": [
  {
   "cell_type": "markdown",
   "id": "9b2ff8cc",
   "metadata": {},
   "source": [
    "---\n",
    "\n",
    "**Q1: Read File Contents**  \n",
    "*Easy | Level 1*  \n",
    "Write a function `read_file(file_path)` that opens a text file and returns its contents as a single string.  \n",
    "- Input: `file_path = 'data.txt'`  \n",
    "- Output: `'All file contents as a single string'`\n",
    "\n",
    "---\n"
   ]
  },
  {
   "cell_type": "code",
   "execution_count": 1,
   "id": "049d1656",
   "metadata": {},
   "outputs": [],
   "source": [
    "def read_file(file_path):\n",
    "    full_text = ''\n",
    "    with open(file_path,'r') as f:\n",
    "        for line in f:\n",
    "            full_text+= f' {line.strip()}'\n",
    "        \n",
    "        f.close()\n",
    "        return full_text\n",
    "    \n",
    "    "
   ]
  },
  {
   "cell_type": "code",
   "execution_count": 2,
   "id": "b513fbe5",
   "metadata": {},
   "outputs": [
    {
     "name": "stdout",
     "output_type": "stream",
     "text": [
      " MAhbub Hossain Faisal Raihan Asif Hossain Abeer Imran\n"
     ]
    }
   ],
   "source": [
    "file_path = 'C:/Users/Mahbub/Desktop/Data Engineering/Python/data/info.log'\n",
    "\n",
    "ans = read_file(file_path)\n",
    "print(ans)"
   ]
  },
  {
   "cell_type": "markdown",
   "id": "5bbf8fa7",
   "metadata": {},
   "source": [
    "### Improved Code"
   ]
  },
  {
   "cell_type": "code",
   "execution_count": 3,
   "id": "d3e760a4",
   "metadata": {},
   "outputs": [],
   "source": [
    "def read_file(file_path: str ) -> str:\n",
    "    try:\n",
    "        with open(file_path,'r',encoding='utf-8') as f:\n",
    "            return ' '.join(line.strip() for line in f).strip()\n",
    "    except FileNotFoundError:\n",
    "        raise FileNotFoundError(f'file not found: {file_path}')\n",
    "    except UnicodeDecodeError as e:\n",
    "        raise UnicodeDecodeError(\n",
    "            'utf-8', e.object, e.start, e.end, \n",
    "            f'Invalid UTF-8 character at position {e.start}')"
   ]
  },
  {
   "cell_type": "code",
   "execution_count": 4,
   "id": "37f8440d",
   "metadata": {},
   "outputs": [
    {
     "name": "stdout",
     "output_type": "stream",
     "text": [
      "MAhbub Hossain Faisal Raihan Asif Hossain Abeer Imran\n"
     ]
    }
   ],
   "source": [
    "file_path = 'C:/Users/Mahbub/Desktop/Data Engineering/Python/data/info.log'\n",
    "\n",
    "ans = read_file(file_path)\n",
    "print(ans)"
   ]
  },
  {
   "cell_type": "markdown",
   "id": "63e8bc95",
   "metadata": {},
   "source": [
    "---\n",
    "\n",
    "**Q2: Count Lines in a File**  \n",
    "*Easy | Level 1*  \n",
    "Write a function `count_lines(file_path)` to count and return the number of lines in the given file.  \n",
    "- Input: `file_path = 'data.txt'`  \n",
    "- Output: `Number of lines as integer`\n",
    "\n",
    "---"
   ]
  },
  {
   "cell_type": "code",
   "execution_count": 5,
   "id": "e5629ed6",
   "metadata": {},
   "outputs": [],
   "source": [
    "def count_lines(file_path:str)-> int:\n",
    "    try:\n",
    "        count = 0\n",
    "        with open(file_path, 'r', encoding='utf-8') as f:\n",
    "            for line in f:\n",
    "                count+=1\n",
    "            return count\n",
    "        \n",
    "    except FileNotFoundError:\n",
    "        raise FileNotFoundError(f'file not found: {file_path}')"
   ]
  },
  {
   "cell_type": "code",
   "execution_count": 6,
   "id": "53814cf2",
   "metadata": {},
   "outputs": [
    {
     "name": "stdout",
     "output_type": "stream",
     "text": [
      "8\n"
     ]
    }
   ],
   "source": [
    "file_path = 'C:/Users/Mahbub/Desktop/Data Engineering/Python/data/info.log'\n",
    "\n",
    "ans = count_lines(file_path)\n",
    "print(ans)"
   ]
  },
  {
   "cell_type": "markdown",
   "id": "b051b82f",
   "metadata": {},
   "source": [
    "### Improved"
   ]
  },
  {
   "cell_type": "code",
   "execution_count": 7,
   "id": "80b06001",
   "metadata": {},
   "outputs": [],
   "source": [
    "def count_lines(file_path:str)-> int:\n",
    "    try:\n",
    "        count = 0\n",
    "        with open(file_path, 'r', encoding='utf-8') as f:\n",
    "            return sum(1 for _ in f)\n",
    "        \n",
    "    except FileNotFoundError:\n",
    "        raise FileNotFoundError(f'file not found: {file_path}')"
   ]
  },
  {
   "cell_type": "code",
   "execution_count": 8,
   "id": "945f4e70",
   "metadata": {},
   "outputs": [
    {
     "name": "stdout",
     "output_type": "stream",
     "text": [
      "8\n"
     ]
    }
   ],
   "source": [
    "file_path = 'C:/Users/Mahbub/Desktop/Data Engineering/Python/data/info.log'\n",
    "\n",
    "ans = count_lines(file_path)\n",
    "print(ans)"
   ]
  },
  {
   "cell_type": "markdown",
   "id": "1eb464c3",
   "metadata": {},
   "source": [
    "\n",
    "---\n",
    "\n",
    "### **1. Manual Counting (Original)**\n",
    "```python\n",
    "count = 0\n",
    "with open(file_path, 'r', encoding='utf-8') as f:\n",
    "    for line in f:\n",
    "        count += 1\n",
    "return count\n",
    "```\n",
    "\n",
    "#### **How It Works:**\n",
    "1. Initializes `count = 0`.\n",
    "2. Iterates through the file line-by-line.\n",
    "3. For each line, increments `count` by 1.\n",
    "4. Returns the total count.\n",
    "\n",
    "#### **Key Characteristics:**\n",
    "- **Explicit**: Easy to read for beginners.\n",
    "- **Imperative style**: Uses a loop and a counter variable.\n",
    "- **Performance**: Slightly slower in CPython due to Python's bytecode overhead for loops.\n",
    "\n",
    "---\n",
    "\n",
    "### **2. Generator Expression with `sum()` (Improved)**\n",
    "```python\n",
    "with open(file_path, 'r', encoding='utf-8') as f:\n",
    "    return sum(1 for _ in f)\n",
    "```\n",
    "\n",
    "#### **How It Works:**\n",
    "1. The generator expression `(1 for _ in f)` produces a stream of `1`s (one per line).\n",
    "2. `sum()` adds up all the `1`s, effectively counting the lines.\n",
    "3. `_` is a convention for ignoring the line content (we only care about counting).\n",
    "\n",
    "#### **Key Characteristics:**\n",
    "- **Functional style**: More concise/idiomatic.\n",
    "- **Faster in CPython**: `sum()` is optimized at the C level.\n",
    "- **Memory-efficient**: Never stores all lines at once (like manual counting).\n",
    "\n",
    "---\n",
    "\n",
    "### **Key Differences**\n",
    "\n",
    "| Feature                | Manual Counting (`count += 1`) | Generator + `sum(1 for _ in f)` |\n",
    "|------------------------|-------------------------------|----------------------------------|\n",
    "| **Readability**        | Explicit but verbose          | Concise, but requires generator knowledge |\n",
    "| **Performance**        | Slightly slower (loop overhead) | Faster (optimized `sum()`) |\n",
    "| **Memory Usage**       | Low (iterates line-by-line)    | Identical (also iterates line-by-line) |\n",
    "| **Pythonic-ness**      | Good                          | More idiomatic |\n",
    "| **Best For**           | Beginners or debug scenarios   | Production code |\n",
    "\n",
    "---"
   ]
  },
  {
   "cell_type": "markdown",
   "id": "3bd26e17",
   "metadata": {},
   "source": [
    "---\n",
    "\n",
    "**Q3: Write a List of Strings to File**  \n",
    "*Easy | Level 2*  \n",
    "Write a function `write_lines(file_path, lines)` that writes a list of strings to a file, each string on a new line.  \n",
    "- Input: `[\"apple\", \"banana\", \"cherry\"]`  \n",
    "- Output: Creates `data.txt` with these three lines.\n",
    "\n",
    "---\n"
   ]
  },
  {
   "cell_type": "code",
   "execution_count": 9,
   "id": "09694108",
   "metadata": {},
   "outputs": [],
   "source": [
    "def write_lines(file_path, lines):\n",
    "    with open(file_path,'w',encoding='utf-8') as f:\n",
    "        for line in lines:\n",
    "            f.write(line + '\\n')"
   ]
  },
  {
   "cell_type": "code",
   "execution_count": 10,
   "id": "68e578c6",
   "metadata": {},
   "outputs": [],
   "source": [
    "file_path = 'C:/Users/Mahbub/Desktop/Data Engineering/Python/data/write_test.txt'\n",
    "input= [\"apple\", \"banana\", \"cherry\"]\n",
    "write_lines(file_path,input)"
   ]
  },
  {
   "cell_type": "markdown",
   "id": "52b42884",
   "metadata": {},
   "source": [
    "### Improved Code"
   ]
  },
  {
   "cell_type": "code",
   "execution_count": 11,
   "id": "d80ed3f4",
   "metadata": {},
   "outputs": [],
   "source": [
    "def write_lines(file_path,lines):\n",
    "    \n",
    "    # check if list is passed correctly\n",
    "    if not isinstance(lines,list):\n",
    "        raise TypeError(f'Expected lines to be a list of strings')\n",
    "    \n",
    "    # check if every line in the list is a string\n",
    "    if not all(isinstance(line,str) for line in lines):\n",
    "        raise TypeError(f'Expected each line to be a string in the list of string')\n",
    "        \n",
    "    if not lines:\n",
    "       with open(file_path,'w') as f:\n",
    "        pass\n",
    "        return\n",
    "    \n",
    "    try:\n",
    "        with open(file_path,'w',encoding='utf-8') as f:\n",
    "            f.writelines(f'{line}\\n' for line in lines)\n",
    "    except OSError as e:\n",
    "        raise OSError(f'Cannot write file to this path: {e}')"
   ]
  },
  {
   "cell_type": "code",
   "execution_count": 12,
   "id": "3decdd81",
   "metadata": {},
   "outputs": [],
   "source": [
    "file_path = 'C:/Users/Mahbub/Desktop/Data Engineering/Python/data/write_test.txt'\n",
    "input= [\"apple\", \"banana\", \"cherry\",\"mango\",\"watermelon\"]\n",
    "write_lines(file_path,input)"
   ]
  },
  {
   "cell_type": "markdown",
   "id": "f447712c",
   "metadata": {},
   "source": [
    "### Why Use all() in isinstance(line, str) for line in lines?"
   ]
  },
  {
   "cell_type": "markdown",
   "id": "4c97a708",
   "metadata": {},
   "source": [
    "**Short Answer:**  \n",
    "`all()` ensures **every** item in `lines` is a string. Without it, you’d need a manual loop, which is slower and less readable.  \n",
    "\n",
    "**Why?**  \n",
    "- Checks all elements at once.  \n",
    "- Raises `TypeError` if any item fails (`\"apple\", 123 → False`).  \n",
    "- Cleaner than writing a loop.  \n",
    "\n",
    "**Keep it!** ✅  \n",
    "\n",
    "**Alternative (less clean):**  \n",
    "```python\n",
    "for line in lines:\n",
    "    if not isinstance(line, str):  # Manual check\n",
    "        raise TypeError(\"...\")\n",
    "```"
   ]
  },
  {
   "cell_type": "markdown",
   "id": "b3e14e6b",
   "metadata": {},
   "source": [
    "### ** Explanation of `OSError`**  \n",
    "\n",
    "**What?**  \n",
    "`OSError` is Python’s exception for **system-related failures** (file operations, permissions, invalid paths, etc.).  \n",
    "\n",
    "**When?**  \n",
    "Raised when:  \n",
    "- File doesn’t exist (`FileNotFoundError`).  \n",
    "- No write permissions (`PermissionError`).  \n",
    "- Disk full / invalid path.  \n",
    "\n",
    "**Why Handle It?**  \n",
    "- Prevents crashes (e.g., user provides a read-only path).  \n",
    "- Gives clear feedback (e.g., *\"Cannot write to /admin/file.txt: Permission denied\"*).  \n",
    "\n",
    "**Example:**  \n",
    "```python\n",
    "try:\n",
    "    open(\"/protected/file.txt\", \"w\")  # Fails if no permission\n",
    "except OSError as e:\n",
    "    print(f\"Error: {e}\")  # \"Error: [Errno 13] Permission denied\"\n",
    "```  \n",
    "\n",
    "**Key Takeaway:**  \n",
    "Always catch `OSError` for file operations to handle real-world issues gracefully.  \n",
    "\n",
    "**Keep it!** ✅  \n",
    "\n",
    "**Alternate (Less Common):**  \n",
    "Catch specific subclasses like `PermissionError` or `FileNotFoundError` for finer control.  \n",
    "\n",
    "**Short Note:**  \n",
    "```python\n",
    "OSError = System errors (files, paths, permissions). Handle it!\n",
    "```"
   ]
  },
  {
   "cell_type": "code",
   "execution_count": null,
   "id": "1d422184",
   "metadata": {},
   "outputs": [],
   "source": []
  }
 ],
 "metadata": {
  "kernelspec": {
   "display_name": "Python 3 (ipykernel)",
   "language": "python",
   "name": "python3"
  },
  "language_info": {
   "codemirror_mode": {
    "name": "ipython",
    "version": 3
   },
   "file_extension": ".py",
   "mimetype": "text/x-python",
   "name": "python",
   "nbconvert_exporter": "python",
   "pygments_lexer": "ipython3",
   "version": "3.9.13"
  }
 },
 "nbformat": 4,
 "nbformat_minor": 5
}
