{
 "cells": [
  {
   "cell_type": "code",
   "execution_count": 22,
   "id": "a35839e4",
   "metadata": {},
   "outputs": [],
   "source": [
    "import sys\n",
    "sys.path.append(r'C:\\Users\\Mahbub\\Desktop\\Data Engineering\\Python\\data')"
   ]
  },
  {
   "cell_type": "markdown",
   "id": "80be199e",
   "metadata": {},
   "source": [
    "---\n",
    "1. **[Easy] Q1: Create and Use a Simple Module**  \n",
    "   Create a module `math_utils.py` that contains a function to compute factorial. Import and use it in another script `main.py`.\n",
    "---"
   ]
  },
  {
   "cell_type": "code",
   "execution_count": 23,
   "id": "75fb8d66",
   "metadata": {},
   "outputs": [],
   "source": [
    "from math_fact import factorial"
   ]
  },
  {
   "cell_type": "code",
   "execution_count": 24,
   "id": "70bd8ed3",
   "metadata": {},
   "outputs": [
    {
     "data": {
      "text/plain": [
       "120"
      ]
     },
     "execution_count": 24,
     "metadata": {},
     "output_type": "execute_result"
    }
   ],
   "source": [
    "factorial(5)"
   ]
  },
  {
   "cell_type": "markdown",
   "id": "64068dac",
   "metadata": {},
   "source": [
    "---\n",
    "2. **[Easy] Q3: Import Specific Functions**  \n",
    "   From a module `text_utils.py` that contains multiple string functions, import only `count_vowels()` and use it.\n",
    "---"
   ]
  },
  {
   "cell_type": "code",
   "execution_count": 25,
   "id": "d4bdf380",
   "metadata": {},
   "outputs": [],
   "source": [
    "from math_fact_2 import factorial"
   ]
  },
  {
   "cell_type": "code",
   "execution_count": 26,
   "id": "eae8794f",
   "metadata": {},
   "outputs": [
    {
     "data": {
      "text/plain": [
       "720"
      ]
     },
     "execution_count": 26,
     "metadata": {},
     "output_type": "execute_result"
    }
   ],
   "source": [
    "factorial(6)"
   ]
  },
  {
   "cell_type": "markdown",
   "id": "e066d86f",
   "metadata": {},
   "source": [
    "---\n",
    "4. **[Easy-Medium] Q4: Create a Simple Package**  \n",
    "   Create a package `data_pipeline/` with a structure:\n",
    "   ```\n",
    "   data_pipeline/\n",
    "       __init__.py\n",
    "       cleaner.py\n",
    "       loader.py\n",
    "   ```\n",
    "   Import functions from `cleaner` and `loader` in a script outside the package.\n",
    "---"
   ]
  },
  {
   "cell_type": "code",
   "execution_count": 27,
   "id": "27f69a2c",
   "metadata": {},
   "outputs": [],
   "source": [
    "import sys\n",
    "sys.path.append(r'C:\\Users\\Mahbub\\Desktop\\Data Engineering\\Python\\data\\data_pipeline')"
   ]
  },
  {
   "cell_type": "code",
   "execution_count": 28,
   "id": "cc15a2fe",
   "metadata": {},
   "outputs": [
    {
     "data": {
      "text/plain": [
       "['In',\n",
       " 'Out',\n",
       " '_',\n",
       " '_16',\n",
       " '_18',\n",
       " '_24',\n",
       " '_26',\n",
       " '_3',\n",
       " '_5',\n",
       " '_7',\n",
       " '__',\n",
       " '___',\n",
       " '__builtin__',\n",
       " '__builtins__',\n",
       " '__doc__',\n",
       " '__loader__',\n",
       " '__name__',\n",
       " '__package__',\n",
       " '__spec__',\n",
       " '_dh',\n",
       " '_i',\n",
       " '_i1',\n",
       " '_i10',\n",
       " '_i11',\n",
       " '_i12',\n",
       " '_i13',\n",
       " '_i14',\n",
       " '_i15',\n",
       " '_i16',\n",
       " '_i17',\n",
       " '_i18',\n",
       " '_i19',\n",
       " '_i2',\n",
       " '_i20',\n",
       " '_i21',\n",
       " '_i22',\n",
       " '_i23',\n",
       " '_i24',\n",
       " '_i25',\n",
       " '_i26',\n",
       " '_i27',\n",
       " '_i28',\n",
       " '_i3',\n",
       " '_i4',\n",
       " '_i5',\n",
       " '_i6',\n",
       " '_i7',\n",
       " '_i8',\n",
       " '_i9',\n",
       " '_ih',\n",
       " '_ii',\n",
       " '_iii',\n",
       " '_oh',\n",
       " 'clean_data',\n",
       " 'cleaned',\n",
       " 'data',\n",
       " 'exit',\n",
       " 'extract_data',\n",
       " 'factorial',\n",
       " 'get_ipython',\n",
       " 'load_data',\n",
       " 'loaded_data',\n",
       " 'quit',\n",
       " 'raw_data',\n",
       " 'sys',\n",
       " 'transform_data',\n",
       " 'transformed_data',\n",
       " 'validate_data',\n",
       " 'validated_data']"
      ]
     },
     "execution_count": 28,
     "metadata": {},
     "output_type": "execute_result"
    }
   ],
   "source": [
    "dir()"
   ]
  },
  {
   "cell_type": "code",
   "execution_count": 29,
   "id": "b401cf92",
   "metadata": {},
   "outputs": [],
   "source": [
    "from data_pipeline.cleaner import clean_data\n",
    "from data_pipeline.loader import load_data"
   ]
  },
  {
   "cell_type": "code",
   "execution_count": 30,
   "id": "1562fa85",
   "metadata": {},
   "outputs": [
    {
     "name": "stdout",
     "output_type": "stream",
     "text": [
      "Cleaned data: ['data1', 'data2']\n"
     ]
    }
   ],
   "source": [
    "raw_data = load_data(\"fruits.txt\")\n",
    "cleaned = clean_data(raw_data)\n",
    "print(\"Cleaned data:\", cleaned)\n"
   ]
  },
  {
   "cell_type": "markdown",
   "id": "587e464a",
   "metadata": {},
   "source": [
    "---\n",
    "5. **[Medium] Q5: Use `__all__` for Clean Import API**  \n",
    "   Add `__all__` to your `__init__.py` in `data_pipeline` to control which submodules get imported with `from data_pipeline import *`.\n",
    "--"
   ]
  },
  {
   "cell_type": "markdown",
   "id": "0ad3bfde",
   "metadata": {},
   "source": [
    "To solve this problem, we need to add the `__all__` variable to the `__init__.py` file in the `data_pipeline` package. This variable will control which submodules are imported when someone uses `from data_pipeline import *`. \n",
    "\n",
    "### Solution Code\n",
    "```python\n",
    "# In data_pipeline/__init__.py\n",
    "\n",
    "__all__ = ['submodule1', 'submodule2', 'submodule3']  # Replace with actual submodule names you want to expose\n",
    "```\n",
    "\n",
    "### Explanation\n",
    "1. **Purpose of `__all__`**: The `__all__` variable in Python is a list of strings that defines which symbols should be imported when `from module import *` is used. It effectively acts as a whitelist for public API elements of the module.\n",
    "\n",
    "2. **Implementation**: In the `__init__.py` file of the `data_pipeline` package, you define `__all__` as a list containing the names of the submodules you want to expose. For example, if your package has submodules named `submodule1`, `submodule2`, and `submodule3`, you would list them in `__all__`.\n",
    "\n",
    "3. **Effect**: When a user writes `from data_pipeline import *`, only the submodules listed in `__all__` will be imported into their namespace. This helps in keeping the API clean and prevents unintended imports of internal or private submodules.\n",
    "\n",
    "4. **Customization**: Replace the placeholder submodule names (`'submodule1'`, `'submodule2'`, etc.) with the actual names of the submodules you wish to expose in your `data_pipeline` package.\n",
    "\n",
    "By following this approach, you ensure that the package's public API is clearly defined and users are not overwhelmed or confused by unnecessary imports."
   ]
  },
  {
   "cell_type": "code",
   "execution_count": 31,
   "id": "9f26db47",
   "metadata": {},
   "outputs": [],
   "source": [
    "import sys\n",
    "sys.path.append(r'C:\\Users\\Mahbub\\Desktop\\Data Engineering\\Python\\data')\n"
   ]
  },
  {
   "cell_type": "code",
   "execution_count": 32,
   "id": "561f0567",
   "metadata": {},
   "outputs": [],
   "source": [
    "\n",
    "from data_pipeline import *"
   ]
  },
  {
   "cell_type": "code",
   "execution_count": 33,
   "id": "5f577094",
   "metadata": {},
   "outputs": [
    {
     "name": "stdout",
     "output_type": "stream",
     "text": [
      "Cleaned data: ['data1', 'data2']\n"
     ]
    }
   ],
   "source": [
    "raw_data = load_data(\"fruits.txt\")\n",
    "cleaned = clean_data(raw_data)\n",
    "print(\"Cleaned data:\", cleaned)"
   ]
  },
  {
   "cell_type": "markdown",
   "id": "1d377513",
   "metadata": {},
   "source": [
    "---\n",
    "\n",
    "6. **[Medium] Q6: Organize a Mini ETL Package**  \n",
    "   Extend the package to include `transformer.py`, and demonstrate clean imports from multiple files using absolute imports.\n",
    "\n",
    "---"
   ]
  },
  {
   "cell_type": "markdown",
   "id": "889aaff4",
   "metadata": {},
   "source": [
    "### **Absolute Imports in Python (Explained Simply)**  \n",
    "\n",
    "**Absolute imports** refer to importing a module or its contents using its **full path** from the **project's root directory** (or Python's `sys.path`).  \n",
    "\n",
    "### **Key Characteristics**\n",
    "1. **Starts from the Top-Level Package**  \n",
    "   - Always begins with the **root package name** (e.g., `data_pipeline.transformer`).  \n",
    "   - No `..` or `.` (unlike relative imports).  \n",
    "\n",
    "2. **Explicit and Unambiguous**  \n",
    "   - Clearly shows where the module/function is located.  \n",
    "   - Avoids confusion in large projects.  \n",
    "\n",
    "3. **Works Everywhere**  \n",
    "   - Functions the same way whether you’re:  \n",
    "     - Running a script **inside** the package.  \n",
    "     - Importing the package **from outside**.  \n",
    "\n",
    "---\n",
    "\n",
    "### **Example: Absolute vs. Relative Imports**\n",
    "#### **Directory Structure**\n",
    "```\n",
    "my_project/\n",
    "├── data_pipeline/\n",
    "│   ├── __init__.py\n",
    "│   ├── extractor.py\n",
    "│   ├── transformer.py\n",
    "│   └── loader.py\n",
    "└── main.py  (outside the package)\n",
    "```\n",
    "\n",
    "#### **1. Absolute Import (Recommended)**\n",
    "```python\n",
    "# Inside main.py (or anywhere else)\n",
    "from data_pipeline.transformer import transform_data\n",
    "```\n",
    "- **Path**: Starts from `data_pipeline` (root package).  \n",
    "- **Use Case**: Scripts **outside** the package (e.g., `main.py`).  \n",
    "\n",
    "#### **2. Relative Import (Alternative)**\n",
    "```python\n",
    "# Inside transformer.py (if importing from extractor.py)\n",
    "from .extractor import extract_data\n",
    "```\n",
    "- **Path**: Uses `.` (current directory) or `..` (parent directory).  \n",
    "- **Use Case**: Only for imports **within the same package**.  \n",
    "\n",
    "---\n",
    "\n",
    "### **Why Prefer Absolute Imports?**  \n",
    "1. **Clarity**  \n",
    "   - Clearly shows the module’s location (e.g., `data_pipeline.transformer`).  \n",
    "2. **No Ambiguity**  \n",
    "   - Avoids errors like:  \n",
    "     ```\n",
    "     ImportError: attempted relative import with no known parent package\n",
    "     ```  \n",
    "3. **Refactoring-Friendly**  \n",
    "   - If you move a module, you only update the import path in one place.  \n",
    "\n",
    "---\n",
    "\n",
    "### **Common Pitfalls**  \n",
    "1. **Missing `__init__.py`**  \n",
    "   - Ensures Python treats directories as packages.  \n",
    "2. **Incorrect `sys.path`**  \n",
    "   - If the package isn’t in `sys.path`, absolute imports fail. Fix:  \n",
    "     ```python\n",
    "     import sys\n",
    "     sys.path.append(\"/path/to/project_root\")  # Add parent of `data_pipeline`\n",
    "     ```  \n",
    "3. **Namespace Conflicts**  \n",
    "   - Avoid naming your package after standard libraries (e.g., `json`, `math`).  \n",
    "\n",
    "---\n",
    "\n",
    "### **Demo: Fixing Your `data_pipeline` Import**  \n",
    "If you got `ModuleNotFoundError`, ensure:  \n",
    "1. Your project structure matches:  \n",
    "   ```\n",
    "   C:/Users/Mahbub/.../data/  # Parent dir\n",
    "   └── data_pipeline/  # Package dir\n",
    "       ├── __init__.py\n",
    "       ├── transformer.py\n",
    "       └── ...\n",
    "   ```  \n",
    "2. Use absolute imports in `main.py`:  \n",
    "   ```python\n",
    "   # Add the parent dir to Python's path\n",
    "   import sys\n",
    "   sys.path.append(r\"C:\\Users\\Mahbub\\Desktop\\Data Engineering\\Python\\data\")\n",
    "\n",
    "   from data_pipeline.transformer import transform_data  # Now works!\n",
    "   ```  \n",
    "\n",
    "---\n",
    "\n",
    "### **Summary**  \n",
    "- **Absolute Import** = `from package.submodule import function`.  \n",
    "- **Relative Import** = `from .sibling import function` (for intra-package use only).  \n",
    "- **Best Practice**: Use absolute imports unless you’re writing package-internal code.  \n",
    "\n",
    "This keeps your codebase clean and maintainable! 🚀"
   ]
  },
  {
   "cell_type": "code",
   "execution_count": 34,
   "id": "47a0a09d",
   "metadata": {},
   "outputs": [],
   "source": [
    "from etl_pipeline import extract_data,transform_data,load_data"
   ]
  },
  {
   "cell_type": "code",
   "execution_count": 35,
   "id": "b1e0b66b",
   "metadata": {},
   "outputs": [],
   "source": [
    "from etl_pipeline import validate_data"
   ]
  },
  {
   "cell_type": "code",
   "execution_count": 36,
   "id": "e99410ee",
   "metadata": {},
   "outputs": [
    {
     "name": "stdout",
     "output_type": "stream",
     "text": [
      "Extracting data from raw_file.txt\n"
     ]
    }
   ],
   "source": [
    "data = extract_data('raw_file.txt')"
   ]
  },
  {
   "cell_type": "code",
   "execution_count": 37,
   "id": "9e90cda8",
   "metadata": {},
   "outputs": [
    {
     "data": {
      "text/plain": [
       "[{'raw_data': 'sample'}]"
      ]
     },
     "execution_count": 37,
     "metadata": {},
     "output_type": "execute_result"
    }
   ],
   "source": [
    "data"
   ]
  },
  {
   "cell_type": "code",
   "execution_count": 38,
   "id": "692023da",
   "metadata": {},
   "outputs": [
    {
     "name": "stdout",
     "output_type": "stream",
     "text": [
      "Transforming data...\n"
     ]
    }
   ],
   "source": [
    "transformed_data = transform_data(data)"
   ]
  },
  {
   "cell_type": "code",
   "execution_count": 39,
   "id": "42fc073a",
   "metadata": {},
   "outputs": [
    {
     "data": {
      "text/plain": [
       "[{'cleaned_data': 'SAMPLE'}]"
      ]
     },
     "execution_count": 39,
     "metadata": {},
     "output_type": "execute_result"
    }
   ],
   "source": [
    "transformed_data"
   ]
  },
  {
   "cell_type": "code",
   "execution_count": 40,
   "id": "ba7c4dbf",
   "metadata": {},
   "outputs": [
    {
     "name": "stdout",
     "output_type": "stream",
     "text": [
      "Loading data to output.txt: [{'cleaned_data': 'SAMPLE'}]\n"
     ]
    }
   ],
   "source": [
    "loaded_data = load_data(transformed_data,'output.txt')"
   ]
  },
  {
   "cell_type": "code",
   "execution_count": 41,
   "id": "3f1136bc",
   "metadata": {},
   "outputs": [
    {
     "name": "stdout",
     "output_type": "stream",
     "text": [
      "Validating data...\n"
     ]
    }
   ],
   "source": [
    "validated_data = validate_data(transformed_data)"
   ]
  },
  {
   "cell_type": "code",
   "execution_count": 43,
   "id": "3a40e1fe",
   "metadata": {},
   "outputs": [
    {
     "data": {
      "text/plain": [
       "[{'validated_data': 'SAMPLE'}]"
      ]
     },
     "execution_count": 43,
     "metadata": {},
     "output_type": "execute_result"
    }
   ],
   "source": [
    "validated_data"
   ]
  },
  {
   "cell_type": "markdown",
   "id": "bb47ddea",
   "metadata": {},
   "source": [
    "---\n",
    "\n",
    "\n",
    "8. **[Medium-Hard] Q8: Fail-Case Debug: Relative Import Error**  \n",
    "   Create a module structure where relative imports break. Fix it using proper `__init__.py` and `sys.path` adjustments.\n",
    "\n",
    "\n",
    "---"
   ]
  },
  {
   "cell_type": "markdown",
   "id": "5bcfc7fe",
   "metadata": {},
   "source": [
    "# **Q8 Solution: Debugging Relative Import Errors**\n",
    "\n",
    "Let's create a problematic module structure, trigger a relative import error, and then fix it systematically.\n",
    "\n",
    "## **Problem Setup (Broken Structure)**\n",
    "\n",
    "### **Directory Structure**\n",
    "```\n",
    "project/\n",
    "├── utils/                  # Missing __init__.py\n",
    "│   └── string_cleaner.py\n",
    "└── data_pipeline/\n",
    "    ├── transformer.py      # Tries relative import\n",
    "    └── __init__.py\n",
    "```\n",
    "\n",
    "### **1. string_cleaner.py**\n",
    "```python\n",
    "def clean(text: str) -> str:\n",
    "    return text.strip().lower()\n",
    "```\n",
    "\n",
    "### **2. transformer.py (Problematic Relative Import)**\n",
    "```python\n",
    "from ..utils.string_cleaner import clean  # Will fail!\n",
    "\n",
    "def transform(data: list) -> list:\n",
    "    return [{\"clean\": clean(item[\"raw\"])} for item in data]\n",
    "```\n",
    "\n",
    "### **The Error You'll See**\n",
    "```\n",
    "ImportError: attempted relative import with no known parent package\n",
    "```\n",
    "\n",
    "---\n",
    "\n",
    "## **Why This Fails**\n",
    "1. **Missing `__init__.py`** in `utils/` (not recognized as a package)\n",
    "2. **Incorrect Python path** (project root not in `sys.path`)\n",
    "3. **Relative import scope** (`..` goes \"too far up\")\n",
    "\n",
    "---\n",
    "\n",
    "## **The Fixes**\n",
    "\n",
    "### **Fix 1: Proper Package Structure**\n",
    "```\n",
    "project/\n",
    "├── utils/\n",
    "│   ├── __init__.py         # Add this!\n",
    "│   └── string_cleaner.py\n",
    "└── data_pipeline/\n",
    "    ├── __init__.py\n",
    "    └── transformer.py\n",
    "```\n",
    "\n",
    "### **Fix 2: Update `transformer.py`**\n",
    "```python\n",
    "# Option A: Relative import (now works)\n",
    "from ...utils.string_cleaner import clean  # Fixed path\n",
    "\n",
    "# Option B: Absolute import (alternative)\n",
    "from utils.string_cleaner import clean\n",
    "```\n",
    "\n",
    "### **Fix 3: Adjust `sys.path` (If Needed)**\n",
    "```python\n",
    "# In transformer.py or your main script\n",
    "import sys\n",
    "from pathlib import Path\n",
    "\n",
    "# Add project root to Python path\n",
    "sys.path.append(str(Path(__file__).parent.parent))\n",
    "```\n",
    "\n",
    "---\n",
    "\n",
    "## **Testing the Fix**\n",
    "1. **Run from project root**:\n",
    "   ```bash\n",
    "   python -m data_pipeline.transformer\n",
    "   ```\n",
    "2. **Or use absolute imports** if running scripts directly.\n",
    "\n",
    "---\n",
    "\n",
    "## **Key Takeaways**\n",
    "1. **`__init__.py`** turns directories into importable packages.\n",
    "2. **Relative imports** require:\n",
    "   - A proper package structure\n",
    "   - Correct parent package recognition\n",
    "3. **`sys.path` adjustments** may be needed for sibling imports.\n",
    "\n",
    "This ensures robust imports in complex projects! 🚀"
   ]
  },
  {
   "cell_type": "markdown",
   "id": "4443fc27",
   "metadata": {},
   "source": [
    "### **Should `__init__.py` Files Be Empty?**  \n",
    "**Short Answer**: They *can* be empty, but they often contain important package metadata or initialization code.  \n",
    "\n",
    "---\n",
    "\n",
    "## **When to Use Empty `__init__.py`**  \n",
    "✅ **Basic Packages**: If the package is just a container for modules, an empty `__init__.py` is fine.  \n",
    "✅ **Python 3.3+**: Empty `__init__.py` still marks a directory as a package (implicit namespace packages exist, but explicit is better).  \n",
    "\n",
    "**Example (Minimal Setup)**  \n",
    "```\n",
    "my_package/\n",
    "├── __init__.py     # Empty\n",
    "├── module1.py\n",
    "└── module2.py\n",
    "```\n",
    "\n",
    "---\n",
    "\n",
    "## **When to Add Code in `__init__.py`**  \n",
    "### **1. Controlling Imports (`__all__`)**  \n",
    "Define the public API to limit what’s imported with `from package import *`.  \n",
    "\n",
    "```python\n",
    "# __init__.py\n",
    "__all__ = [\"module1\", \"helper\"]  # Only these can be imported with *\n",
    "```\n",
    "\n",
    "### **2. Package Initialization**  \n",
    "Run setup code when the package is first imported (e.g., logging, configs).  \n",
    "\n",
    "```python\n",
    "# __init__.py\n",
    "print(f\"Initializing {__name__}...\")\n",
    "```\n",
    "\n",
    "### **3. Shortening Import Paths**  \n",
    "Expose key functions at the package level for cleaner imports.  \n",
    "\n",
    "```python\n",
    "# __init__.py\n",
    "from .module1 import main_function  # Now users can do `from package import main_function`\n",
    "```\n",
    "\n",
    "### **4. Handling Subpackages**  \n",
    "Import submodules to ensure they’re available when the parent package is imported.  \n",
    "\n",
    "```python\n",
    "# __init__.py\n",
    "from . import submodule1, submodule2\n",
    "```\n",
    "\n",
    "---\n",
    "\n",
    "## **Example: Non-Empty `__init__.py`**  \n",
    "### **Directory Structure**  \n",
    "```\n",
    "data_pipeline/\n",
    "├── __init__.py         # Exports key functions\n",
    "├── extractor.py        # def extract()\n",
    "├── transformer.py      # def transform()\n",
    "└── loader.py           # def load()\n",
    "```\n",
    "\n",
    "### **`__init__.py` (With Useful Content)**  \n",
    "```python\n",
    "from .extractor import extract\n",
    "from .transformer import transform\n",
    "from .loader import load\n",
    "\n",
    "__all__ = [\"extract\", \"transform\", \"load\"]  # Clean API for `from data_pipeline import *`\n",
    "```\n",
    "\n",
    "### **Result**  \n",
    "Users can now import directly from the package:  \n",
    "```python\n",
    "from data_pipeline import extract  # Instead of `from data_pipeline.extractor import extract`\n",
    "```\n",
    "\n",
    "---\n",
    "\n",
    "## **Key Takeaways**  \n",
    "1. **Empty `__init__.py` is valid**, but adding code improves usability.  \n",
    "2. **Use `__all__`** to define public APIs.  \n",
    "3. **Leverage `__init__.py` for**:  \n",
    "   - Simplifying imports (`from package import func`).  \n",
    "   - Initialization (logging, configs).  \n",
    "   - Explicitly declaring submodules.  \n",
    "\n",
    "**Best Practice**: Start with an empty `__init__.py` and add code only when needed."
   ]
  },
  {
   "cell_type": "markdown",
   "id": "507efbb4",
   "metadata": {},
   "source": [
    "---\n",
    "\n",
    "\n",
    "9. **[Medium] Q9: Add a Custom Directory to `sys.path`**  \n",
    "   Add a custom utilities directory to `sys.path` dynamically and import modules from there.\n",
    "\n",
    "---"
   ]
  },
  {
   "cell_type": "markdown",
   "id": "90851c27",
   "metadata": {},
   "source": [
    "### **Solution: Adding a Custom Directory to `sys.path` Dynamically**\n",
    "\n",
    "#### **Objective**\n",
    "Dynamically add a directory (e.g., `custom_utils/`) to Python's module search path (`sys.path`) and import a module from it.\n",
    "\n",
    "---\n",
    "\n",
    "### **Step 1: Directory Structure**\n",
    "Assume this project layout:\n",
    "```\n",
    "project/\n",
    "├── main_script.py       # Your main Python file\n",
    "└── custom_utils/        # Custom utilities directory\n",
    "    ├── __init__.py      # Makes it a package (can be empty)\n",
    "    └── math_ops.py      # Example utility module\n",
    "```\n",
    "\n",
    "---\n",
    "\n",
    "### **Step 2: The Utility Module (`math_ops.py`)**\n",
    "```python\n",
    "# custom_utils/math_ops.py\n",
    "def add(a: float, b: float) -> float:\n",
    "    return a + b\n",
    "\n",
    "def multiply(a: float, b: float) -> float:\n",
    "    return a * b\n",
    "```\n",
    "\n",
    "---\n",
    "\n",
    "### **Step 3: Dynamically Add to `sys.path` and Import**\n",
    "In `main_script.py`:\n",
    "```python\n",
    "import sys\n",
    "from pathlib import Path\n",
    "\n",
    "# Add the `custom_utils` directory to Python's module search path\n",
    "utils_path = str(Path(__file__).parent / \"custom_utils\")  # Resolves to absolute path\n",
    "sys.path.append(utils_path)  # Adds to sys.path temporarily\n",
    "\n",
    "# Now you can import from `custom_utils` directly\n",
    "from math_ops import add, multiply  # No need for `custom_utils.` prefix\n",
    "\n",
    "# Test the imports\n",
    "print(add(2, 3))       # Output: 5\n",
    "print(multiply(2, 3))  # Output: 6\n",
    "```\n",
    "\n",
    "---\n",
    "\n",
    "### **Key Notes**\n",
    "1. **Why `Path(__file__).parent`?**  \n",
    "   - Ensures the path is resolved relative to the script’s location (avoids hardcoding absolute paths).  \n",
    "   - Works even if the script is run from another directory.\n",
    "\n",
    "2. **Temporary vs. Permanent Path Addition**  \n",
    "   - `sys.path.append()`: Only affects the current Python session.  \n",
    "   - For permanent addition, modify `PYTHONPATH` environment variable instead:\n",
    "     ```bash\n",
    "     export PYTHONPATH=\"/path/to/project/custom_utils:$PYTHONPATH\"  # Linux/Mac\n",
    "     set PYTHONPATH=C:\\path\\to\\project\\custom_utils;%PYTHONPATH%    # Windows\n",
    "     ```\n",
    "\n",
    "3. **Alternative: Install as a Package**  \n",
    "   For long-term use, convert `custom_utils` into an installable package:\n",
    "   ```bash\n",
    "   pip install -e /path/to/project  # Install in development mode\n",
    "   ```\n",
    "\n",
    "---\n",
    "\n",
    "### **When to Use This**\n",
    "- **Quick Scripting**: Dynamically add paths for one-off projects.  \n",
    "- **Legacy Codebases**: Import from directories not structured as packages.  \n",
    "- **Avoids `PYTHONPATH` Modification**: Useful when you can’t change environment variables.\n",
    "\n",
    "---\n",
    "\n",
    "### **Common Pitfalls**\n",
    "1. **Duplicate Imports**: If the same module exists in multiple `sys.path` entries, Python uses the first one found.  \n",
    "2. **Path Conflicts**: Ensure the directory name doesn’t clash with existing Python packages (e.g., `json`, `math`).  \n",
    "3. **Thread Safety**: Modifying `sys.path` at runtime isn’t thread-safe (avoid in production servers).\n",
    "\n",
    "---\n",
    "\n",
    "### **Final Answer**\n",
    "By dynamically appending to `sys.path`, you can import modules from any directory without restructuring your project or modifying `PYTHONPATH`. This is ideal for ad-hoc development but should be replaced with proper packaging for production code.  \n",
    "\n",
    "**Example Output**:\n",
    "```\n",
    "5\n",
    "6\n",
    "```"
   ]
  },
  {
   "cell_type": "markdown",
   "id": "349a706a",
   "metadata": {},
   "source": [
    "---\n",
    "```\n",
    "\n",
    "10. **[Medium-Hard] Q10: Simulate PYTHONPATH in Code**  \n",
    "    Without modifying environment variables, simulate how `PYTHONPATH` allows access to external directories.\n",
    "    \n",
    "```\n",
    "---"
   ]
  },
  {
   "cell_type": "markdown",
   "id": "8005ef24",
   "metadata": {},
   "source": [
    "### **Solution: Simulating `PYTHONPATH` Programmatically**\n",
    "\n",
    "#### **Objective**  \n",
    "Modify Python's module search path (`sys.path`) at runtime to mimic the effect of setting `PYTHONPATH` without touching environment variables.\n",
    "\n",
    "---\n",
    "\n",
    "### **Step 1: Directory Structure**\n",
    "Assume this layout where `external_lib/` is outside your project:\n",
    "```\n",
    "/home/user/\n",
    "├── my_project/\n",
    "│   ├── main.py          # Needs to import from external_lib\n",
    "│   └── ...\n",
    "└── external_lib/\n",
    "    ├── __init__.py      # Required for package recognition\n",
    "    └── utils.py         # Example module\n",
    "```\n",
    "\n",
    "---\n",
    "\n",
    "### **Step 2: The External Module (`external_lib/utils.py`)**\n",
    "```python\n",
    "# /home/user/external_lib/utils.py\n",
    "def greet(name: str) -> str:\n",
    "    return f\"Hello, {name}!\"\n",
    "```\n",
    "\n",
    "---\n",
    "\n",
    "### **Step 3: Simulate `PYTHONPATH` in `main.py`**\n",
    "```python\n",
    "import sys\n",
    "from pathlib import Path\n",
    "\n",
    "# Dynamically add the external directory to sys.path\n",
    "external_lib_path = str(Path(\"/home/user/external_lib\").resolve())  # Absolute path\n",
    "if external_lib_path not in sys.path:\n",
    "    sys.path.insert(0, external_lib_path)  # Insert at start to prioritize\n",
    "\n",
    "# Now import the external module\n",
    "from utils import greet\n",
    "\n",
    "print(greet(\"Alice\"))  # Output: \"Hello, Alice!\"\n",
    "```\n",
    "\n",
    "---\n",
    "\n",
    "### **Key Notes**\n",
    "1. **Why `sys.path.insert(0, ...)`?**  \n",
    "   - Ensures the external directory is checked **first** for imports (mimics `PYTHONPATH` precedence).  \n",
    "   - Use `append()` if lower priority is acceptable.\n",
    "\n",
    "2. **Path Resolution**  \n",
    "   - `Path(\"/path\").resolve()` converts to an absolute path, avoiding issues with relative paths.  \n",
    "   - Hardcoding paths is brittle—use environment variables or config files in production.\n",
    "\n",
    "3. **Thread Safety**  \n",
    "   - Modifying `sys.path` at runtime is **not thread-safe**. Avoid in production servers (prefer `PYTHONPATH` or package installation).\n",
    "\n",
    "---\n",
    "\n",
    "### **Alternative: Context Manager (Cleaner Temporary Path)**\n",
    "```python\n",
    "import sys\n",
    "from contextlib import contextmanager\n",
    "from pathlib import Path\n",
    "\n",
    "@contextmanager\n",
    "def temporary_sys_path(path: str):\n",
    "    \"\"\"Temporarily add a path to sys.path.\"\"\"\n",
    "    path = str(Path(path).resolve())\n",
    "    sys.path.insert(0, path)\n",
    "    try:\n",
    "        yield\n",
    "    finally:\n",
    "        sys.path.remove(path)  # Clean up\n",
    "\n",
    "# Usage\n",
    "with temporary_sys_path(\"/home/user/external_lib\"):\n",
    "    from utils import greet\n",
    "    print(greet(\"Bob\"))  # Output: \"Hello, Bob!\"\n",
    "\n",
    "# Path is automatically removed afterward\n",
    "```\n",
    "\n",
    "---\n",
    "\n",
    "### **When to Use This**\n",
    "- **Testing/Local Development**: Quickly access external code without `PYTHONPATH`.  \n",
    "- **Legacy Systems**: Import from directories not structured as packages.  \n",
    "- **Avoiding Global Changes**: Safer than modifying `PYTHONPATH` system-wide.\n",
    "\n",
    "---\n",
    "\n",
    "### **Comparison with `PYTHONPATH`**\n",
    "| Approach          | Scope          | Persistence | Thread-Safe | Use Case                |\n",
    "|-------------------|----------------|-------------|-------------|-------------------------|\n",
    "| `sys.path` mod    | Current script | Temporary   | No          | Ad-hoc scripts          |\n",
    "| `PYTHONPATH`      | All scripts    | Permanent   | Yes         | Production environments |\n",
    "| `pip install -e`  | System-wide    | Permanent   | Yes         | Development packages    |\n",
    "\n",
    "---\n",
    "\n",
    "### **Final Answer**\n",
    "By dynamically modifying `sys.path`, you simulate `PYTHONPATH` for the current script without affecting the system environment. This is ideal for temporary access to external code but should be replaced with proper packaging (`pip install -e`) or `PYTHONPATH` for production.  \n",
    "\n",
    "**Output**:\n",
    "```\n",
    "Hello, Alice!\n",
    "```"
   ]
  },
  {
   "cell_type": "markdown",
   "id": "38d5d4d7",
   "metadata": {},
   "source": [
    "### **Purpose and Benefits of Simulating `PYTHONPATH` in Code**  \n",
    "\n",
    "When you **dynamically modify `sys.path`** in Python (instead of setting `PYTHONPATH`), you are **temporarily adding directories** to Python’s module search path. This allows you to **import modules from custom locations** without permanently changing environment variables or restructuring your project.  \n",
    "\n",
    "---\n",
    "\n",
    "## **Key Benefits**  \n",
    "\n",
    "### **1. Avoids Permanent Environment Changes**  \n",
    "- **Problem**: Setting `PYTHONPATH` modifies the system/user environment, which can affect other Python scripts.  \n",
    "- **Solution**: `sys.path.append()` only affects the **current Python session**, leaving the system untouched.  \n",
    "\n",
    "### **2. Works Without Package Installation**  \n",
    "- **Problem**: Normally, you’d need to `pip install` a package to import it.  \n",
    "- **Solution**: You can **temporarily add a folder** (e.g., `external_lib/`) to `sys.path` and import directly.  \n",
    "\n",
    "### **3. Useful for Testing/Local Development**  \n",
    "- **Problem**: You’re working with a module outside your project (e.g., `../shared_utils/`).  \n",
    "- **Solution**: Temporarily add its path to `sys.path` to test changes without restructuring files.  \n",
    "\n",
    "### **4. No Need to Modify `PYTHONPATH` Manually**  \n",
    "- **Problem**: Some environments (e.g., cloud notebooks) restrict modifying `PYTHONPATH`.  \n",
    "- **Solution**: `sys.path.append()` works **even in restricted environments**.  \n",
    "\n",
    "### **5. Cleaner Than Relative Imports for External Code**  \n",
    "- **Problem**: Relative imports (`from ..external import x`) only work within packages.  \n",
    "- **Solution**: `sys.path` lets you import **any script from any folder**.  \n",
    "\n",
    "---\n",
    "\n",
    "## **When Should You Use This?**  \n",
    "\n",
    "✅ **Testing a module** before making it a proper package.  \n",
    "✅ **Quick scripts** where setting `PYTHONPATH` is overkill.  \n",
    "✅ **Shared utility folders** (e.g., company-wide `common_utils/`).  \n",
    "✅ **Restricted environments** (e.g., Jupyter, AWS Lambda).  \n",
    "\n",
    "❌ **Not for production code** (use `pip install` or `PYTHONPATH` instead).  \n",
    "\n",
    "---\n",
    "\n",
    "## **Example Scenario**  \n",
    "\n",
    "### **Directory Structure**\n",
    "```\n",
    "/home/user/\n",
    "├── my_project/\n",
    "│   └── main.py          # Needs a function from `shared_utils/`\n",
    "└── shared_utils/        # External folder\n",
    "    └── math_helpers.py  # Contains `add(a, b)`\n",
    "```\n",
    "\n",
    "### **Problem**  \n",
    "You **can’t** just do:  \n",
    "```python\n",
    "from shared_utils.math_helpers import add  # ❌ Fails (not in PYTHONPATH)\n",
    "```\n",
    "\n",
    "### **Solution**  \n",
    "Dynamically add `shared_utils/` to `sys.path`:  \n",
    "```python\n",
    "import sys\n",
    "from pathlib import Path\n",
    "\n",
    "# Add the external folder to Python's search path\n",
    "sys.path.append(str(Path(\"/home/user/shared_utils\").resolve()))\n",
    "\n",
    "# Now the import works!\n",
    "from math_helpers import add\n",
    "\n",
    "print(add(2, 3))  # ✅ Output: 5\n",
    "```\n",
    "\n",
    "---\n",
    "\n",
    "## **Alternative Solutions**  \n",
    "\n",
    "| Method | Pros | Cons | Best For |\n",
    "|--------|------|------|----------|\n",
    "| **`sys.path.append()`** | No env changes, quick | Temporary, not thread-safe | Testing, scripts |\n",
    "| **`PYTHONPATH`** | Persistent, affects all scripts | Needs system access | Production |\n",
    "| **`pip install -e`** | Proper package management | Requires setup.py | Development |\n",
    "\n",
    "---\n",
    "\n",
    "### **Final Verdict**  \n",
    "- **Use `sys.path` for quick, temporary imports** (e.g., testing, notebooks).  \n",
    "- **Use `PYTHONPATH` or `pip install` for production code**.  \n",
    "\n",
    "This approach gives **flexibility without permanent changes**, making it ideal for debugging and rapid development. 🚀"
   ]
  },
  {
   "cell_type": "code",
   "execution_count": null,
   "id": "73783688",
   "metadata": {},
   "outputs": [],
   "source": []
  }
 ],
 "metadata": {
  "kernelspec": {
   "display_name": "Python 3 (ipykernel)",
   "language": "python",
   "name": "python3"
  },
  "language_info": {
   "codemirror_mode": {
    "name": "ipython",
    "version": 3
   },
   "file_extension": ".py",
   "mimetype": "text/x-python",
   "name": "python",
   "nbconvert_exporter": "python",
   "pygments_lexer": "ipython3",
   "version": "3.9.13"
  }
 },
 "nbformat": 4,
 "nbformat_minor": 5
}
