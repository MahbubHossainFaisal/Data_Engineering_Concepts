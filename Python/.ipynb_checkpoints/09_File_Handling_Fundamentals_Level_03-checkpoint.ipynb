{
 "cells": [
  {
   "cell_type": "markdown",
   "id": "c3da934c",
   "metadata": {},
   "source": [
    "---\n",
    "\n",
    "**Q9: Log File Tail Reader**  \n",
    "*Medium-Hard | Level 5*  \n",
    "Write a function `tail(file_path, N)` that returns the last `N` lines from a log file.  \n",
    "- Input: `'app.log', 10`  \n",
    "- Output: Last 10 lines as a list.\n",
    "\n",
    "---"
   ]
  },
  {
   "cell_type": "code",
   "execution_count": 32,
   "id": "30a09780",
   "metadata": {},
   "outputs": [],
   "source": [
    "def tail(file_path, N):\n",
    "    if not isinstance(file_path,str):\n",
    "        raise TypeError(f'Expected file path here')\n",
    "    if not isinstance(N,int) or N<=0:\n",
    "        raise ValueError(f'Expected positive integers')\n",
    "  \n",
    "    try:\n",
    "        with open(file_path,'r',encoding='utf-8') as file:\n",
    "            lines = list(file)\n",
    "            return lines[-N:]\n",
    "    except FileNotFoundError:\n",
    "        raise FileNotFoundError(f\"File not found: {file_path}\")\n",
    "    except PermissionError:\n",
    "        raise PermissionError(f\"No read permission: {file_path}\")\n",
    "    except OSError as e:\n",
    "        raise OSError(f\"Failed to read file: {e}\")"
   ]
  },
  {
   "cell_type": "code",
   "execution_count": 33,
   "id": "6ff7a50f",
   "metadata": {},
   "outputs": [
    {
     "name": "stdout",
     "output_type": "stream",
     "text": [
      "['2023-10-15 08:32:05 WARN  [Security] 3 failed login attempts from 203.0.113.42  \\n', '2023-10-15 08:32:30 DEBUG [Worker-4] Processing completed in 142ms  ']\n",
      "2\n"
     ]
    }
   ],
   "source": [
    "file_path = 'C:/Users/Mahbub/Desktop/Data Engineering/Python/data/application.log'\n",
    "num = 2\n",
    "response = tail(file_path,num)\n",
    "print(response)\n",
    "print(len(response))"
   ]
  },
  {
   "cell_type": "markdown",
   "id": "a2bb0946",
   "metadata": {},
   "source": [
    "### More optimized code"
   ]
  },
  {
   "cell_type": "code",
   "execution_count": 3,
   "id": "bfec9789",
   "metadata": {},
   "outputs": [],
   "source": [
    "def tail_large_file(file_path, N, buffer_size=1024):\n",
    "    if not isinstance(file_path, str):\n",
    "        raise TypeError(\"File path must be a string.\")\n",
    "    if not isinstance(N, int) or N <= 0:\n",
    "        raise ValueError(\"N must be a positive integer.\")\n",
    "        \n",
    "    try:\n",
    "        with open(file_path) as f:\n",
    "            lines = f.readlines()\n",
    "            return lines[-N:] if len(lines) >= N else lines\n",
    "    except FileNotFoundError:\n",
    "        return \"File not found.\"\n",
    "    except PermissionError:\n",
    "        raise PermissionError(f\"No read permission: {file_path}\")\n",
    "    except OSError as e:\n",
    "        raise OSError(f\"Failed to read file: {e}\")"
   ]
  },
  {
   "cell_type": "code",
   "execution_count": 4,
   "id": "87b08c1b",
   "metadata": {},
   "outputs": [
    {
     "name": "stdout",
     "output_type": "stream",
     "text": [
      "['2023-10-15 08:32:05 WARN  [Security] 3 failed login attempts from 203.0.113.42  \\n', '2023-10-15 08:32:30 DEBUG [Worker-4] Processing completed in 142ms  ']\n",
      "2\n"
     ]
    }
   ],
   "source": [
    "file_path = 'C:/Users/Mahbub/Desktop/Data Engineering/Python/data/application.log'\n",
    "num = 2\n",
    "response = tail_large_file(file_path,num)\n",
    "print(response)\n",
    "print(len(response))"
   ]
  },
  {
   "cell_type": "markdown",
   "id": "42f892fb",
   "metadata": {},
   "source": [
    "\n",
    "---\n",
    "\n",
    "**Q10: Split Large File into Chunks**  \n",
    "*Medium-Hard | Level 5*  \n",
    "Write a function `split_file(file_path, lines_per_file)` that splits a large file into multiple smaller files with `lines_per_file` lines each.  \n",
    "- Input: `data.txt, 1000`  \n",
    "- Output: Files like `data_part1.txt`, `data_part2.txt`, etc.\n",
    "\n",
    "---"
   ]
  },
  {
   "cell_type": "code",
   "execution_count": 11,
   "id": "0c45413a",
   "metadata": {},
   "outputs": [],
   "source": [
    "import os\n",
    "\n",
    "def split_file(file_path, lines_per_file):\n",
    "    \n",
    "    if not isinstance(file_path, str):\n",
    "        raise TypeError(\"File path must be a string.\")\n",
    "    if not isinstance(lines_per_file, int) or lines_per_file <= 0:\n",
    "        raise ValueError(\"lines_per_file must be a positive integer.\")\n",
    "\n",
    "    \n",
    "    if not os.path.exists(file_path):\n",
    "        raise FileNotFoundError(\"File not found.\")\n",
    "    if os.stat(file_path).st_size == 0:\n",
    "        print(\"The source file is empty. No parts created.\")\n",
    "        return\n",
    "\n",
    "    part_number = 1\n",
    "    current_output_file = None\n",
    "\n",
    "    try:\n",
    "        with open(file_path, 'r', encoding='utf-8') as source_file:\n",
    "            for line_number, line in enumerate(source_file, start=1):\n",
    "\n",
    "                if (line_number - 1) % lines_per_file == 0:\n",
    "                    if current_output_file is not None:\n",
    "                        current_output_file.close()\n",
    "\n",
    "                    base_name = os.path.splitext(os.path.basename(file_path))[0]\n",
    "                    directory = os.path.dirname(file_path)\n",
    "                    new_file_name = os.path.join(directory, f\"{base_name}_part_{part_number}.txt\")\n",
    "\n",
    "                    current_output_file = open(new_file_name, 'w', encoding='utf-8')\n",
    "                    print(f\"Creating: {new_file_name}\")\n",
    "                    part_number += 1\n",
    "\n",
    "               \n",
    "                current_output_file.write(line)\n",
    "\n",
    "    except PermissionError:\n",
    "        raise PermissionError(f\"No write permission for file: {current_output_file}\")\n",
    "    except OSError as e:\n",
    "        raise OSError(f\"Failed to read or write file: {e}\")\n",
    "    finally:\n",
    "        if current_output_file is not None:\n",
    "            current_output_file.close()\n",
    "        print(\"Splitting complete!\")\n"
   ]
  },
  {
   "cell_type": "code",
   "execution_count": 12,
   "id": "12a7cd54",
   "metadata": {},
   "outputs": [
    {
     "name": "stdout",
     "output_type": "stream",
     "text": [
      "Creating: C:/Users/Mahbub/Desktop/Data Engineering/Python/data\\split_part_1.txt\n",
      "Creating: C:/Users/Mahbub/Desktop/Data Engineering/Python/data\\split_part_2.txt\n",
      "Creating: C:/Users/Mahbub/Desktop/Data Engineering/Python/data\\split_part_3.txt\n",
      "Splitting complete!\n"
     ]
    }
   ],
   "source": [
    "file_path = 'C:/Users/Mahbub/Desktop/Data Engineering/Python/data/split.txt'\n",
    "lines_per_file = 5\n",
    "split_file(file_path,lines_per_file)"
   ]
  },
  {
   "cell_type": "markdown",
   "id": "8147b96f",
   "metadata": {},
   "source": [
    "\n",
    "---\n",
    "\n",
    "### 🧠 Line 1:\n",
    "```python\n",
    "base_name = os.path.splitext(os.path.basename(file_path))[0]\n",
    "```\n",
    "\n",
    "👉 **Meaning:**  \n",
    "- `os.path.basename(file_path)` → Extracts just the **file name** from a full path.  \n",
    "Example:  \n",
    "```python\n",
    "'C:/Users/Mahbub/Desktop/Data Engineering/Python/data/split.txt'\n",
    "```\n",
    "becomes:  \n",
    "```\n",
    "split.txt\n",
    "```\n",
    "\n",
    "- `os.path.splitext(...)[0]` → Splits off the **extension** (`.txt`).  \n",
    "So:\n",
    "```\n",
    "split.txt  →  split\n",
    "```\n",
    "\n",
    "✅ So this gives you the file name **without** `.txt` — only:  \n",
    "```\n",
    "base_name = 'split'\n",
    "```\n",
    "\n",
    "---\n",
    "\n",
    "### 🧠 Line 2:\n",
    "```python\n",
    "directory = os.path.dirname(file_path)\n",
    "```\n",
    "\n",
    "👉 **Meaning:**  \n",
    "This extracts only the **folder path** from the full path.  \n",
    "\n",
    "Given:\n",
    "```\n",
    "'C:/Users/Mahbub/Desktop/Data Engineering/Python/data/split.txt'\n",
    "```\n",
    "this will output:\n",
    "```\n",
    "'C:/Users/Mahbub/Desktop/Data Engineering/Python/data'\n",
    "```\n",
    "\n",
    "✅ So you can save new files in the **same folder**.\n",
    "\n",
    "---\n",
    "\n",
    "### 🧠 Line 3:\n",
    "```python\n",
    "new_file_name = os.path.join(directory, f\"{base_name}_part_{part_number}.txt\")\n",
    "```\n",
    "\n",
    "👉 **Meaning:**  \n",
    "- `os.path.join(directory, ...)` → Combines the directory and new filename in a safe way (works on Windows, Linux, Mac).  \n",
    "- `f\"{base_name}_part_{part_number}.txt\"` → Makes the new filename, like:\n",
    "```\n",
    "split_part_1.txt\n",
    "split_part_2.txt\n",
    "...\n",
    "```\n",
    "\n",
    "---\n",
    "\n",
    "✅ **Full Example:**  \n",
    "\n",
    "Let’s say:  \n",
    "```python\n",
    "file_path = 'C:/Users/Mahbub/Desktop/Data Engineering/Python/data/split.txt'\n",
    "part_number = 1\n",
    "```\n",
    "\n",
    "The 3 lines will do:  \n",
    "```python\n",
    "base_name = 'split'  \n",
    "directory = 'C:/Users/Mahbub/Desktop/Data Engineering/Python/data'  \n",
    "new_file_name = 'C:/Users/Mahbub/Desktop/Data Engineering/Python/data/split_part_1.txt'\n",
    "```\n",
    "\n",
    "---\n",
    "\n",
    "💡 **Why this is smart:**  \n",
    "- Avoids hardcoding paths.\n",
    "- Makes your code platform-independent.\n",
    "- No worry about slashes (`/` or `\\`) on Windows/Linux/Mac.\n",
    "\n",
    "---\n",
    "\n",
    "✅ **Simple Summary:**  \n",
    "These 3 lines:  \n",
    "➡️ Grab the original folder,  \n",
    "➡️ Create a new filename like `split_part_1.txt`,  \n",
    "➡️ Save it in the same folder as the original file.\n",
    "\n",
    "---"
   ]
  },
  {
   "cell_type": "markdown",
   "id": "523711c2",
   "metadata": {},
   "source": [
    "---\n",
    "\n",
    "**Q11: Merge Multiple Files**  \n",
    "*Medium-Hard | Level 6*  \n",
    "Write a function `merge_files(file_list, output_file)` that merges multiple text files into one single file.  \n",
    "- Input: `['file1.txt', 'file2.txt']`  \n",
    "- Output: `merged.txt`\n",
    "\n",
    "---"
   ]
  },
  {
   "cell_type": "code",
   "execution_count": 16,
   "id": "c4f84560",
   "metadata": {},
   "outputs": [],
   "source": [
    "import os\n",
    "\n",
    "def merge_files(file_list,output_file):\n",
    "    if not isinstance(file_list, list) or not all(isinstance(f,str) for f in file_list):\n",
    "        raise TypeError(\"File list must be a list type holding string file paths\")\n",
    "    if not isinstance(output_file, str):\n",
    "        raise ValueError(\"output file must be string path\")\n",
    "        \n",
    "        \n",
    "    try:\n",
    "        with open(output_file,'w',encoding='utf-8') as outfile:\n",
    "            for file_path in file_list:\n",
    "                if not os.path.exists(file_path):\n",
    "                    print(f\"Skipping: {file_path} (File not found)\")\n",
    "                    continue\n",
    "                with open(file_path,'r',encoding='utf-8') as infile:\n",
    "                    content = infile.read()\n",
    "                    outfile.write(content)\n",
    "                    outfile.write('\\n')\n",
    "                    print(f'merged file - {file_path}')\n",
    "                \n",
    "            print(f\"✅ All files merged into: {output_file}\")\n",
    "        \n",
    "    except PermissionError:\n",
    "        raise PermissionError(f\"No write permission for file: {output_file}\")\n",
    "    except OSError as e:\n",
    "        raise OSError(f\"Failed to read or write file: {e}\")"
   ]
  },
  {
   "cell_type": "code",
   "execution_count": 17,
   "id": "65cfa738",
   "metadata": {},
   "outputs": [
    {
     "name": "stdout",
     "output_type": "stream",
     "text": [
      "merged file - C:/Users/Mahbub/Desktop/Data Engineering/Python/data/split_part_1.txt\n",
      "merged file - C:/Users/Mahbub/Desktop/Data Engineering/Python/data/split_part_2.txt\n",
      "merged file - C:/Users/Mahbub/Desktop/Data Engineering/Python/data/split_part_3.txt\n",
      "✅ All files merged into: C:/Users/Mahbub/Desktop/Data Engineering/Python/data/merged.txt\n"
     ]
    }
   ],
   "source": [
    "file_list =['C:/Users/Mahbub/Desktop/Data Engineering/Python/data/split_part_1.txt',\n",
    "           'C:/Users/Mahbub/Desktop/Data Engineering/Python/data/split_part_2.txt',\n",
    "           'C:/Users/Mahbub/Desktop/Data Engineering/Python/data/split_part_3.txt']\n",
    "output_file = 'C:/Users/Mahbub/Desktop/Data Engineering/Python/data/merged.txt'\n",
    "\n",
    "merge_files(file_list,output_file)"
   ]
  },
  {
   "cell_type": "markdown",
   "id": "bdbb93fb",
   "metadata": {},
   "source": [
    "---\n",
    "\n",
    "**Q12: Count Word Frequency in File**  \n",
    "*Hard | Level 6*  \n",
    "Write a function `word_frequency(file_path)` that returns a dictionary of each word and its frequency.  \n",
    "- Input: `'data.txt'`  \n",
    "- Output: `{'word1': 5, 'word2': 3}`\n",
    "\n",
    "---"
   ]
  },
  {
   "cell_type": "code",
   "execution_count": 25,
   "id": "9afa6654",
   "metadata": {},
   "outputs": [],
   "source": [
    "import re\n",
    "\n",
    "def word_frequency(file_path):\n",
    "    if not isinstance(file_path, str):\n",
    "        raise ValueError(\"file path must be a string\")\n",
    "    output = {}   \n",
    "    try:\n",
    "        with open(file_path,'r',encoding='utf-8') as file:\n",
    "            content = file.read().lower()\n",
    "            content = re.sub(r'[^\\w\\s]', '', content) # Removing punctuation\n",
    "            words = content.split()\n",
    "            \n",
    "            for word in words:\n",
    "                if word in output:\n",
    "                    output[word]+=1\n",
    "                else:\n",
    "                    output[word] = 1\n",
    "                    \n",
    "            return output\n",
    "        \n",
    "    \n",
    "    except PermissionError:\n",
    "        raise PermissionError(f\"No write permission for file: {file_path}\")\n",
    "    except OSError as e:\n",
    "        raise OSError(f\"Failed to read or write file: {e}\")          \n",
    "            "
   ]
  },
  {
   "cell_type": "code",
   "execution_count": 26,
   "id": "9e07f7ba",
   "metadata": {},
   "outputs": [
    {
     "name": "stdout",
     "output_type": "stream",
     "text": [
      "{'mahbub': 1, 'hossain': 2, 'faisal': 1, 'raihan': 1, 'asif': 1, 'abeer': 1, 'imran': 1}\n"
     ]
    }
   ],
   "source": [
    "file_path = 'C:/Users/Mahbub/Desktop/Data Engineering/Python/data/info.log'\n",
    "\n",
    "result = word_frequency(file_path)\n",
    "print(result)"
   ]
  },
  {
   "cell_type": "markdown",
   "id": "43528979",
   "metadata": {},
   "source": [
    "---\n",
    "\n",
    "**Q13: Replace Specific Word in Large File**  \n",
    "*Hard | Level 7*  \n",
    "Write a function `replace_word(file_path, old_word, new_word)` that replaces all instances of `old_word` with `new_word` in the same file, efficiently handling large files (avoid loading entire file into memory).\n",
    "\n",
    "---"
   ]
  },
  {
   "cell_type": "code",
   "execution_count": 5,
   "id": "9884e51c",
   "metadata": {},
   "outputs": [],
   "source": [
    "import os\n",
    "\n",
    "def replace_word(file_path, old_word, new_word):\n",
    "    if not isinstance(file_path, str):\n",
    "        raise ValueError(\"file path must be a string\")\n",
    "    if not isinstance(file_path, str):\n",
    "        raise ValueError(\"old_word must be a string\")\n",
    "    if not isinstance(file_path, str):\n",
    "        raise ValueError(\"new_word must be a string\")\n",
    "        \n",
    "    temp_path = file_path + '.tmp'\n",
    "    \n",
    "    try:\n",
    "        with open(file_path, 'r', encoding='utf-8') as input_file, open(temp_path,'w',encoding='utf-8') as output_file:\n",
    "            for line in input_file:\n",
    "                updated_line = line.replace(old_word,new_word)\n",
    "                output_file.write(updated_line)\n",
    "                \n",
    "        os.replace(temp_path, file_path)\n",
    "        print('Replacement done!')\n",
    "    except PermissionError:\n",
    "        raise PermissionError(f\"No write permission for file: {output_file}\")\n",
    "    except OSError as e:\n",
    "        raise OSError(f\"Failed to read or write file: {e}\")\n",
    "    except Exception as e:\n",
    "        if os.path.exists(temp_file_path):\n",
    "            os.remove(temp_file_path)\n",
    "        raise e"
   ]
  },
  {
   "cell_type": "code",
   "execution_count": 6,
   "id": "65529fcb",
   "metadata": {},
   "outputs": [
    {
     "name": "stdout",
     "output_type": "stream",
     "text": [
      "Replacement done!\n"
     ]
    }
   ],
   "source": [
    "file_path = 'C:/Users/Mahbub/Desktop/Data Engineering/Python/data/replace.txt'\n",
    "\n",
    "old_word = 'big'\n",
    "new_word = 'small'\n",
    "\n",
    "replace_word(file_path, old_word, new_word)"
   ]
  },
  {
   "cell_type": "markdown",
   "id": "ae933e82",
   "metadata": {},
   "source": [
    "---\n",
    "\n",
    "**Q14: File Metadata Extractor**  \n",
    "*Hard | Level 7*  \n",
    "Write a function `file_metadata(file_path)` that returns:  \n",
    "- file size (bytes)  \n",
    "- last modified time  \n",
    "- creation time.\n",
    "\n",
    "---"
   ]
  },
  {
   "cell_type": "code",
   "execution_count": 7,
   "id": "35cc5f56",
   "metadata": {},
   "outputs": [],
   "source": [
    "import os\n",
    "import time\n",
    "import platform\n",
    "from datetime import datetime\n",
    "\n",
    "def file_metadata(file_path):\n",
    "\n",
    "    if not os.path.exists(file_path):\n",
    "        raise FileNotFoundError(f\"The file {file_path} does not exist\")\n",
    "    \n",
    "    if not os.path.isfile(file_path):\n",
    "        raise ValueError(f\"{file_path} is not a regular file\")\n",
    "    \n",
    "   \n",
    "    stat_info = os.stat(file_path)\n",
    "    \n",
    "    \n",
    "    size_bytes = stat_info.st_size\n",
    "    \n",
    "    \n",
    "    last_modified = datetime.fromtimestamp(stat_info.st_mtime).isoformat()\n",
    "    \n",
    "   \n",
    "    system = platform.system()\n",
    "    if system == 'Windows':\n",
    "        creation_time = datetime.fromtimestamp(stat_info.st_ctime).isoformat()\n",
    "    elif system == 'Darwin':  # macOS\n",
    "        creation_time = datetime.fromtimestamp(stat_info.st_birthtime).isoformat()\n",
    "    else:  # Linux and others - st_ctime is actually metadata change time\n",
    "        try:\n",
    "            creation_time = datetime.fromtimestamp(stat_info.st_birthtime).isoformat()\n",
    "        except AttributeError:\n",
    "        \n",
    "            creation_time = datetime.fromtimestamp(stat_info.st_ctime).isoformat()\n",
    "    \n",
    "    return {\n",
    "        'size_bytes': size_bytes,\n",
    "        'last_modified': last_modified,\n",
    "        'creation_time': creation_time\n",
    "    }"
   ]
  },
  {
   "cell_type": "code",
   "execution_count": 8,
   "id": "ce4db830",
   "metadata": {},
   "outputs": [
    {
     "name": "stdout",
     "output_type": "stream",
     "text": [
      "{'size_bytes': 66, 'last_modified': '2025-04-23T02:12:08.838062', 'creation_time': '2025-04-23T02:11:59.899045'}\n"
     ]
    }
   ],
   "source": [
    "file_path = 'C:/Users/Mahbub/Desktop/Data Engineering/Python/data/replace.txt'\n",
    "\n",
    "\n",
    "response = file_metadata(file_path)\n",
    "print(response)"
   ]
  },
  {
   "cell_type": "code",
   "execution_count": null,
   "id": "29d9c06a",
   "metadata": {},
   "outputs": [],
   "source": []
  }
 ],
 "metadata": {
  "kernelspec": {
   "display_name": "Python 3 (ipykernel)",
   "language": "python",
   "name": "python3"
  },
  "language_info": {
   "codemirror_mode": {
    "name": "ipython",
    "version": 3
   },
   "file_extension": ".py",
   "mimetype": "text/x-python",
   "name": "python",
   "nbconvert_exporter": "python",
   "pygments_lexer": "ipython3",
   "version": "3.9.13"
  }
 },
 "nbformat": 4,
 "nbformat_minor": 5
}
