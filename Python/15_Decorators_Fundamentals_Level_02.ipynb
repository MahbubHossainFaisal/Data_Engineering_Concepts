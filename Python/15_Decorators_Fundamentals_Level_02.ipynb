{
 "cells": [
  {
   "cell_type": "markdown",
   "id": "de3700c4",
   "metadata": {},
   "source": [
    "---\n",
    "\n",
    "### 6. **Custom Retry Count**\n",
    "\n",
    "**Description:**\n",
    "Write a **parameterized decorator** `retry(times=3)` that allows retry count to be passed dynamically.\n",
    "\n",
    "---"
   ]
  },
  {
   "cell_type": "code",
   "execution_count": 1,
   "id": "e2102d16",
   "metadata": {},
   "outputs": [
    {
     "name": "stdout",
     "output_type": "stream",
     "text": [
      " Attempt 1/3 failed: Database connection failed!. Retrying in 1s...\n",
      " Attempt 2/3 failed: Database connection failed!. Retrying in 2s...\n"
     ]
    },
    {
     "ename": "ConnectionError",
     "evalue": "Database connection failed!",
     "output_type": "error",
     "traceback": [
      "\u001b[1;31m---------------------------------------------------------------------------\u001b[0m",
      "\u001b[1;31mConnectionError\u001b[0m                           Traceback (most recent call last)",
      "\u001b[1;32m~\\AppData\\Local\\Temp\\ipykernel_25376\\3377008692.py\u001b[0m in \u001b[0;36m<module>\u001b[1;34m\u001b[0m\n\u001b[0;32m     31\u001b[0m \u001b[1;33m\u001b[0m\u001b[0m\n\u001b[0;32m     32\u001b[0m \u001b[1;31m# Test\u001b[0m\u001b[1;33m\u001b[0m\u001b[1;33m\u001b[0m\u001b[0m\n\u001b[1;32m---> 33\u001b[1;33m \u001b[0mprint\u001b[0m\u001b[1;33m(\u001b[0m\u001b[0mconnect_to_database\u001b[0m\u001b[1;33m(\u001b[0m\u001b[1;33m)\u001b[0m\u001b[1;33m)\u001b[0m\u001b[1;33m\u001b[0m\u001b[1;33m\u001b[0m\u001b[0m\n\u001b[0m",
      "\u001b[1;32m~\\AppData\\Local\\Temp\\ipykernel_25376\\3377008692.py\u001b[0m in \u001b[0;36mwrapper\u001b[1;34m(*args, **kwargs)\u001b[0m\n\u001b[0;32m     11\u001b[0m             \u001b[1;32mwhile\u001b[0m \u001b[0mattempt\u001b[0m \u001b[1;33m<=\u001b[0m \u001b[0mmax_attempts\u001b[0m\u001b[1;33m:\u001b[0m\u001b[1;33m\u001b[0m\u001b[1;33m\u001b[0m\u001b[0m\n\u001b[0;32m     12\u001b[0m                 \u001b[1;32mtry\u001b[0m\u001b[1;33m:\u001b[0m\u001b[1;33m\u001b[0m\u001b[1;33m\u001b[0m\u001b[0m\n\u001b[1;32m---> 13\u001b[1;33m                     \u001b[1;32mreturn\u001b[0m \u001b[0mfunc\u001b[0m\u001b[1;33m(\u001b[0m\u001b[1;33m*\u001b[0m\u001b[0margs\u001b[0m\u001b[1;33m,\u001b[0m \u001b[1;33m**\u001b[0m\u001b[0mkwargs\u001b[0m\u001b[1;33m)\u001b[0m\u001b[1;33m\u001b[0m\u001b[1;33m\u001b[0m\u001b[0m\n\u001b[0m\u001b[0;32m     14\u001b[0m                 \u001b[1;32mexcept\u001b[0m \u001b[0mException\u001b[0m \u001b[1;32mas\u001b[0m \u001b[0me\u001b[0m\u001b[1;33m:\u001b[0m\u001b[1;33m\u001b[0m\u001b[1;33m\u001b[0m\u001b[0m\n\u001b[0;32m     15\u001b[0m                     \u001b[1;32mif\u001b[0m \u001b[0mattempt\u001b[0m \u001b[1;33m==\u001b[0m \u001b[0mmax_attempts\u001b[0m\u001b[1;33m:\u001b[0m\u001b[1;33m\u001b[0m\u001b[1;33m\u001b[0m\u001b[0m\n",
      "\u001b[1;32m~\\AppData\\Local\\Temp\\ipykernel_25376\\3377008692.py\u001b[0m in \u001b[0;36mconnect_to_database\u001b[1;34m()\u001b[0m\n\u001b[0;32m     27\u001b[0m     \u001b[1;32mimport\u001b[0m \u001b[0mrandom\u001b[0m\u001b[1;33m\u001b[0m\u001b[1;33m\u001b[0m\u001b[0m\n\u001b[0;32m     28\u001b[0m     \u001b[1;32mif\u001b[0m \u001b[0mrandom\u001b[0m\u001b[1;33m.\u001b[0m\u001b[0mrandom\u001b[0m\u001b[1;33m(\u001b[0m\u001b[1;33m)\u001b[0m \u001b[1;33m<\u001b[0m \u001b[1;36m0.7\u001b[0m\u001b[1;33m:\u001b[0m  \u001b[1;31m# 70% chance of failure\u001b[0m\u001b[1;33m\u001b[0m\u001b[1;33m\u001b[0m\u001b[0m\n\u001b[1;32m---> 29\u001b[1;33m         \u001b[1;32mraise\u001b[0m \u001b[0mConnectionError\u001b[0m\u001b[1;33m(\u001b[0m\u001b[1;34m\"Database connection failed!\"\u001b[0m\u001b[1;33m)\u001b[0m\u001b[1;33m\u001b[0m\u001b[1;33m\u001b[0m\u001b[0m\n\u001b[0m\u001b[0;32m     30\u001b[0m     \u001b[1;32mreturn\u001b[0m \u001b[1;34m\"Connected successfully!\"\u001b[0m\u001b[1;33m\u001b[0m\u001b[1;33m\u001b[0m\u001b[0m\n\u001b[0;32m     31\u001b[0m \u001b[1;33m\u001b[0m\u001b[0m\n",
      "\u001b[1;31mConnectionError\u001b[0m: Database connection failed!"
     ]
    }
   ],
   "source": [
    "import time\n",
    "from functools import wraps\n",
    "\n",
    "def retry(max_attempts=3, delay=1, backoff=2):\n",
    "    \n",
    "    def decorator(func):\n",
    "        @wraps(func)  # Preserves function metadata (e.g., __name__, docstring)\n",
    "        def wrapper(*args, **kwargs):\n",
    "            attempt = 1\n",
    "            current_delay = delay\n",
    "            while attempt <= max_attempts:\n",
    "                try:\n",
    "                    return func(*args, **kwargs)\n",
    "                except Exception as e:\n",
    "                    if attempt == max_attempts:\n",
    "                        raise  \n",
    "                    print(f\" Attempt {attempt}/{max_attempts} failed: {str(e)}. Retrying in {current_delay}s...\")\n",
    "                    time.sleep(current_delay)\n",
    "                    current_delay *= backoff  \n",
    "                    attempt += 1\n",
    "        return wrapper\n",
    "    return decorator\n",
    "\n",
    "\n",
    "@retry(max_attempts=3, delay=1, backoff=2)\n",
    "def connect_to_database():\n",
    "    import random\n",
    "    if random.random() < 0.7:  # 70% chance of failure\n",
    "        raise ConnectionError(\"Database connection failed!\")\n",
    "    return \"Connected successfully!\"\n",
    "\n",
    "# Test\n",
    "print(connect_to_database())  "
   ]
  },
  {
   "cell_type": "markdown",
   "id": "f969ff50",
   "metadata": {},
   "source": [
    "---\n",
    "\n",
    "### 7. **Conditional Logger**\n",
    "\n",
    "**Description:**\n",
    "Build a `log_if(debug=True)` decorator that **logs only if debug is True** — helpful in turning logging on/off in pipelines.\n",
    "\n",
    "---"
   ]
  },
  {
   "cell_type": "code",
   "execution_count": 2,
   "id": "581a0cb5",
   "metadata": {},
   "outputs": [],
   "source": [
    "import functools\n",
    "\n",
    "def log_if(debug=True):\n",
    "    def decorator(func):\n",
    "        @functools.wraps(func)\n",
    "        def wrapper(*args, **kwargs):\n",
    "            if debug:\n",
    "                print(f\"[LOG] Calling {func.__name__} with args={args}, kwargs={kwargs}\")\n",
    "            result = func(*args, **kwargs)\n",
    "            if debug:\n",
    "                print(f\"[LOG] {func.__name__} returned {result}\")\n",
    "            return result\n",
    "        return wrapper\n",
    "    return decorator"
   ]
  },
  {
   "cell_type": "code",
   "execution_count": 4,
   "id": "5f695e03",
   "metadata": {},
   "outputs": [
    {
     "name": "stdout",
     "output_type": "stream",
     "text": [
      "[LOG] Calling add with args=(3, 5), kwargs={}\n",
      "[LOG] add returned 8\n"
     ]
    },
    {
     "data": {
      "text/plain": [
       "3"
      ]
     },
     "execution_count": 4,
     "metadata": {},
     "output_type": "execute_result"
    }
   ],
   "source": [
    "@log_if(debug=True)  \n",
    "def add(a, b):\n",
    "    return a + b\n",
    "\n",
    "@log_if(debug=False)  \n",
    "def subtract(a, b):\n",
    "    return a - b\n",
    "\n",
    "add(3, 5)\n",
    "subtract(5, 2)"
   ]
  },
  {
   "cell_type": "markdown",
   "id": "904a8bf1",
   "metadata": {},
   "source": [
    "---\n",
    "\n",
    "### 8. **Schema Validator**\n",
    "\n",
    "**Description:**\n",
    "Write a `validate_schema(required_fields)` decorator that checks if all required fields exist in a dictionary input to an ETL step.\n",
    "\n",
    "---"
   ]
  },
  {
   "cell_type": "code",
   "execution_count": 3,
   "id": "a47a0815",
   "metadata": {},
   "outputs": [],
   "source": [
    "from functools import wraps\n",
    "from typing import List, Dict, Any\n",
    "\n",
    "def validate_schema(required_fields: List[str]):\n",
    "    def decorator(func):\n",
    "        @wraps(func)\n",
    "        def wrapper(input_data: Dict[str, Any], *args, **kwargs):\n",
    "            missing_fields = [field for field in required_fields if field not in input_data]\n",
    "            if missing_fields:\n",
    "                raise ValueError(f\"Missing required fields: {missing_fields}\")\n",
    "            return func(input_data, *args, **kwargs)\n",
    "        return wrapper\n",
    "    return decorator"
   ]
  },
  {
   "cell_type": "code",
   "execution_count": 4,
   "id": "72850825",
   "metadata": {},
   "outputs": [
    {
     "name": "stdout",
     "output_type": "stream",
     "text": [
      "Processing user: Alice (ID: 1)\n"
     ]
    },
    {
     "ename": "ValueError",
     "evalue": "Missing required fields: ['email']",
     "output_type": "error",
     "traceback": [
      "\u001b[1;31m---------------------------------------------------------------------------\u001b[0m",
      "\u001b[1;31mValueError\u001b[0m                                Traceback (most recent call last)",
      "\u001b[1;32m~\\AppData\\Local\\Temp\\ipykernel_1512\\1585923149.py\u001b[0m in \u001b[0;36m<module>\u001b[1;34m\u001b[0m\n\u001b[0;32m      9\u001b[0m \u001b[1;31m# Invalid input (raises error)\u001b[0m\u001b[1;33m\u001b[0m\u001b[1;33m\u001b[0m\u001b[0m\n\u001b[0;32m     10\u001b[0m \u001b[0muser_bad\u001b[0m \u001b[1;33m=\u001b[0m \u001b[1;33m{\u001b[0m\u001b[1;34m\"id\"\u001b[0m\u001b[1;33m:\u001b[0m \u001b[1;36m2\u001b[0m\u001b[1;33m,\u001b[0m \u001b[1;34m\"name\"\u001b[0m\u001b[1;33m:\u001b[0m \u001b[1;34m\"Bob\"\u001b[0m\u001b[1;33m}\u001b[0m  \u001b[1;31m# Missing \"email\"\u001b[0m\u001b[1;33m\u001b[0m\u001b[1;33m\u001b[0m\u001b[0m\n\u001b[1;32m---> 11\u001b[1;33m \u001b[0mprocess_user_data\u001b[0m\u001b[1;33m(\u001b[0m\u001b[0muser_bad\u001b[0m\u001b[1;33m)\u001b[0m  \u001b[1;31m# Raises: ValueError: Missing required fields: ['email']\u001b[0m\u001b[1;33m\u001b[0m\u001b[1;33m\u001b[0m\u001b[0m\n\u001b[0m",
      "\u001b[1;32m~\\AppData\\Local\\Temp\\ipykernel_1512\\2017613936.py\u001b[0m in \u001b[0;36mwrapper\u001b[1;34m(input_data, *args, **kwargs)\u001b[0m\n\u001b[0;32m      8\u001b[0m             \u001b[0mmissing_fields\u001b[0m \u001b[1;33m=\u001b[0m \u001b[1;33m[\u001b[0m\u001b[0mfield\u001b[0m \u001b[1;32mfor\u001b[0m \u001b[0mfield\u001b[0m \u001b[1;32min\u001b[0m \u001b[0mrequired_fields\u001b[0m \u001b[1;32mif\u001b[0m \u001b[0mfield\u001b[0m \u001b[1;32mnot\u001b[0m \u001b[1;32min\u001b[0m \u001b[0minput_data\u001b[0m\u001b[1;33m]\u001b[0m\u001b[1;33m\u001b[0m\u001b[1;33m\u001b[0m\u001b[0m\n\u001b[0;32m      9\u001b[0m             \u001b[1;32mif\u001b[0m \u001b[0mmissing_fields\u001b[0m\u001b[1;33m:\u001b[0m\u001b[1;33m\u001b[0m\u001b[1;33m\u001b[0m\u001b[0m\n\u001b[1;32m---> 10\u001b[1;33m                 \u001b[1;32mraise\u001b[0m \u001b[0mValueError\u001b[0m\u001b[1;33m(\u001b[0m\u001b[1;34mf\"Missing required fields: {missing_fields}\"\u001b[0m\u001b[1;33m)\u001b[0m\u001b[1;33m\u001b[0m\u001b[1;33m\u001b[0m\u001b[0m\n\u001b[0m\u001b[0;32m     11\u001b[0m             \u001b[1;32mreturn\u001b[0m \u001b[0mfunc\u001b[0m\u001b[1;33m(\u001b[0m\u001b[0minput_data\u001b[0m\u001b[1;33m,\u001b[0m \u001b[1;33m*\u001b[0m\u001b[0margs\u001b[0m\u001b[1;33m,\u001b[0m \u001b[1;33m**\u001b[0m\u001b[0mkwargs\u001b[0m\u001b[1;33m)\u001b[0m\u001b[1;33m\u001b[0m\u001b[1;33m\u001b[0m\u001b[0m\n\u001b[0;32m     12\u001b[0m         \u001b[1;32mreturn\u001b[0m \u001b[0mwrapper\u001b[0m\u001b[1;33m\u001b[0m\u001b[1;33m\u001b[0m\u001b[0m\n",
      "\u001b[1;31mValueError\u001b[0m: Missing required fields: ['email']"
     ]
    }
   ],
   "source": [
    "@validate_schema(required_fields=[\"id\", \"name\", \"email\"])\n",
    "def process_user_data(user: dict):\n",
    "    print(f\"Processing user: {user['name']} (ID: {user['id']})\")\n",
    "\n",
    "# Valid input (no error)\n",
    "user_ok = {\"id\": 1, \"name\": \"Alice\", \"email\": \"alice@example.com\"}\n",
    "process_user_data(user_ok)  # Output: \"Processing user: Alice (ID: 1)\"\n",
    "\n",
    "# Invalid input (raises error)\n",
    "user_bad = {\"id\": 2, \"name\": \"Bob\"}  # Missing \"email\"\n",
    "process_user_data(user_bad)  # Raises: ValueError: Missing required fields: ['email']"
   ]
  },
  {
   "cell_type": "markdown",
   "id": "a0e1fb6a",
   "metadata": {},
   "source": [
    "---\n",
    "\n",
    "### 9. **Field Sanitizer**\n",
    "\n",
    "**Description:**\n",
    "Write a decorator `sanitize_fields(fields_to_strip)` that **strips whitespaces** from the specified fields of an input dictionary.\n",
    "\n",
    "---"
   ]
  },
  {
   "cell_type": "code",
   "execution_count": 5,
   "id": "54c1bc60",
   "metadata": {},
   "outputs": [],
   "source": [
    "from functools import wraps\n",
    "from typing import List, Dict, Any\n",
    "\n",
    "def sanitize_fields(fields_to_strip: List[str]):\n",
    "    def decorator(func):\n",
    "        @wraps(func)\n",
    "        def wrapper(input_data: Dict[str, Any], *args, **kwargs):\n",
    "            # Create a copy to avoid modifying the original dict\n",
    "            sanitized_data = input_data.copy()\n",
    "            for field in fields_to_strip:\n",
    "                if field in sanitized_data and isinstance(sanitized_data[field], str):\n",
    "                    sanitized_data[field] = sanitized_data[field].strip()\n",
    "            return func(sanitized_data, *args, **kwargs)\n",
    "        return wrapper\n",
    "    return decorator"
   ]
  },
  {
   "cell_type": "code",
   "execution_count": 6,
   "id": "3d8f0161",
   "metadata": {},
   "outputs": [
    {
     "name": "stdout",
     "output_type": "stream",
     "text": [
      "Processed: {'name': 'Alice', 'email': 'alice@example.com', 'age': 25, 'notes': 'pending'}\n"
     ]
    }
   ],
   "source": [
    "@sanitize_fields(fields_to_strip=[\"name\", \"email\", \"notes\"])\n",
    "def process_data(data: dict):\n",
    "    print(f\"Processed: {data}\")\n",
    "\n",
    "# Input with whitespace\n",
    "raw_data = {\n",
    "    \"name\": \"  Alice  \",\n",
    "    \"email\": \" alice@example.com \",\n",
    "    \"age\": 25,\n",
    "    \"notes\": \"  pending   \"\n",
    "}\n",
    "\n",
    "process_data(raw_data)"
   ]
  },
  {
   "cell_type": "markdown",
   "id": "9ba5352d",
   "metadata": {},
   "source": [
    "---\n",
    "\n",
    "### 10. **ETL Step Metadata**\n",
    "\n",
    "**Description:**\n",
    "Write a decorator `add_metadata(pipeline_name)` that adds `pipeline_name` and `timestamp` to the output of a decorated ETL function.\n",
    "\n",
    "---"
   ]
  },
  {
   "cell_type": "code",
   "execution_count": 8,
   "id": "84b7365c",
   "metadata": {},
   "outputs": [],
   "source": [
    "from functools import wraps\n",
    "from datetime import datetime\n",
    "from typing import Any, Dict\n",
    "\n",
    "def add_metadata(pipeline_name: str):\n",
    "    def decorator(func):\n",
    "        @wraps(func)\n",
    "        def wrapper(*args, **kwargs) -> Dict[str, Any]:\n",
    "            \n",
    "            result = func(*args, **kwargs)\n",
    "            \n",
    "            \n",
    "            metadata = {\n",
    "                \"pipeline\": pipeline_name,\n",
    "                \"timestamp\": datetime.utcnow().isoformat() + \"Z\",  # ISO-8601 with UTC\n",
    "                \"data\": result  # Preserve original output\n",
    "            }\n",
    "            return metadata\n",
    "        return wrapper\n",
    "    return decorator"
   ]
  },
  {
   "cell_type": "code",
   "execution_count": 9,
   "id": "fe081f3e",
   "metadata": {},
   "outputs": [
    {
     "name": "stdout",
     "output_type": "stream",
     "text": [
      "{'pipeline': 'user_ingestion', 'timestamp': '2025-05-03T19:26:34.578337Z', 'data': [{'id': 1, 'name': 'Alice'}, {'id': 2, 'name': 'Bob'}]}\n"
     ]
    }
   ],
   "source": [
    "@add_metadata(pipeline_name=\"user_ingestion\")\n",
    "def extract_users(source: str) -> list:\n",
    "   \n",
    "    return [{\"id\": 1, \"name\": \"Alice\"}, {\"id\": 2, \"name\": \"Bob\"}]\n",
    "\n",
    "output = extract_users(\"database\")\n",
    "print(output)"
   ]
  },
  {
   "cell_type": "code",
   "execution_count": null,
   "id": "77aebb43",
   "metadata": {},
   "outputs": [],
   "source": []
  }
 ],
 "metadata": {
  "kernelspec": {
   "display_name": "Python 3 (ipykernel)",
   "language": "python",
   "name": "python3"
  },
  "language_info": {
   "codemirror_mode": {
    "name": "ipython",
    "version": 3
   },
   "file_extension": ".py",
   "mimetype": "text/x-python",
   "name": "python",
   "nbconvert_exporter": "python",
   "pygments_lexer": "ipython3",
   "version": "3.9.13"
  }
 },
 "nbformat": 4,
 "nbformat_minor": 5
}
