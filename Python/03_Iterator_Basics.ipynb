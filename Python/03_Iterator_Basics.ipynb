{
 "cells": [
  {
   "cell_type": "markdown",
   "id": "a4f66f5c",
   "metadata": {},
   "source": [
    "1. **Basic Iterator Creation**  \n",
    "   Write a function that creates an iterator from a list and prints all elements using `next()`.\n"
   ]
  },
  {
   "cell_type": "code",
   "execution_count": 7,
   "id": "d573b83a",
   "metadata": {},
   "outputs": [
    {
     "name": "stdout",
     "output_type": "stream",
     "text": [
      "1\n",
      "3\n",
      "4\n",
      "6\n",
      "7\n"
     ]
    }
   ],
   "source": [
    "def iterator_func(num):\n",
    "    #print(dir(num))\n",
    "    iterator = iter(num)\n",
    "    print(next(iterator))\n",
    "    print(next(iterator))\n",
    "    print(next(iterator))\n",
    "    print(next(iterator))\n",
    "    print(next(iterator))1. **Basic Iterator Creation**  \n",
    "   Write a function that creates an iterator from a list and prints all elements using `next()`.\n",
    "\n",
    "\n",
    "num = [1,3,4,6,7]\n",
    "\n",
    "iterator_func(num)"
   ]
  },
  {
   "cell_type": "markdown",
   "id": "8585e028",
   "metadata": {},
   "source": [
    "2. **Manual Iteration with `StopIteration`**  \n",
    "   Create an iterator from a list, and manually iterate using a `while` loop that catches `StopIteration`."
   ]
  },
  {
   "cell_type": "code",
   "execution_count": 8,
   "id": "2c425eb2",
   "metadata": {},
   "outputs": [
    {
     "name": "stdout",
     "output_type": "stream",
     "text": [
      "1\n",
      "3\n",
      "4\n",
      "6\n",
      "7\n"
     ]
    }
   ],
   "source": [
    "def iterator_func(nums):\n",
    "    iterator = iter(nums)\n",
    "    \n",
    "    while True:\n",
    "        try:\n",
    "            print(next(iterator))\n",
    "        except StopIteration:\n",
    "            return\n",
    " \n",
    "num = [1,3,4,6,7]\n",
    "\n",
    "iterator_func(num)"
   ]
  },
  {
   "cell_type": "markdown",
   "id": "0ba79257",
   "metadata": {},
   "source": [
    "3. **Custom Iterator - Count Down**  \n",
    "   Create a class `Countdown` that counts down from a given number to zero using the iterator protocol."
   ]
  },
  {
   "cell_type": "code",
   "execution_count": 18,
   "id": "8b600d54",
   "metadata": {},
   "outputs": [
    {
     "name": "stdout",
     "output_type": "stream",
     "text": [
      "5\n",
      "4\n",
      "3\n",
      "2\n",
      "1\n",
      "0\n"
     ]
    }
   ],
   "source": [
    "class countdown:\n",
    "    def __init__(self,start):\n",
    "        self.start = start\n",
    "        \n",
    "    def __iter__(self):\n",
    "        return self\n",
    "    \n",
    "    def __next__(self):\n",
    "        if self.start < 0:\n",
    "            raise StopIteration\n",
    "        val = self.start\n",
    "        self.start -= 1\n",
    "        return val\n",
    "    \n",
    "    \n",
    "num = countdown(5)\n",
    "iterator = iter(num)\n",
    "\n",
    "while True:\n",
    "    try:\n",
    "        print(next(iterator))\n",
    "    except StopIteration:\n",
    "        break\n",
    "\n"
   ]
  },
  {
   "cell_type": "code",
   "execution_count": null,
   "id": "388b34b0",
   "metadata": {},
   "outputs": [],
   "source": []
  },
  {
   "cell_type": "code",
   "execution_count": 12,
   "id": "312c8a9d",
   "metadata": {},
   "outputs": [
    {
     "name": "stdout",
     "output_type": "stream",
     "text": [
      "5\n",
      "4\n",
      "3\n",
      "2\n",
      "1\n"
     ]
    },
    {
     "data": {
      "text/plain": [
       "<__main__.num at 0x2b443821ac0>"
      ]
     },
     "execution_count": 12,
     "metadata": {},
     "output_type": "execute_result"
    }
   ],
   "source": [
    "class num:\n",
    "    def __init__(self,number):\n",
    "        self.number = number\n",
    "        for val in self:\n",
    "            print(val)\n",
    "    def __iter__(self):\n",
    "        return Countdown(self.number)\n",
    "        \n",
    "\n",
    "class Countdown:\n",
    "    def __init__(self, start):\n",
    "        self.current = start\n",
    "\n",
    "    def __iter__(self):\n",
    "        return self\n",
    "\n",
    "    def __next__(self):\n",
    "        if self.current == 0:\n",
    "            raise StopIteration\n",
    "        val = self.current\n",
    "        self.current -= 1\n",
    "        return val\n",
    "        \n",
    "        \n",
    "num(5)"
   ]
  },
  {
   "cell_type": "markdown",
   "id": "48e1336c",
   "metadata": {},
   "source": [
    "Execution order:\n",
    "    \n",
    "    num(5)\n",
    " └──> num.__init__(5)\n",
    " \n",
    "        └──> for val in self:\n",
    "        \n",
    "                └──> iter(self) → num.__iter__()\n",
    "                \n",
    "                        └──> return Countdown(5)\n",
    "                        \n",
    "                                └──> Countdown.__init__(5)\n",
    "                                \n",
    "                └──> next(iterator) → Countdown.__next__()\n",
    "                \n",
    "                        └──> return current number (and decrement)\n",
    "                        \n",
    "                └──> print(val)\n",
    "                \n",
    "                ⬆ repeat until StopIteration\n"
   ]
  },
  {
   "cell_type": "markdown",
   "id": "31789652",
   "metadata": {},
   "source": [
    "4. **Custom Iterator with `for` loop Compatibility**  \n",
    "   Modify your `Countdown` class to work with a `for` loop directly."
   ]
  },
  {
   "cell_type": "markdown",
   "id": "a433c48a",
   "metadata": {},
   "source": [
    "5 **Check If an Object is Iterable**\n",
    "- Write a function that checks if a given object is iterable or not.\n",
    "    (Hint: Use collections.abc.Iterable.)"
   ]
  },
  {
   "cell_type": "code",
   "execution_count": 2,
   "id": "2577981c",
   "metadata": {},
   "outputs": [
    {
     "name": "stdout",
     "output_type": "stream",
     "text": [
      "True\n",
      "True\n",
      "False\n",
      "True\n",
      "False\n"
     ]
    }
   ],
   "source": [
    "from collections.abc import Iterable\n",
    "\n",
    "\n",
    "def is_iterable(obj):\n",
    "    return isinstance(obj,Iterable)\n",
    "\n",
    "\n",
    "print(is_iterable([1, 2, 3]))        \n",
    "print(is_iterable(\"Hello\"))         \n",
    "print(is_iterable(42))               \n",
    "print(is_iterable((x for x in range(5)))) \n",
    "print(is_iterable(None))            "
   ]
  },
  {
   "cell_type": "markdown",
   "id": "ec9f19fc",
   "metadata": {},
   "source": [
    "\n",
    "**6 Iterate Over Dictionary Keys, Values, and Items**  \n",
    "Given a dictionary, write three loops:\n",
    "- One to iterate over **keys**.\n",
    "- One to iterate over **values**.\n",
    "- One to iterate over **key-value pairs** using an iterator."
   ]
  },
  {
   "cell_type": "code",
   "execution_count": 4,
   "id": "0580d706",
   "metadata": {},
   "outputs": [],
   "source": [
    "info = {\n",
    "    \"name\": \"Mahbub\",\n",
    "    \"age\" : 26,\n",
    "    \"Area\": \"Narayanganj\"\n",
    "}"
   ]
  },
  {
   "cell_type": "code",
   "execution_count": 10,
   "id": "d6fbccff",
   "metadata": {},
   "outputs": [
    {
     "name": "stdout",
     "output_type": "stream",
     "text": [
      "Dictionary_Keys\n",
      "name\n",
      "age\n",
      "Area\n",
      "Dictionary_Values\n",
      "Mahbub\n",
      "26\n",
      "Narayanganj\n",
      "Dictionary Key-Value Pairs\n",
      "('name', 'Mahbub')\n",
      "('age', 26)\n",
      "('Area', 'Narayanganj')\n"
     ]
    }
   ],
   "source": [
    "def dictionary_iteration(iterator):\n",
    "    while True:\n",
    "        try:\n",
    "            val = next(iterator)\n",
    "            print(val)\n",
    "        except StopIteration:\n",
    "            break\n",
    "\n",
    "            \n",
    "print('Dictionary_Keys')\n",
    "dictionary_iteration(iter(info.keys()))\n",
    "print('Dictionary_Values')\n",
    "dictionary_iteration(iter(info.values()))\n",
    "print('Dictionary Key-Value Pairs')\n",
    "dictionary_iteration(iter(info.items()))"
   ]
  },
  {
   "cell_type": "markdown",
   "id": "23ee47d1",
   "metadata": {},
   "source": [
    "**7 Convert String to Iterator and Print Characters**  \n",
    "- Write a Python function that takes a string, converts it to an iterator, and prints each character using `next()` until the string ends.\n"
   ]
  },
  {
   "cell_type": "code",
   "execution_count": 11,
   "id": "3a3a1362",
   "metadata": {},
   "outputs": [
    {
     "name": "stdout",
     "output_type": "stream",
     "text": [
      "I\n",
      "a\n",
      "m\n",
      "F\n",
      "a\n",
      "i\n",
      "s\n",
      "a\n",
      "l\n"
     ]
    }
   ],
   "source": [
    "def string_iteration(text):\n",
    "    iterator = iter(text)\n",
    "    \n",
    "    while True:\n",
    "        try:\n",
    "            val = next(iterator)\n",
    "            print(val)\n",
    "        except StopIteration:\n",
    "            break\n",
    "            \n",
    "            \n",
    "text = 'IamFaisal'\n",
    "\n",
    "string_iteration(text)\n",
    "        "
   ]
  },
  {
   "cell_type": "markdown",
   "id": "7fde87b7",
   "metadata": {},
   "source": [
    "**8 Infinite Counter Iterator (Using itertools.count)**  \n",
    "- Write a script that uses `itertools.count(start, step)` to create an infinite counter and prints the first 10 numbers.\n"
   ]
  },
  {
   "cell_type": "code",
   "execution_count": 13,
   "id": "46e49ee5",
   "metadata": {},
   "outputs": [
    {
     "name": "stdout",
     "output_type": "stream",
     "text": [
      "1\n",
      "3\n",
      "5\n",
      "7\n",
      "9\n"
     ]
    }
   ],
   "source": [
    "import itertools\n",
    "\n",
    "counter = itertools.count(start=1,step=2)\n",
    "val = next(counter)\n",
    "\n",
    "while val<=10 :\n",
    "    print(val)\n",
    "    val = next(counter)\n",
    "    "
   ]
  },
  {
   "cell_type": "markdown",
   "id": "e21dfe6e",
   "metadata": {},
   "source": [
    "**9 Custom Range Iterator**  "
   ]
  },
  {
   "cell_type": "code",
   "execution_count": 14,
   "id": "65575489",
   "metadata": {},
   "outputs": [],
   "source": [
    "class custom_range:\n",
    "    def __init__(self,start,end):\n",
    "        self.start = start\n",
    "        self.end = end\n",
    "        \n",
    "    def __iter__(self):\n",
    "        return custom_range_iterator(self)"
   ]
  },
  {
   "cell_type": "code",
   "execution_count": 15,
   "id": "adb4c8ed",
   "metadata": {},
   "outputs": [
    {
     "name": "stdout",
     "output_type": "stream",
     "text": [
      "1\n",
      "2\n",
      "3\n",
      "4\n",
      "5\n",
      "6\n",
      "7\n",
      "8\n",
      "9\n",
      "10\n"
     ]
    }
   ],
   "source": [
    "class custom_range_iterator:\n",
    "    def __init__(self,iterable_obj):\n",
    "        self.iterable = iterable_obj\n",
    "        \n",
    "    def __iter__(self):\n",
    "        return self\n",
    "    \n",
    "    def __next__(self):\n",
    "        if self.iterable.start >= self.iterable.end:\n",
    "            raise StopIteration\n",
    "            \n",
    "        current = self.iterable.start\n",
    "        self.iterable.start += 1\n",
    "        return current\n",
    "    \n",
    "    \n",
    "\n",
    "for i in custom_range(1,11):\n",
    "    print(i)\n",
    "        \n",
    "        "
   ]
  },
  {
   "cell_type": "code",
   "execution_count": null,
   "id": "9f02d4c1",
   "metadata": {},
   "outputs": [],
   "source": []
  }
 ],
 "metadata": {
  "kernelspec": {
   "display_name": "Python 3 (ipykernel)",
   "language": "python",
   "name": "python3"
  },
  "language_info": {
   "codemirror_mode": {
    "name": "ipython",
    "version": 3
   },
   "file_extension": ".py",
   "mimetype": "text/x-python",
   "name": "python",
   "nbconvert_exporter": "python",
   "pygments_lexer": "ipython3",
   "version": "3.9.13"
  }
 },
 "nbformat": 4,
 "nbformat_minor": 5
}
