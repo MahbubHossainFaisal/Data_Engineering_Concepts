{
 "cells": [
  {
   "cell_type": "markdown",
   "id": "c466b88c",
   "metadata": {},
   "source": [
    "---\n",
    "\n",
    "### 1. **Basic Logger**\n",
    "\n",
    "**Description:**\n",
    "Write a function decorator `log_run` that prints `Running <function_name>` before the function runs and `Finished <function_name>` after it completes.\n",
    "\n",
    "---"
   ]
  },
  {
   "cell_type": "code",
   "execution_count": 21,
   "id": "55da4d56",
   "metadata": {},
   "outputs": [],
   "source": [
    "\n",
    "def log_run(func):\n",
    "    def wrapper(*args, **kwargs):\n",
    "        print(f'Running {func.__name__}')\n",
    "        result = func(*args, **kwargs)\n",
    "        print(f'Finished {func.__name__}')\n",
    "        return result\n",
    "    return wrapper\n",
    "    \n",
    "@log_run\n",
    "def name():\n",
    "    print('My name is Mahbub')\n"
   ]
  },
  {
   "cell_type": "code",
   "execution_count": 4,
   "id": "50dbdd7f",
   "metadata": {},
   "outputs": [
    {
     "name": "stdout",
     "output_type": "stream",
     "text": [
      "Running name\n",
      "My name is Mahbub\n",
      "Finished name\n"
     ]
    }
   ],
   "source": [
    "name()"
   ]
  },
  {
   "cell_type": "markdown",
   "id": "ef521a5f",
   "metadata": {},
   "source": [
    "### *args VS **kwargs"
   ]
  },
  {
   "cell_type": "markdown",
   "id": "3b7d9037",
   "metadata": {},
   "source": [
    "Both `*args` and `**kwargs` are used in Python to handle variable numbers of arguments in functions, but they serve different purposes:\n",
    "\n",
    "### **1. `*args` (Non-Keyword Arguments)**\n",
    "- Stands for **\"arguments\"** (you can use any name after `*`, but `args` is the convention).\n",
    "- Used to pass a **variable number of positional arguments** to a function.\n",
    "- Collects extra positional arguments into a **tuple**.\n",
    "\n",
    "#### **Example:**\n",
    "```python\n",
    "def sum_numbers(*args):\n",
    "    total = 0\n",
    "    for num in args:\n",
    "        total += num\n",
    "    return total\n",
    "\n",
    "print(sum_numbers(1, 2, 3))  # Output: 6\n",
    "print(sum_numbers(10, 20))    # Output: 30\n",
    "```\n",
    "- Inside the function, `args` is a **tuple** containing all extra positional arguments.\n",
    "\n",
    "---\n",
    "\n",
    "### **2. `**kwargs` (Keyword Arguments)**\n",
    "- Stands for **\"keyword arguments\"** (again, any name works, but `kwargs` is standard).\n",
    "- Used to pass a **variable number of keyword arguments** (like `name=\"Alice\"`).\n",
    "- Collects extra keyword arguments into a **dictionary**.\n",
    "\n",
    "#### **Example:**\n",
    "```python\n",
    "def print_info(**kwargs):\n",
    "    for key, value in kwargs.items():\n",
    "        print(f\"{key}: {value}\")\n",
    "\n",
    "print_info(name=\"Alice\", age=25, city=\"New York\")\n",
    "```\n",
    "**Output:**\n",
    "```\n",
    "name: Alice\n",
    "age: 25\n",
    "city: New York\n",
    "```\n",
    "- Inside the function, `kwargs` is a **dictionary** containing all extra keyword arguments.\n",
    "\n",
    "---\n",
    "\n",
    "### **Key Differences**\n",
    "| Feature       | `*args` | `**kwargs` |\n",
    "|--------------|---------|------------|\n",
    "| **Purpose**  | Handles extra positional arguments | Handles extra keyword arguments |\n",
    "| **Type**     | Collects into a **tuple** | Collects into a **dictionary** |\n",
    "| **Usage**    | `func(1, 2, 3)` → `args = (1, 2, 3)` | `func(a=1, b=2)` → `kwargs = {'a':1, 'b':2}` |\n",
    "| **Syntax**   | `def func(*args)` | `def func(**kwargs)` |\n",
    "\n",
    "---\n",
    "\n",
    "### **When to Use Both Together?**\n",
    "You can combine them to accept any mix of arguments:\n",
    "```python\n",
    "def example_function(arg1, arg2, *args, **kwargs):\n",
    "    print(\"Fixed args:\", arg1, arg2)\n",
    "    print(\"Extra positional args (tuple):\", args)\n",
    "    print(\"Extra keyword args (dict):\", kwargs)\n",
    "\n",
    "example_function(10, 20, 30, 40, name=\"Bob\", age=30)\n",
    "```\n",
    "**Output:**\n",
    "```\n",
    "Fixed args: 10 20\n",
    "Extra positional args (tuple): (30, 40)\n",
    "Extra keyword args (dict): {'name': 'Bob', 'age': 30}\n",
    "```\n",
    "\n",
    "### **Summary**\n",
    "- `*args` → For **variable positional arguments** (stored in a **tuple**).\n",
    "- `**kwargs` → For **variable keyword arguments** (stored in a **dictionary**).\n",
    "- Both make functions more flexible when you don’t know the exact number of arguments in advance.\n",
    "\n",
    "Would you like a practical example where both are used in a decorator? 😊"
   ]
  },
  {
   "cell_type": "markdown",
   "id": "64a1cd41",
   "metadata": {},
   "source": [
    "---\n",
    "\n",
    "### 2. **Execution Timer**\n",
    "\n",
    "**Description:**\n",
    "Create a decorator `time_it` that calculates and prints the **execution time** of a function simulating a time-consuming data operation.\n",
    "\n",
    "---"
   ]
  },
  {
   "cell_type": "code",
   "execution_count": 7,
   "id": "367abb34",
   "metadata": {},
   "outputs": [
    {
     "name": "stdout",
     "output_type": "stream",
     "text": [
      "Function 'simulate_data_operation' took 0.3147 seconds to run.\n"
     ]
    },
    {
     "data": {
      "text/plain": [
       "1000000"
      ]
     },
     "execution_count": 7,
     "metadata": {},
     "output_type": "execute_result"
    }
   ],
   "source": [
    "import time\n",
    "\n",
    "def time_it(func):\n",
    "    def wrapper(*args, **kwargs):\n",
    "        start_time = time.time()  \n",
    "        result = func(*args, **kwargs)  \n",
    "        end_time = time.time()  \n",
    "        elapsed_time = end_time - start_time  \n",
    "        print(f\"Function '{func.__name__}' took {elapsed_time:.4f} seconds to run.\")\n",
    "        return result\n",
    "    return wrapper\n",
    "\n",
    "\n",
    "@time_it\n",
    "def simulate_data_operation(size):\n",
    "    data = [i ** 2 for i in range(size)]  \n",
    "    return len(data)\n",
    "\n",
    "# Test\n",
    "simulate_data_operation(1_000_000)  "
   ]
  },
  {
   "cell_type": "markdown",
   "id": "44d78f7a",
   "metadata": {},
   "source": [
    "---\n",
    "\n",
    "### 3. **Ignore None Returns**\n",
    "\n",
    "**Description:**\n",
    "Write a decorator `skip_if_none` that **skips execution** if any argument passed to the function is `None`.\n",
    "\n",
    "---"
   ]
  },
  {
   "cell_type": "code",
   "execution_count": 12,
   "id": "fd1c407e",
   "metadata": {},
   "outputs": [],
   "source": [
    "def skip_if_none(func):\n",
    "    def wrapper(*args, **kwargs):\n",
    "        if any(arg is None for arg in args):\n",
    "            print(f\"Skipping '{func.__name__}': Positional argument is None.\")\n",
    "            return None\n",
    "        \n",
    "        if any(value is None for value in kwargs.values()):\n",
    "            print(f\"Skipping '{func.__name__}': Keyword argument is None.\")\n",
    "            return None\n",
    "        \n",
    "        return func(*args, **kwargs)\n",
    "    return wrapper\n",
    "\n",
    "\n",
    "@skip_if_none\n",
    "def process_data(data, prefix=\"\", suffix=\"\"):\n",
    "    \n",
    "    return f\"{prefix}{data}{suffix}\"\n",
    "\n"
   ]
  },
  {
   "cell_type": "code",
   "execution_count": 13,
   "id": "fb3066d5",
   "metadata": {},
   "outputs": [
    {
     "name": "stdout",
     "output_type": "stream",
     "text": [
      "Hello\n",
      "[ Hello\n",
      "Skipping 'process_data': Positional argument is None.\n",
      "None\n",
      "Skipping 'process_data': Keyword argument is None.\n",
      "None\n"
     ]
    }
   ],
   "source": [
    "print(process_data(\"Hello\"))                  \n",
    "print(process_data(\"Hello\", prefix=\"[ \"))      \n",
    "print(process_data(None))                      \n",
    "print(process_data(\"Hi\", suffix=None))        "
   ]
  },
  {
   "cell_type": "code",
   "execution_count": 18,
   "id": "9236983e",
   "metadata": {},
   "outputs": [],
   "source": [
    "def safe_run(func):\n",
    "    def wrapper(*args, **kwargs):\n",
    "        try:\n",
    "            return func(*args, **kwargs)  \n",
    "        except Exception as e:\n",
    "            print(f\"Exception occurred in '{func.__name__}': {str(e)}\")\n",
    "            return -1  \n",
    "    return wrapper\n",
    "\n",
    "\n",
    "@safe_run\n",
    "def risky_operation(x, y):\n",
    "    return x / y \n",
    "\n"
   ]
  },
  {
   "cell_type": "code",
   "execution_count": 20,
   "id": "6882c695",
   "metadata": {},
   "outputs": [
    {
     "name": "stdout",
     "output_type": "stream",
     "text": [
      "5.0\n",
      "Exception occurred in 'risky_operation': division by zero\n",
      "-1\n"
     ]
    }
   ],
   "source": [
    "\n",
    "print(risky_operation(10, 2))   \n",
    "print(risky_operation(10, 0))   "
   ]
  },
  {
   "cell_type": "markdown",
   "id": "d86c32ce",
   "metadata": {},
   "source": [
    "---\n",
    "\n",
    "### 5. **Retry Decorator (Fixed Attempts)**\n",
    "\n",
    "**Description:**\n",
    "Create a `retry` decorator that **retries a failing function 3 times** (simulate transient DB/network issues).\n",
    "\n",
    "---"
   ]
  },
  {
   "cell_type": "code",
   "execution_count": 2,
   "id": "7609a23e",
   "metadata": {},
   "outputs": [
    {
     "name": "stdout",
     "output_type": "stream",
     "text": [
      " Attempt 1/3 failed: Database connection failed!. Retrying in 1s...\n",
      " Attempt 2/3 failed: Database connection failed!. Retrying in 2s...\n"
     ]
    },
    {
     "ename": "ConnectionError",
     "evalue": "Database connection failed!",
     "output_type": "error",
     "traceback": [
      "\u001b[1;31m---------------------------------------------------------------------------\u001b[0m",
      "\u001b[1;31mConnectionError\u001b[0m                           Traceback (most recent call last)",
      "\u001b[1;32m~\\AppData\\Local\\Temp\\ipykernel_17848\\3377008692.py\u001b[0m in \u001b[0;36m<module>\u001b[1;34m\u001b[0m\n\u001b[0;32m     31\u001b[0m \u001b[1;33m\u001b[0m\u001b[0m\n\u001b[0;32m     32\u001b[0m \u001b[1;31m# Test\u001b[0m\u001b[1;33m\u001b[0m\u001b[1;33m\u001b[0m\u001b[0m\n\u001b[1;32m---> 33\u001b[1;33m \u001b[0mprint\u001b[0m\u001b[1;33m(\u001b[0m\u001b[0mconnect_to_database\u001b[0m\u001b[1;33m(\u001b[0m\u001b[1;33m)\u001b[0m\u001b[1;33m)\u001b[0m\u001b[1;33m\u001b[0m\u001b[1;33m\u001b[0m\u001b[0m\n\u001b[0m",
      "\u001b[1;32m~\\AppData\\Local\\Temp\\ipykernel_17848\\3377008692.py\u001b[0m in \u001b[0;36mwrapper\u001b[1;34m(*args, **kwargs)\u001b[0m\n\u001b[0;32m     11\u001b[0m             \u001b[1;32mwhile\u001b[0m \u001b[0mattempt\u001b[0m \u001b[1;33m<=\u001b[0m \u001b[0mmax_attempts\u001b[0m\u001b[1;33m:\u001b[0m\u001b[1;33m\u001b[0m\u001b[1;33m\u001b[0m\u001b[0m\n\u001b[0;32m     12\u001b[0m                 \u001b[1;32mtry\u001b[0m\u001b[1;33m:\u001b[0m\u001b[1;33m\u001b[0m\u001b[1;33m\u001b[0m\u001b[0m\n\u001b[1;32m---> 13\u001b[1;33m                     \u001b[1;32mreturn\u001b[0m \u001b[0mfunc\u001b[0m\u001b[1;33m(\u001b[0m\u001b[1;33m*\u001b[0m\u001b[0margs\u001b[0m\u001b[1;33m,\u001b[0m \u001b[1;33m**\u001b[0m\u001b[0mkwargs\u001b[0m\u001b[1;33m)\u001b[0m\u001b[1;33m\u001b[0m\u001b[1;33m\u001b[0m\u001b[0m\n\u001b[0m\u001b[0;32m     14\u001b[0m                 \u001b[1;32mexcept\u001b[0m \u001b[0mException\u001b[0m \u001b[1;32mas\u001b[0m \u001b[0me\u001b[0m\u001b[1;33m:\u001b[0m\u001b[1;33m\u001b[0m\u001b[1;33m\u001b[0m\u001b[0m\n\u001b[0;32m     15\u001b[0m                     \u001b[1;32mif\u001b[0m \u001b[0mattempt\u001b[0m \u001b[1;33m==\u001b[0m \u001b[0mmax_attempts\u001b[0m\u001b[1;33m:\u001b[0m\u001b[1;33m\u001b[0m\u001b[1;33m\u001b[0m\u001b[0m\n",
      "\u001b[1;32m~\\AppData\\Local\\Temp\\ipykernel_17848\\3377008692.py\u001b[0m in \u001b[0;36mconnect_to_database\u001b[1;34m()\u001b[0m\n\u001b[0;32m     27\u001b[0m     \u001b[1;32mimport\u001b[0m \u001b[0mrandom\u001b[0m\u001b[1;33m\u001b[0m\u001b[1;33m\u001b[0m\u001b[0m\n\u001b[0;32m     28\u001b[0m     \u001b[1;32mif\u001b[0m \u001b[0mrandom\u001b[0m\u001b[1;33m.\u001b[0m\u001b[0mrandom\u001b[0m\u001b[1;33m(\u001b[0m\u001b[1;33m)\u001b[0m \u001b[1;33m<\u001b[0m \u001b[1;36m0.7\u001b[0m\u001b[1;33m:\u001b[0m  \u001b[1;31m# 70% chance of failure\u001b[0m\u001b[1;33m\u001b[0m\u001b[1;33m\u001b[0m\u001b[0m\n\u001b[1;32m---> 29\u001b[1;33m         \u001b[1;32mraise\u001b[0m \u001b[0mConnectionError\u001b[0m\u001b[1;33m(\u001b[0m\u001b[1;34m\"Database connection failed!\"\u001b[0m\u001b[1;33m)\u001b[0m\u001b[1;33m\u001b[0m\u001b[1;33m\u001b[0m\u001b[0m\n\u001b[0m\u001b[0;32m     30\u001b[0m     \u001b[1;32mreturn\u001b[0m \u001b[1;34m\"Connected successfully!\"\u001b[0m\u001b[1;33m\u001b[0m\u001b[1;33m\u001b[0m\u001b[0m\n\u001b[0;32m     31\u001b[0m \u001b[1;33m\u001b[0m\u001b[0m\n",
      "\u001b[1;31mConnectionError\u001b[0m: Database connection failed!"
     ]
    }
   ],
   "source": [
    "import time\n",
    "from functools import wraps\n",
    "\n",
    "def retry(max_attempts=3, delay=1, backoff=2):\n",
    "    \n",
    "    def decorator(func):\n",
    "        @wraps(func)  # Preserves function metadata (e.g., __name__, docstring)\n",
    "        def wrapper(*args, **kwargs):\n",
    "            attempt = 1\n",
    "            current_delay = delay\n",
    "            while attempt <= max_attempts:\n",
    "                try:\n",
    "                    return func(*args, **kwargs)\n",
    "                except Exception as e:\n",
    "                    if attempt == max_attempts:\n",
    "                        raise  \n",
    "                    print(f\" Attempt {attempt}/{max_attempts} failed: {str(e)}. Retrying in {current_delay}s...\")\n",
    "                    time.sleep(current_delay)\n",
    "                    current_delay *= backoff  \n",
    "                    attempt += 1\n",
    "        return wrapper\n",
    "    return decorator\n",
    "\n",
    "\n",
    "@retry(max_attempts=3, delay=1, backoff=2)\n",
    "def connect_to_database():\n",
    "    import random\n",
    "    if random.random() < 0.7:  # 70% chance of failure\n",
    "        raise ConnectionError(\"Database connection failed!\")\n",
    "    return \"Connected successfully!\"\n",
    "\n",
    "# Test\n",
    "print(connect_to_database())  "
   ]
  },
  {
   "cell_type": "code",
   "execution_count": null,
   "id": "8bcb1efd",
   "metadata": {},
   "outputs": [],
   "source": []
  }
 ],
 "metadata": {
  "kernelspec": {
   "display_name": "Python 3 (ipykernel)",
   "language": "python",
   "name": "python3"
  },
  "language_info": {
   "codemirror_mode": {
    "name": "ipython",
    "version": 3
   },
   "file_extension": ".py",
   "mimetype": "text/x-python",
   "name": "python",
   "nbconvert_exporter": "python",
   "pygments_lexer": "ipython3",
   "version": "3.9.13"
  }
 },
 "nbformat": 4,
 "nbformat_minor": 5
}
